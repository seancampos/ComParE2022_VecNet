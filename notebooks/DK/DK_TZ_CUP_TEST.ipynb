{
 "cells": [
  {
   "cell_type": "code",
   "execution_count": 1,
   "id": "1d917cde",
   "metadata": {},
   "outputs": [
    {
     "data": {
      "text/html": [
       "<style type='text/css'>\n",
       ".CodeMirror{\n",
       "font-size: 14px;\n",
       "</style>\n",
       "CUDA_LAUNCH_BLOCKING=1\n"
      ],
      "text/plain": [
       "<IPython.core.display.HTML object>"
      ]
     },
     "metadata": {},
     "output_type": "display_data"
    }
   ],
   "source": [
    "%%html\n",
    "<style type='text/css'>\n",
    ".CodeMirror{\n",
    "font-size: 14px;\n",
    "</style>\n",
    "CUDA_LAUNCH_BLOCKING=1"
   ]
  },
  {
   "cell_type": "code",
   "execution_count": 2,
   "id": "c579a520",
   "metadata": {},
   "outputs": [],
   "source": [
    "# I had to find the right version of pytorch with the widget here https://pytorch.org/\n",
    "# I *think* this will work with AWS\n",
    "#!pip3 install torch==1.11.0+cu113 torchvision==0.12.0+cu113 torchaudio==0.11.0+cu113 -f https://download.pytorch.org/whl/cu113/torch_stable.html"
   ]
  },
  {
   "cell_type": "code",
   "execution_count": 3,
   "id": "5f3b48f7",
   "metadata": {},
   "outputs": [],
   "source": [
    "# other dependencies\n",
    "#!pip install timm ipywidgets"
   ]
  },
  {
   "cell_type": "code",
   "execution_count": 4,
   "id": "83ad832f",
   "metadata": {},
   "outputs": [],
   "source": [
    "## nnAudio\n",
    "#!pip install git+https://github.com/KinWaiCheuk/nnAudio.git#subdirectory=Installation"
   ]
  },
  {
   "cell_type": "markdown",
   "id": "d04a3f6e",
   "metadata": {},
   "source": [
    "### 1 Import the kitchen sink"
   ]
  },
  {
   "cell_type": "code",
   "execution_count": 5,
   "id": "19386067",
   "metadata": {},
   "outputs": [
    {
     "name": "stdout",
     "output_type": "stream",
     "text": [
      "env: CUBLAS_WORKSPACE_CONFIG=:4096:8\n"
     ]
    }
   ],
   "source": [
    "%env CUBLAS_WORKSPACE_CONFIG=:4096:8"
   ]
  },
  {
   "cell_type": "code",
   "execution_count": 6,
   "id": "ec2a6f03",
   "metadata": {},
   "outputs": [],
   "source": [
    "# humbug main imports\n",
    "\n",
    "import os\n",
    "import pandas as pd\n",
    "import sys\n",
    "sys.path.insert(0, os.path.abspath('../lib'))\n",
    "import config\n",
    "from evaluate import get_results\n",
    "import numpy as np\n",
    "\n",
    "# Troubleshooting and visualisation\n",
    "import IPython.display as ipd\n"
   ]
  },
  {
   "cell_type": "code",
   "execution_count": 7,
   "id": "b4591ec6",
   "metadata": {},
   "outputs": [],
   "source": [
    "# humbug lib imports\n",
    "from sklearn.metrics import accuracy_score\n",
    "from PyTorch import config_pytorch\n",
    "from datetime import datetime\n",
    "import math\n",
    "import pickle\n",
    "\n",
    "from torch.utils.data import TensorDataset, DataLoader\n",
    "import torch.nn.functional as F\n",
    "import torch.nn as nn\n",
    "import torch\n",
    "import torch.optim as optim\n",
    "import numpy as np\n",
    "from sklearn.metrics import accuracy_score\n",
    "from datetime import datetime\n",
    "import os\n",
    "import time\n",
    "\n",
    "import matplotlib\n",
    "import matplotlib.pyplot as plt\n",
    "import sklearn\n",
    "from sklearn.metrics import confusion_matrix, classification_report\n",
    "from sklearn.metrics import precision_recall_curve, plot_precision_recall_curve\n",
    "from sklearn.metrics import average_precision_score\n",
    "import sys\n",
    "\n",
    "from tqdm.notebook import tqdm"
   ]
  },
  {
   "cell_type": "code",
   "execution_count": 8,
   "id": "3740e6ae",
   "metadata": {},
   "outputs": [],
   "source": [
    "# additional pytorch tools\n",
    "import random\n",
    "import torchaudio\n",
    "import torchaudio.transforms as T\n",
    "import torchvision.transforms as VT\n",
    "from torch.cuda.amp import autocast, GradScaler\n",
    "from timm.scheduler.cosine_lr import CosineLRScheduler\n",
    "import timm\n",
    "import timm.optim\n",
    "from timm.loss import BinaryCrossEntropy\n",
    "from timm.utils import NativeScaler\n",
    "from timm.models import model_parameters\n",
    "from glob import glob"
   ]
  },
  {
   "cell_type": "code",
   "execution_count": 9,
   "id": "c86b9d2d",
   "metadata": {},
   "outputs": [],
   "source": [
    "## nnAudio\n",
    "from nnAudio import features\n",
    "from torch.utils.data.sampler import SubsetRandomSampler\n",
    "from torch.utils.data import Dataset, DataLoader"
   ]
  },
  {
   "cell_type": "code",
   "execution_count": 10,
   "id": "924f7bc3",
   "metadata": {},
   "outputs": [],
   "source": [
    "#Global Training variables \n",
    "num_workers=4\n",
    "pin_memory=True\n",
    "#train_size = 100\n",
    "batch_size = 128\n",
    "test_batch_size = 128\n",
    "DEBUG = False\n",
    "num_epochs = 100"
   ]
  },
  {
   "cell_type": "markdown",
   "id": "196e624a",
   "metadata": {},
   "source": [
    "### Run all these function definition cells\n",
    "These have been extracted from the lib folder and are here to make them more easily editable.  Most of the action happens in *get_feat_torch*, which does feature extraction and *train_model*"
   ]
  },
  {
   "cell_type": "code",
   "execution_count": 11,
   "id": "72068a3b",
   "metadata": {},
   "outputs": [],
   "source": [
    "def get_offsets_df(df, short_audio=False):\n",
    "    audio_offsets = []\n",
    "    min_length = config.win_size*config.NFFT/(((1/config.n_hop)*config.NFFT)*config.rate)\n",
    "    step_frac = config.step_size/config.win_size\n",
    "    for _,row in df.iterrows():\n",
    "        if row['length'] > min_length:\n",
    "            step_size = step_frac*min_length\n",
    "            audio_offsets.append({'id':row['id'], 'offset':0, 'length': row['length'],'specie_ind': row['specie_ind']})\n",
    "            for i in range(1, int((row['length']-min_length)//step_size)):\n",
    "                audio_offsets.append({'id': row['id'], 'offset':int(min_length+(i*step_size)*config.rate), 'length': row['length'],'specie_ind': row['specie_ind']})\n",
    "        elif short_audio:\n",
    "            audio_offsets.append({'id':row['id'], 'offset':0,'length': row['length'],'specie_ind': row['specie_ind']})\n",
    "    return pd.DataFrame(audio_offsets)       "
   ]
  },
  {
   "cell_type": "code",
   "execution_count": 12,
   "id": "1329a773",
   "metadata": {},
   "outputs": [],
   "source": [
    "classes = ['an arabiensis','culex pipiens complex', 'ae aegypti','an funestus ss','an squamosus',\n",
    "               'an coustani','ma uniformis','ma africanus' , 'others']\n",
    "classes_no_other = ['an arabiensis','culex pipiens complex', 'ae aegypti','an funestus ss','an squamosus',\n",
    "               'an coustani','ma uniformis','ma africanus' ]\n",
    "other_ind = classes.index('others')"
   ]
  },
  {
   "cell_type": "markdown",
   "id": "2295c784",
   "metadata": {},
   "source": [
    "### Read CSV and get train/test groups"
   ]
  },
  {
   "cell_type": "code",
   "execution_count": null,
   "id": "fc20b83b",
   "metadata": {},
   "outputs": [],
   "source": []
  },
  {
   "cell_type": "code",
   "execution_count": 13,
   "id": "d6ec1802",
   "metadata": {},
   "outputs": [
    {
     "data": {
      "text/html": [
       "<div>\n",
       "<style scoped>\n",
       "    .dataframe tbody tr th:only-of-type {\n",
       "        vertical-align: middle;\n",
       "    }\n",
       "\n",
       "    .dataframe tbody tr th {\n",
       "        vertical-align: top;\n",
       "    }\n",
       "\n",
       "    .dataframe thead th {\n",
       "        text-align: right;\n",
       "    }\n",
       "</style>\n",
       "<table border=\"1\" class=\"dataframe\">\n",
       "  <thead>\n",
       "    <tr style=\"text-align: right;\">\n",
       "      <th></th>\n",
       "      <th>id</th>\n",
       "      <th>length</th>\n",
       "      <th>name</th>\n",
       "      <th>sample_rate</th>\n",
       "      <th>record_datetime</th>\n",
       "      <th>sound_type</th>\n",
       "      <th>species</th>\n",
       "      <th>gender</th>\n",
       "      <th>fed</th>\n",
       "      <th>plurality</th>\n",
       "      <th>age</th>\n",
       "      <th>method</th>\n",
       "      <th>mic_type</th>\n",
       "      <th>device_type</th>\n",
       "      <th>country</th>\n",
       "      <th>district</th>\n",
       "      <th>province</th>\n",
       "      <th>place</th>\n",
       "      <th>location_type</th>\n",
       "    </tr>\n",
       "  </thead>\n",
       "  <tbody>\n",
       "    <tr>\n",
       "      <th>1</th>\n",
       "      <td>53</td>\n",
       "      <td>0.463456</td>\n",
       "      <td>CDC_Ae-aegypti_labelled_800.wav</td>\n",
       "      <td>8000</td>\n",
       "      <td>08-09-16 08:00</td>\n",
       "      <td>mosquito</td>\n",
       "      <td>ae aegypti</td>\n",
       "      <td>NaN</td>\n",
       "      <td>NaN</td>\n",
       "      <td>Single</td>\n",
       "      <td>NaN</td>\n",
       "      <td>NaN</td>\n",
       "      <td>phone</td>\n",
       "      <td>Alcatel 4009X</td>\n",
       "      <td>USA</td>\n",
       "      <td>Georgia</td>\n",
       "      <td>Atlanta</td>\n",
       "      <td>CDC insect cultures, Atlanta</td>\n",
       "      <td>culture</td>\n",
       "    </tr>\n",
       "    <tr>\n",
       "      <th>2</th>\n",
       "      <td>57</td>\n",
       "      <td>0.170249</td>\n",
       "      <td>CDC_Ae-aegypti_labelled_800.wav</td>\n",
       "      <td>8000</td>\n",
       "      <td>08-09-16 08:00</td>\n",
       "      <td>mosquito</td>\n",
       "      <td>ae aegypti</td>\n",
       "      <td>NaN</td>\n",
       "      <td>NaN</td>\n",
       "      <td>Single</td>\n",
       "      <td>NaN</td>\n",
       "      <td>NaN</td>\n",
       "      <td>phone</td>\n",
       "      <td>Alcatel 4009X</td>\n",
       "      <td>USA</td>\n",
       "      <td>Georgia</td>\n",
       "      <td>Atlanta</td>\n",
       "      <td>CDC insect cultures, Atlanta</td>\n",
       "      <td>culture</td>\n",
       "    </tr>\n",
       "    <tr>\n",
       "      <th>3</th>\n",
       "      <td>61</td>\n",
       "      <td>0.104041</td>\n",
       "      <td>CDC_Ae-aegypti_labelled_800.wav</td>\n",
       "      <td>8000</td>\n",
       "      <td>08-09-16 08:00</td>\n",
       "      <td>mosquito</td>\n",
       "      <td>ae aegypti</td>\n",
       "      <td>NaN</td>\n",
       "      <td>NaN</td>\n",
       "      <td>Single</td>\n",
       "      <td>NaN</td>\n",
       "      <td>NaN</td>\n",
       "      <td>phone</td>\n",
       "      <td>Alcatel 4009X</td>\n",
       "      <td>USA</td>\n",
       "      <td>Georgia</td>\n",
       "      <td>Atlanta</td>\n",
       "      <td>CDC insect cultures, Atlanta</td>\n",
       "      <td>culture</td>\n",
       "    </tr>\n",
       "    <tr>\n",
       "      <th>4</th>\n",
       "      <td>69</td>\n",
       "      <td>0.274290</td>\n",
       "      <td>CDC_Ae-aegypti_labelled_800.wav</td>\n",
       "      <td>8000</td>\n",
       "      <td>08-09-16 08:00</td>\n",
       "      <td>mosquito</td>\n",
       "      <td>ae aegypti</td>\n",
       "      <td>NaN</td>\n",
       "      <td>NaN</td>\n",
       "      <td>Single</td>\n",
       "      <td>NaN</td>\n",
       "      <td>NaN</td>\n",
       "      <td>phone</td>\n",
       "      <td>Alcatel 4009X</td>\n",
       "      <td>USA</td>\n",
       "      <td>Georgia</td>\n",
       "      <td>Atlanta</td>\n",
       "      <td>CDC insect cultures, Atlanta</td>\n",
       "      <td>culture</td>\n",
       "    </tr>\n",
       "    <tr>\n",
       "      <th>5</th>\n",
       "      <td>56</td>\n",
       "      <td>0.420894</td>\n",
       "      <td>CDC_Ae-aegypti_labelled_800.wav</td>\n",
       "      <td>8000</td>\n",
       "      <td>08-09-16 08:00</td>\n",
       "      <td>mosquito</td>\n",
       "      <td>ae aegypti</td>\n",
       "      <td>NaN</td>\n",
       "      <td>NaN</td>\n",
       "      <td>Plural</td>\n",
       "      <td>NaN</td>\n",
       "      <td>NaN</td>\n",
       "      <td>phone</td>\n",
       "      <td>Alcatel 4009X</td>\n",
       "      <td>USA</td>\n",
       "      <td>Georgia</td>\n",
       "      <td>Atlanta</td>\n",
       "      <td>CDC insect cultures, Atlanta</td>\n",
       "      <td>culture</td>\n",
       "    </tr>\n",
       "    <tr>\n",
       "      <th>...</th>\n",
       "      <td>...</td>\n",
       "      <td>...</td>\n",
       "      <td>...</td>\n",
       "      <td>...</td>\n",
       "      <td>...</td>\n",
       "      <td>...</td>\n",
       "      <td>...</td>\n",
       "      <td>...</td>\n",
       "      <td>...</td>\n",
       "      <td>...</td>\n",
       "      <td>...</td>\n",
       "      <td>...</td>\n",
       "      <td>...</td>\n",
       "      <td>...</td>\n",
       "      <td>...</td>\n",
       "      <td>...</td>\n",
       "      <td>...</td>\n",
       "      <td>...</td>\n",
       "      <td>...</td>\n",
       "    </tr>\n",
       "    <tr>\n",
       "      <th>8999</th>\n",
       "      <td>3562</td>\n",
       "      <td>6.083093</td>\n",
       "      <td>#988-1001.wav</td>\n",
       "      <td>44100</td>\n",
       "      <td>01-07-18 12:00</td>\n",
       "      <td>mosquito</td>\n",
       "      <td>an harrisoni</td>\n",
       "      <td>Female</td>\n",
       "      <td>t</td>\n",
       "      <td>Single</td>\n",
       "      <td>NaN</td>\n",
       "      <td>ABN</td>\n",
       "      <td>telinga</td>\n",
       "      <td>olympus</td>\n",
       "      <td>Thailand</td>\n",
       "      <td>Sai Yok District</td>\n",
       "      <td>Kanchanaburi Province</td>\n",
       "      <td>field site near Pu Teuy Village</td>\n",
       "      <td>cup</td>\n",
       "    </tr>\n",
       "    <tr>\n",
       "      <th>9000</th>\n",
       "      <td>3556</td>\n",
       "      <td>6.719908</td>\n",
       "      <td>#988-1001.wav</td>\n",
       "      <td>44100</td>\n",
       "      <td>01-07-18 12:00</td>\n",
       "      <td>mosquito</td>\n",
       "      <td>an maculatus</td>\n",
       "      <td>Female</td>\n",
       "      <td>t</td>\n",
       "      <td>Single</td>\n",
       "      <td>NaN</td>\n",
       "      <td>ABN</td>\n",
       "      <td>telinga</td>\n",
       "      <td>olympus</td>\n",
       "      <td>Thailand</td>\n",
       "      <td>Sai Yok District</td>\n",
       "      <td>Kanchanaburi Province</td>\n",
       "      <td>field site near Pu Teuy Village</td>\n",
       "      <td>cup</td>\n",
       "    </tr>\n",
       "    <tr>\n",
       "      <th>9009</th>\n",
       "      <td>3553</td>\n",
       "      <td>6.128580</td>\n",
       "      <td>#988-1001.wav</td>\n",
       "      <td>44100</td>\n",
       "      <td>01-07-18 12:00</td>\n",
       "      <td>mosquito</td>\n",
       "      <td>an maculatus</td>\n",
       "      <td>Female</td>\n",
       "      <td>t</td>\n",
       "      <td>Single</td>\n",
       "      <td>NaN</td>\n",
       "      <td>ABN</td>\n",
       "      <td>telinga</td>\n",
       "      <td>olympus</td>\n",
       "      <td>Thailand</td>\n",
       "      <td>Sai Yok District</td>\n",
       "      <td>Kanchanaburi Province</td>\n",
       "      <td>field site near Pu Teuy Village</td>\n",
       "      <td>cup</td>\n",
       "    </tr>\n",
       "    <tr>\n",
       "      <th>9011</th>\n",
       "      <td>3561</td>\n",
       "      <td>11.614280</td>\n",
       "      <td>#988-1001.wav</td>\n",
       "      <td>44100</td>\n",
       "      <td>01-07-18 12:00</td>\n",
       "      <td>mosquito</td>\n",
       "      <td>an harrisoni</td>\n",
       "      <td>Female</td>\n",
       "      <td>t</td>\n",
       "      <td>Single</td>\n",
       "      <td>NaN</td>\n",
       "      <td>ABN</td>\n",
       "      <td>telinga</td>\n",
       "      <td>olympus</td>\n",
       "      <td>Thailand</td>\n",
       "      <td>Sai Yok District</td>\n",
       "      <td>Kanchanaburi Province</td>\n",
       "      <td>field site near Pu Teuy Village</td>\n",
       "      <td>cup</td>\n",
       "    </tr>\n",
       "    <tr>\n",
       "      <th>9012</th>\n",
       "      <td>3552</td>\n",
       "      <td>2.920249</td>\n",
       "      <td>#988-1001.wav</td>\n",
       "      <td>44100</td>\n",
       "      <td>01-07-18 12:00</td>\n",
       "      <td>mosquito</td>\n",
       "      <td>an harrisoni</td>\n",
       "      <td>Female</td>\n",
       "      <td>t</td>\n",
       "      <td>Single</td>\n",
       "      <td>NaN</td>\n",
       "      <td>ABN</td>\n",
       "      <td>telinga</td>\n",
       "      <td>olympus</td>\n",
       "      <td>Thailand</td>\n",
       "      <td>Sai Yok District</td>\n",
       "      <td>Kanchanaburi Province</td>\n",
       "      <td>field site near Pu Teuy Village</td>\n",
       "      <td>cup</td>\n",
       "    </tr>\n",
       "  </tbody>\n",
       "</table>\n",
       "<p>6008 rows × 19 columns</p>\n",
       "</div>"
      ],
      "text/plain": [
       "        id     length                             name  sample_rate  \\\n",
       "1       53   0.463456  CDC_Ae-aegypti_labelled_800.wav         8000   \n",
       "2       57   0.170249  CDC_Ae-aegypti_labelled_800.wav         8000   \n",
       "3       61   0.104041  CDC_Ae-aegypti_labelled_800.wav         8000   \n",
       "4       69   0.274290  CDC_Ae-aegypti_labelled_800.wav         8000   \n",
       "5       56   0.420894  CDC_Ae-aegypti_labelled_800.wav         8000   \n",
       "...    ...        ...                              ...          ...   \n",
       "8999  3562   6.083093                    #988-1001.wav        44100   \n",
       "9000  3556   6.719908                    #988-1001.wav        44100   \n",
       "9009  3553   6.128580                    #988-1001.wav        44100   \n",
       "9011  3561  11.614280                    #988-1001.wav        44100   \n",
       "9012  3552   2.920249                    #988-1001.wav        44100   \n",
       "\n",
       "     record_datetime sound_type       species  gender  fed plurality  age  \\\n",
       "1     08-09-16 08:00   mosquito    ae aegypti     NaN  NaN    Single  NaN   \n",
       "2     08-09-16 08:00   mosquito    ae aegypti     NaN  NaN    Single  NaN   \n",
       "3     08-09-16 08:00   mosquito    ae aegypti     NaN  NaN    Single  NaN   \n",
       "4     08-09-16 08:00   mosquito    ae aegypti     NaN  NaN    Single  NaN   \n",
       "5     08-09-16 08:00   mosquito    ae aegypti     NaN  NaN    Plural  NaN   \n",
       "...              ...        ...           ...     ...  ...       ...  ...   \n",
       "8999  01-07-18 12:00   mosquito  an harrisoni  Female    t    Single  NaN   \n",
       "9000  01-07-18 12:00   mosquito  an maculatus  Female    t    Single  NaN   \n",
       "9009  01-07-18 12:00   mosquito  an maculatus  Female    t    Single  NaN   \n",
       "9011  01-07-18 12:00   mosquito  an harrisoni  Female    t    Single  NaN   \n",
       "9012  01-07-18 12:00   mosquito  an harrisoni  Female    t    Single  NaN   \n",
       "\n",
       "     method mic_type    device_type   country          district  \\\n",
       "1       NaN    phone  Alcatel 4009X       USA           Georgia   \n",
       "2       NaN    phone  Alcatel 4009X       USA           Georgia   \n",
       "3       NaN    phone  Alcatel 4009X       USA           Georgia   \n",
       "4       NaN    phone  Alcatel 4009X       USA           Georgia   \n",
       "5       NaN    phone  Alcatel 4009X       USA           Georgia   \n",
       "...     ...      ...            ...       ...               ...   \n",
       "8999    ABN  telinga        olympus  Thailand  Sai Yok District   \n",
       "9000    ABN  telinga        olympus  Thailand  Sai Yok District   \n",
       "9009    ABN  telinga        olympus  Thailand  Sai Yok District   \n",
       "9011    ABN  telinga        olympus  Thailand  Sai Yok District   \n",
       "9012    ABN  telinga        olympus  Thailand  Sai Yok District   \n",
       "\n",
       "                   province                            place location_type  \n",
       "1                   Atlanta     CDC insect cultures, Atlanta       culture  \n",
       "2                   Atlanta     CDC insect cultures, Atlanta       culture  \n",
       "3                   Atlanta     CDC insect cultures, Atlanta       culture  \n",
       "4                   Atlanta     CDC insect cultures, Atlanta       culture  \n",
       "5                   Atlanta     CDC insect cultures, Atlanta       culture  \n",
       "...                     ...                              ...           ...  \n",
       "8999  Kanchanaburi Province  field site near Pu Teuy Village           cup  \n",
       "9000  Kanchanaburi Province  field site near Pu Teuy Village           cup  \n",
       "9009  Kanchanaburi Province  field site near Pu Teuy Village           cup  \n",
       "9011  Kanchanaburi Province  field site near Pu Teuy Village           cup  \n",
       "9012  Kanchanaburi Province  field site near Pu Teuy Village           cup  \n",
       "\n",
       "[6008 rows x 19 columns]"
      ]
     },
     "execution_count": 13,
     "metadata": {},
     "output_type": "execute_result"
    }
   ],
   "source": [
    "if DEBUG:\n",
    "    df = pd.read_csv(config.data_df_msc_test)\n",
    "else:\n",
    "    df = pd.read_csv(config.data_df)\n",
    "\n",
    "#df = df.loc[df['Grade'].notnull()]\n",
    "df = df.loc[df['species'].notnull()]\n",
    "df"
   ]
  },
  {
   "cell_type": "code",
   "execution_count": 14,
   "id": "5a2013fe",
   "metadata": {},
   "outputs": [],
   "source": [
    "# adding a colum for specie encoding\n",
    "df['specie_ind'] = \"NULL_VAL\"\n",
    "\n",
    "    "
   ]
  },
  {
   "cell_type": "code",
   "execution_count": 15,
   "id": "8f8e8d46",
   "metadata": {},
   "outputs": [
    {
     "name": "stdout",
     "output_type": "stream",
     "text": [
      "specie = an arabiensisand its index = 0\n",
      "specie = culex pipiens complexand its index = 1\n",
      "specie = ae aegyptiand its index = 2\n",
      "specie = an funestus ssand its index = 3\n",
      "specie = an squamosusand its index = 4\n",
      "specie = an coustaniand its index = 5\n",
      "specie = ma uniformisand its index = 6\n",
      "specie = ma africanusand its index = 7\n"
     ]
    }
   ],
   "source": [
    "# Adding a new column to encode specie_index in the same order as the list \"classes\"\n",
    "ind = 0\n",
    "for specie in classes_no_other:\n",
    "    print(\"specie = \" + str(specie) + \"and its index = \" + str(ind) )\n",
    "    row_indexes=df[df['species']==specie].index \n",
    "    df.loc[row_indexes,'specie_ind']= ind\n",
    "    ind+=1\n",
    "\n",
    "    \n",
    "other_df_ind = df[df['specie_ind'] == \"NULL_VAL\"].index\n",
    "df.loc[other_df_ind,'specie_ind']= other_ind                  "
   ]
  },
  {
   "cell_type": "code",
   "execution_count": 16,
   "id": "7c24b7bf",
   "metadata": {},
   "outputs": [
    {
     "data": {
      "text/plain": [
       "6008"
      ]
     },
     "execution_count": 16,
     "metadata": {},
     "output_type": "execute_result"
    }
   ],
   "source": [
    "len(df)"
   ]
  },
  {
   "cell_type": "code",
   "execution_count": 17,
   "id": "97153113",
   "metadata": {},
   "outputs": [],
   "source": [
    "USE_SHORT_AUDIO = True"
   ]
  },
  {
   "cell_type": "code",
   "execution_count": 18,
   "id": "78b889f7",
   "metadata": {},
   "outputs": [],
   "source": [
    "#Test should happen on Cup and Tanzania\n",
    "idx_multiclass = np.logical_and(df['country'] == 'Tanzania', df['location_type'] == 'cup')\n",
    "df_tz_cup = df[idx_multiclass]"
   ]
  },
  {
   "cell_type": "code",
   "execution_count": 19,
   "id": "03e4f7dd",
   "metadata": {},
   "outputs": [
    {
     "data": {
      "text/html": [
       "<div>\n",
       "<style scoped>\n",
       "    .dataframe tbody tr th:only-of-type {\n",
       "        vertical-align: middle;\n",
       "    }\n",
       "\n",
       "    .dataframe tbody tr th {\n",
       "        vertical-align: top;\n",
       "    }\n",
       "\n",
       "    .dataframe thead th {\n",
       "        text-align: right;\n",
       "    }\n",
       "</style>\n",
       "<table border=\"1\" class=\"dataframe\">\n",
       "  <thead>\n",
       "    <tr style=\"text-align: right;\">\n",
       "      <th></th>\n",
       "      <th>id</th>\n",
       "      <th>length</th>\n",
       "      <th>name</th>\n",
       "      <th>sample_rate</th>\n",
       "      <th>record_datetime</th>\n",
       "      <th>sound_type</th>\n",
       "      <th>species</th>\n",
       "      <th>gender</th>\n",
       "      <th>fed</th>\n",
       "      <th>plurality</th>\n",
       "      <th>age</th>\n",
       "      <th>method</th>\n",
       "      <th>mic_type</th>\n",
       "      <th>device_type</th>\n",
       "      <th>country</th>\n",
       "      <th>district</th>\n",
       "      <th>province</th>\n",
       "      <th>place</th>\n",
       "      <th>location_type</th>\n",
       "      <th>specie_ind</th>\n",
       "    </tr>\n",
       "  </thead>\n",
       "  <tbody>\n",
       "    <tr>\n",
       "      <th>0</th>\n",
       "      <td>53</td>\n",
       "      <td>0.463456</td>\n",
       "      <td>CDC_Ae-aegypti_labelled_800.wav</td>\n",
       "      <td>8000</td>\n",
       "      <td>08-09-16 08:00</td>\n",
       "      <td>mosquito</td>\n",
       "      <td>ae aegypti</td>\n",
       "      <td>NaN</td>\n",
       "      <td>NaN</td>\n",
       "      <td>Single</td>\n",
       "      <td>NaN</td>\n",
       "      <td>NaN</td>\n",
       "      <td>phone</td>\n",
       "      <td>Alcatel 4009X</td>\n",
       "      <td>USA</td>\n",
       "      <td>Georgia</td>\n",
       "      <td>Atlanta</td>\n",
       "      <td>CDC insect cultures, Atlanta</td>\n",
       "      <td>culture</td>\n",
       "      <td>2</td>\n",
       "    </tr>\n",
       "    <tr>\n",
       "      <th>1</th>\n",
       "      <td>57</td>\n",
       "      <td>0.170249</td>\n",
       "      <td>CDC_Ae-aegypti_labelled_800.wav</td>\n",
       "      <td>8000</td>\n",
       "      <td>08-09-16 08:00</td>\n",
       "      <td>mosquito</td>\n",
       "      <td>ae aegypti</td>\n",
       "      <td>NaN</td>\n",
       "      <td>NaN</td>\n",
       "      <td>Single</td>\n",
       "      <td>NaN</td>\n",
       "      <td>NaN</td>\n",
       "      <td>phone</td>\n",
       "      <td>Alcatel 4009X</td>\n",
       "      <td>USA</td>\n",
       "      <td>Georgia</td>\n",
       "      <td>Atlanta</td>\n",
       "      <td>CDC insect cultures, Atlanta</td>\n",
       "      <td>culture</td>\n",
       "      <td>2</td>\n",
       "    </tr>\n",
       "    <tr>\n",
       "      <th>2</th>\n",
       "      <td>61</td>\n",
       "      <td>0.104041</td>\n",
       "      <td>CDC_Ae-aegypti_labelled_800.wav</td>\n",
       "      <td>8000</td>\n",
       "      <td>08-09-16 08:00</td>\n",
       "      <td>mosquito</td>\n",
       "      <td>ae aegypti</td>\n",
       "      <td>NaN</td>\n",
       "      <td>NaN</td>\n",
       "      <td>Single</td>\n",
       "      <td>NaN</td>\n",
       "      <td>NaN</td>\n",
       "      <td>phone</td>\n",
       "      <td>Alcatel 4009X</td>\n",
       "      <td>USA</td>\n",
       "      <td>Georgia</td>\n",
       "      <td>Atlanta</td>\n",
       "      <td>CDC insect cultures, Atlanta</td>\n",
       "      <td>culture</td>\n",
       "      <td>2</td>\n",
       "    </tr>\n",
       "    <tr>\n",
       "      <th>3</th>\n",
       "      <td>69</td>\n",
       "      <td>0.274290</td>\n",
       "      <td>CDC_Ae-aegypti_labelled_800.wav</td>\n",
       "      <td>8000</td>\n",
       "      <td>08-09-16 08:00</td>\n",
       "      <td>mosquito</td>\n",
       "      <td>ae aegypti</td>\n",
       "      <td>NaN</td>\n",
       "      <td>NaN</td>\n",
       "      <td>Single</td>\n",
       "      <td>NaN</td>\n",
       "      <td>NaN</td>\n",
       "      <td>phone</td>\n",
       "      <td>Alcatel 4009X</td>\n",
       "      <td>USA</td>\n",
       "      <td>Georgia</td>\n",
       "      <td>Atlanta</td>\n",
       "      <td>CDC insect cultures, Atlanta</td>\n",
       "      <td>culture</td>\n",
       "      <td>2</td>\n",
       "    </tr>\n",
       "    <tr>\n",
       "      <th>4</th>\n",
       "      <td>56</td>\n",
       "      <td>0.420894</td>\n",
       "      <td>CDC_Ae-aegypti_labelled_800.wav</td>\n",
       "      <td>8000</td>\n",
       "      <td>08-09-16 08:00</td>\n",
       "      <td>mosquito</td>\n",
       "      <td>ae aegypti</td>\n",
       "      <td>NaN</td>\n",
       "      <td>NaN</td>\n",
       "      <td>Plural</td>\n",
       "      <td>NaN</td>\n",
       "      <td>NaN</td>\n",
       "      <td>phone</td>\n",
       "      <td>Alcatel 4009X</td>\n",
       "      <td>USA</td>\n",
       "      <td>Georgia</td>\n",
       "      <td>Atlanta</td>\n",
       "      <td>CDC insect cultures, Atlanta</td>\n",
       "      <td>culture</td>\n",
       "      <td>2</td>\n",
       "    </tr>\n",
       "    <tr>\n",
       "      <th>...</th>\n",
       "      <td>...</td>\n",
       "      <td>...</td>\n",
       "      <td>...</td>\n",
       "      <td>...</td>\n",
       "      <td>...</td>\n",
       "      <td>...</td>\n",
       "      <td>...</td>\n",
       "      <td>...</td>\n",
       "      <td>...</td>\n",
       "      <td>...</td>\n",
       "      <td>...</td>\n",
       "      <td>...</td>\n",
       "      <td>...</td>\n",
       "      <td>...</td>\n",
       "      <td>...</td>\n",
       "      <td>...</td>\n",
       "      <td>...</td>\n",
       "      <td>...</td>\n",
       "      <td>...</td>\n",
       "      <td>...</td>\n",
       "    </tr>\n",
       "    <tr>\n",
       "      <th>6003</th>\n",
       "      <td>3562</td>\n",
       "      <td>6.083093</td>\n",
       "      <td>#988-1001.wav</td>\n",
       "      <td>44100</td>\n",
       "      <td>01-07-18 12:00</td>\n",
       "      <td>mosquito</td>\n",
       "      <td>an harrisoni</td>\n",
       "      <td>Female</td>\n",
       "      <td>t</td>\n",
       "      <td>Single</td>\n",
       "      <td>NaN</td>\n",
       "      <td>ABN</td>\n",
       "      <td>telinga</td>\n",
       "      <td>olympus</td>\n",
       "      <td>Thailand</td>\n",
       "      <td>Sai Yok District</td>\n",
       "      <td>Kanchanaburi Province</td>\n",
       "      <td>field site near Pu Teuy Village</td>\n",
       "      <td>cup</td>\n",
       "      <td>8</td>\n",
       "    </tr>\n",
       "    <tr>\n",
       "      <th>6004</th>\n",
       "      <td>3556</td>\n",
       "      <td>6.719908</td>\n",
       "      <td>#988-1001.wav</td>\n",
       "      <td>44100</td>\n",
       "      <td>01-07-18 12:00</td>\n",
       "      <td>mosquito</td>\n",
       "      <td>an maculatus</td>\n",
       "      <td>Female</td>\n",
       "      <td>t</td>\n",
       "      <td>Single</td>\n",
       "      <td>NaN</td>\n",
       "      <td>ABN</td>\n",
       "      <td>telinga</td>\n",
       "      <td>olympus</td>\n",
       "      <td>Thailand</td>\n",
       "      <td>Sai Yok District</td>\n",
       "      <td>Kanchanaburi Province</td>\n",
       "      <td>field site near Pu Teuy Village</td>\n",
       "      <td>cup</td>\n",
       "      <td>8</td>\n",
       "    </tr>\n",
       "    <tr>\n",
       "      <th>6005</th>\n",
       "      <td>3553</td>\n",
       "      <td>6.128580</td>\n",
       "      <td>#988-1001.wav</td>\n",
       "      <td>44100</td>\n",
       "      <td>01-07-18 12:00</td>\n",
       "      <td>mosquito</td>\n",
       "      <td>an maculatus</td>\n",
       "      <td>Female</td>\n",
       "      <td>t</td>\n",
       "      <td>Single</td>\n",
       "      <td>NaN</td>\n",
       "      <td>ABN</td>\n",
       "      <td>telinga</td>\n",
       "      <td>olympus</td>\n",
       "      <td>Thailand</td>\n",
       "      <td>Sai Yok District</td>\n",
       "      <td>Kanchanaburi Province</td>\n",
       "      <td>field site near Pu Teuy Village</td>\n",
       "      <td>cup</td>\n",
       "      <td>8</td>\n",
       "    </tr>\n",
       "    <tr>\n",
       "      <th>6006</th>\n",
       "      <td>3561</td>\n",
       "      <td>11.614280</td>\n",
       "      <td>#988-1001.wav</td>\n",
       "      <td>44100</td>\n",
       "      <td>01-07-18 12:00</td>\n",
       "      <td>mosquito</td>\n",
       "      <td>an harrisoni</td>\n",
       "      <td>Female</td>\n",
       "      <td>t</td>\n",
       "      <td>Single</td>\n",
       "      <td>NaN</td>\n",
       "      <td>ABN</td>\n",
       "      <td>telinga</td>\n",
       "      <td>olympus</td>\n",
       "      <td>Thailand</td>\n",
       "      <td>Sai Yok District</td>\n",
       "      <td>Kanchanaburi Province</td>\n",
       "      <td>field site near Pu Teuy Village</td>\n",
       "      <td>cup</td>\n",
       "      <td>8</td>\n",
       "    </tr>\n",
       "    <tr>\n",
       "      <th>6007</th>\n",
       "      <td>3552</td>\n",
       "      <td>2.920249</td>\n",
       "      <td>#988-1001.wav</td>\n",
       "      <td>44100</td>\n",
       "      <td>01-07-18 12:00</td>\n",
       "      <td>mosquito</td>\n",
       "      <td>an harrisoni</td>\n",
       "      <td>Female</td>\n",
       "      <td>t</td>\n",
       "      <td>Single</td>\n",
       "      <td>NaN</td>\n",
       "      <td>ABN</td>\n",
       "      <td>telinga</td>\n",
       "      <td>olympus</td>\n",
       "      <td>Thailand</td>\n",
       "      <td>Sai Yok District</td>\n",
       "      <td>Kanchanaburi Province</td>\n",
       "      <td>field site near Pu Teuy Village</td>\n",
       "      <td>cup</td>\n",
       "      <td>8</td>\n",
       "    </tr>\n",
       "  </tbody>\n",
       "</table>\n",
       "<p>6008 rows × 20 columns</p>\n",
       "</div>"
      ],
      "text/plain": [
       "        id     length                             name  sample_rate  \\\n",
       "0       53   0.463456  CDC_Ae-aegypti_labelled_800.wav         8000   \n",
       "1       57   0.170249  CDC_Ae-aegypti_labelled_800.wav         8000   \n",
       "2       61   0.104041  CDC_Ae-aegypti_labelled_800.wav         8000   \n",
       "3       69   0.274290  CDC_Ae-aegypti_labelled_800.wav         8000   \n",
       "4       56   0.420894  CDC_Ae-aegypti_labelled_800.wav         8000   \n",
       "...    ...        ...                              ...          ...   \n",
       "6003  3562   6.083093                    #988-1001.wav        44100   \n",
       "6004  3556   6.719908                    #988-1001.wav        44100   \n",
       "6005  3553   6.128580                    #988-1001.wav        44100   \n",
       "6006  3561  11.614280                    #988-1001.wav        44100   \n",
       "6007  3552   2.920249                    #988-1001.wav        44100   \n",
       "\n",
       "     record_datetime sound_type       species  gender  fed plurality  age  \\\n",
       "0     08-09-16 08:00   mosquito    ae aegypti     NaN  NaN    Single  NaN   \n",
       "1     08-09-16 08:00   mosquito    ae aegypti     NaN  NaN    Single  NaN   \n",
       "2     08-09-16 08:00   mosquito    ae aegypti     NaN  NaN    Single  NaN   \n",
       "3     08-09-16 08:00   mosquito    ae aegypti     NaN  NaN    Single  NaN   \n",
       "4     08-09-16 08:00   mosquito    ae aegypti     NaN  NaN    Plural  NaN   \n",
       "...              ...        ...           ...     ...  ...       ...  ...   \n",
       "6003  01-07-18 12:00   mosquito  an harrisoni  Female    t    Single  NaN   \n",
       "6004  01-07-18 12:00   mosquito  an maculatus  Female    t    Single  NaN   \n",
       "6005  01-07-18 12:00   mosquito  an maculatus  Female    t    Single  NaN   \n",
       "6006  01-07-18 12:00   mosquito  an harrisoni  Female    t    Single  NaN   \n",
       "6007  01-07-18 12:00   mosquito  an harrisoni  Female    t    Single  NaN   \n",
       "\n",
       "     method mic_type    device_type   country          district  \\\n",
       "0       NaN    phone  Alcatel 4009X       USA           Georgia   \n",
       "1       NaN    phone  Alcatel 4009X       USA           Georgia   \n",
       "2       NaN    phone  Alcatel 4009X       USA           Georgia   \n",
       "3       NaN    phone  Alcatel 4009X       USA           Georgia   \n",
       "4       NaN    phone  Alcatel 4009X       USA           Georgia   \n",
       "...     ...      ...            ...       ...               ...   \n",
       "6003    ABN  telinga        olympus  Thailand  Sai Yok District   \n",
       "6004    ABN  telinga        olympus  Thailand  Sai Yok District   \n",
       "6005    ABN  telinga        olympus  Thailand  Sai Yok District   \n",
       "6006    ABN  telinga        olympus  Thailand  Sai Yok District   \n",
       "6007    ABN  telinga        olympus  Thailand  Sai Yok District   \n",
       "\n",
       "                   province                            place location_type  \\\n",
       "0                   Atlanta     CDC insect cultures, Atlanta       culture   \n",
       "1                   Atlanta     CDC insect cultures, Atlanta       culture   \n",
       "2                   Atlanta     CDC insect cultures, Atlanta       culture   \n",
       "3                   Atlanta     CDC insect cultures, Atlanta       culture   \n",
       "4                   Atlanta     CDC insect cultures, Atlanta       culture   \n",
       "...                     ...                              ...           ...   \n",
       "6003  Kanchanaburi Province  field site near Pu Teuy Village           cup   \n",
       "6004  Kanchanaburi Province  field site near Pu Teuy Village           cup   \n",
       "6005  Kanchanaburi Province  field site near Pu Teuy Village           cup   \n",
       "6006  Kanchanaburi Province  field site near Pu Teuy Village           cup   \n",
       "6007  Kanchanaburi Province  field site near Pu Teuy Village           cup   \n",
       "\n",
       "     specie_ind  \n",
       "0             2  \n",
       "1             2  \n",
       "2             2  \n",
       "3             2  \n",
       "4             2  \n",
       "...         ...  \n",
       "6003          8  \n",
       "6004          8  \n",
       "6005          8  \n",
       "6006          8  \n",
       "6007          8  \n",
       "\n",
       "[6008 rows x 20 columns]"
      ]
     },
     "execution_count": 19,
     "metadata": {},
     "output_type": "execute_result"
    }
   ],
   "source": [
    "df_tz_cup.reset_index(inplace = True)\n",
    "df_tz_cup.drop('index',axis = 1)\n",
    "df.reset_index(inplace = True)\n",
    "df.drop('index',axis = 1)"
   ]
  },
  {
   "cell_type": "code",
   "execution_count": 20,
   "id": "cbd4d176",
   "metadata": {},
   "outputs": [],
   "source": [
    "#https://stackoverflow.com/questions/18180763/set-difference-for-pandas\n",
    "df_temp = pd.concat([df, df_tz_cup, df_tz_cup]).drop_duplicates(keep=False)"
   ]
  },
  {
   "cell_type": "markdown",
   "id": "1ac52fc3",
   "metadata": {},
   "source": [
    "### Verifying that the temp data does not have any test leakage"
   ]
  },
  {
   "cell_type": "code",
   "execution_count": 21,
   "id": "c61d5318",
   "metadata": {},
   "outputs": [
    {
     "name": "stderr",
     "output_type": "stream",
     "text": [
      "/tmp/ipykernel_2567634/2543128270.py:2: UserWarning: Boolean Series key will be reindexed to match DataFrame index.\n",
      "  df_temp[(np.logical_and(df['country'] == 'Tanzania', df['location_type'] == 'cup'))].sum()\n"
     ]
    },
    {
     "data": {
      "text/plain": [
       "index              0.0\n",
       "id                 0.0\n",
       "length             0.0\n",
       "name               0.0\n",
       "sample_rate        0.0\n",
       "record_datetime    0.0\n",
       "sound_type         0.0\n",
       "species            0.0\n",
       "gender             0.0\n",
       "fed                0.0\n",
       "plurality          0.0\n",
       "age                0.0\n",
       "method             0.0\n",
       "mic_type           0.0\n",
       "device_type        0.0\n",
       "country            0.0\n",
       "district           0.0\n",
       "province           0.0\n",
       "place              0.0\n",
       "location_type      0.0\n",
       "specie_ind         0.0\n",
       "dtype: float64"
      ]
     },
     "execution_count": 21,
     "metadata": {},
     "output_type": "execute_result"
    }
   ],
   "source": [
    "#np.logical_and(df['country'] == 'Tanzania', df['location_type'] == 'cup')\n",
    "df_temp[(np.logical_and(df['country'] == 'Tanzania', df['location_type'] == 'cup'))].sum()\n",
    "#df_temp([df_temp['country'] == 'Tanzania' and df_temp['location_type'] == 'cup'])"
   ]
  },
  {
   "cell_type": "code",
   "execution_count": 22,
   "id": "b6a1081e",
   "metadata": {},
   "outputs": [],
   "source": [
    "df_temp.reset_index(inplace = True)\n",
    "df_temp.drop('index',axis = 1,inplace = True)\n",
    "df_temp.drop('level_0',axis = 1,inplace = True)"
   ]
  },
  {
   "cell_type": "code",
   "execution_count": 23,
   "id": "f31bf799",
   "metadata": {},
   "outputs": [
    {
     "data": {
      "text/html": [
       "<div>\n",
       "<style scoped>\n",
       "    .dataframe tbody tr th:only-of-type {\n",
       "        vertical-align: middle;\n",
       "    }\n",
       "\n",
       "    .dataframe tbody tr th {\n",
       "        vertical-align: top;\n",
       "    }\n",
       "\n",
       "    .dataframe thead th {\n",
       "        text-align: right;\n",
       "    }\n",
       "</style>\n",
       "<table border=\"1\" class=\"dataframe\">\n",
       "  <thead>\n",
       "    <tr style=\"text-align: right;\">\n",
       "      <th></th>\n",
       "      <th>id</th>\n",
       "      <th>length</th>\n",
       "      <th>name</th>\n",
       "      <th>sample_rate</th>\n",
       "      <th>record_datetime</th>\n",
       "      <th>sound_type</th>\n",
       "      <th>species</th>\n",
       "      <th>gender</th>\n",
       "      <th>fed</th>\n",
       "      <th>plurality</th>\n",
       "      <th>age</th>\n",
       "      <th>method</th>\n",
       "      <th>mic_type</th>\n",
       "      <th>device_type</th>\n",
       "      <th>country</th>\n",
       "      <th>district</th>\n",
       "      <th>province</th>\n",
       "      <th>place</th>\n",
       "      <th>location_type</th>\n",
       "      <th>specie_ind</th>\n",
       "    </tr>\n",
       "  </thead>\n",
       "  <tbody>\n",
       "    <tr>\n",
       "      <th>0</th>\n",
       "      <td>53</td>\n",
       "      <td>0.463456</td>\n",
       "      <td>CDC_Ae-aegypti_labelled_800.wav</td>\n",
       "      <td>8000</td>\n",
       "      <td>08-09-16 08:00</td>\n",
       "      <td>mosquito</td>\n",
       "      <td>ae aegypti</td>\n",
       "      <td>NaN</td>\n",
       "      <td>NaN</td>\n",
       "      <td>Single</td>\n",
       "      <td>NaN</td>\n",
       "      <td>NaN</td>\n",
       "      <td>phone</td>\n",
       "      <td>Alcatel 4009X</td>\n",
       "      <td>USA</td>\n",
       "      <td>Georgia</td>\n",
       "      <td>Atlanta</td>\n",
       "      <td>CDC insect cultures, Atlanta</td>\n",
       "      <td>culture</td>\n",
       "      <td>2</td>\n",
       "    </tr>\n",
       "    <tr>\n",
       "      <th>1</th>\n",
       "      <td>57</td>\n",
       "      <td>0.170249</td>\n",
       "      <td>CDC_Ae-aegypti_labelled_800.wav</td>\n",
       "      <td>8000</td>\n",
       "      <td>08-09-16 08:00</td>\n",
       "      <td>mosquito</td>\n",
       "      <td>ae aegypti</td>\n",
       "      <td>NaN</td>\n",
       "      <td>NaN</td>\n",
       "      <td>Single</td>\n",
       "      <td>NaN</td>\n",
       "      <td>NaN</td>\n",
       "      <td>phone</td>\n",
       "      <td>Alcatel 4009X</td>\n",
       "      <td>USA</td>\n",
       "      <td>Georgia</td>\n",
       "      <td>Atlanta</td>\n",
       "      <td>CDC insect cultures, Atlanta</td>\n",
       "      <td>culture</td>\n",
       "      <td>2</td>\n",
       "    </tr>\n",
       "    <tr>\n",
       "      <th>2</th>\n",
       "      <td>61</td>\n",
       "      <td>0.104041</td>\n",
       "      <td>CDC_Ae-aegypti_labelled_800.wav</td>\n",
       "      <td>8000</td>\n",
       "      <td>08-09-16 08:00</td>\n",
       "      <td>mosquito</td>\n",
       "      <td>ae aegypti</td>\n",
       "      <td>NaN</td>\n",
       "      <td>NaN</td>\n",
       "      <td>Single</td>\n",
       "      <td>NaN</td>\n",
       "      <td>NaN</td>\n",
       "      <td>phone</td>\n",
       "      <td>Alcatel 4009X</td>\n",
       "      <td>USA</td>\n",
       "      <td>Georgia</td>\n",
       "      <td>Atlanta</td>\n",
       "      <td>CDC insect cultures, Atlanta</td>\n",
       "      <td>culture</td>\n",
       "      <td>2</td>\n",
       "    </tr>\n",
       "    <tr>\n",
       "      <th>3</th>\n",
       "      <td>69</td>\n",
       "      <td>0.274290</td>\n",
       "      <td>CDC_Ae-aegypti_labelled_800.wav</td>\n",
       "      <td>8000</td>\n",
       "      <td>08-09-16 08:00</td>\n",
       "      <td>mosquito</td>\n",
       "      <td>ae aegypti</td>\n",
       "      <td>NaN</td>\n",
       "      <td>NaN</td>\n",
       "      <td>Single</td>\n",
       "      <td>NaN</td>\n",
       "      <td>NaN</td>\n",
       "      <td>phone</td>\n",
       "      <td>Alcatel 4009X</td>\n",
       "      <td>USA</td>\n",
       "      <td>Georgia</td>\n",
       "      <td>Atlanta</td>\n",
       "      <td>CDC insect cultures, Atlanta</td>\n",
       "      <td>culture</td>\n",
       "      <td>2</td>\n",
       "    </tr>\n",
       "    <tr>\n",
       "      <th>4</th>\n",
       "      <td>56</td>\n",
       "      <td>0.420894</td>\n",
       "      <td>CDC_Ae-aegypti_labelled_800.wav</td>\n",
       "      <td>8000</td>\n",
       "      <td>08-09-16 08:00</td>\n",
       "      <td>mosquito</td>\n",
       "      <td>ae aegypti</td>\n",
       "      <td>NaN</td>\n",
       "      <td>NaN</td>\n",
       "      <td>Plural</td>\n",
       "      <td>NaN</td>\n",
       "      <td>NaN</td>\n",
       "      <td>phone</td>\n",
       "      <td>Alcatel 4009X</td>\n",
       "      <td>USA</td>\n",
       "      <td>Georgia</td>\n",
       "      <td>Atlanta</td>\n",
       "      <td>CDC insect cultures, Atlanta</td>\n",
       "      <td>culture</td>\n",
       "      <td>2</td>\n",
       "    </tr>\n",
       "    <tr>\n",
       "      <th>...</th>\n",
       "      <td>...</td>\n",
       "      <td>...</td>\n",
       "      <td>...</td>\n",
       "      <td>...</td>\n",
       "      <td>...</td>\n",
       "      <td>...</td>\n",
       "      <td>...</td>\n",
       "      <td>...</td>\n",
       "      <td>...</td>\n",
       "      <td>...</td>\n",
       "      <td>...</td>\n",
       "      <td>...</td>\n",
       "      <td>...</td>\n",
       "      <td>...</td>\n",
       "      <td>...</td>\n",
       "      <td>...</td>\n",
       "      <td>...</td>\n",
       "      <td>...</td>\n",
       "      <td>...</td>\n",
       "      <td>...</td>\n",
       "    </tr>\n",
       "    <tr>\n",
       "      <th>3454</th>\n",
       "      <td>3562</td>\n",
       "      <td>6.083093</td>\n",
       "      <td>#988-1001.wav</td>\n",
       "      <td>44100</td>\n",
       "      <td>01-07-18 12:00</td>\n",
       "      <td>mosquito</td>\n",
       "      <td>an harrisoni</td>\n",
       "      <td>Female</td>\n",
       "      <td>t</td>\n",
       "      <td>Single</td>\n",
       "      <td>NaN</td>\n",
       "      <td>ABN</td>\n",
       "      <td>telinga</td>\n",
       "      <td>olympus</td>\n",
       "      <td>Thailand</td>\n",
       "      <td>Sai Yok District</td>\n",
       "      <td>Kanchanaburi Province</td>\n",
       "      <td>field site near Pu Teuy Village</td>\n",
       "      <td>cup</td>\n",
       "      <td>8</td>\n",
       "    </tr>\n",
       "    <tr>\n",
       "      <th>3455</th>\n",
       "      <td>3556</td>\n",
       "      <td>6.719908</td>\n",
       "      <td>#988-1001.wav</td>\n",
       "      <td>44100</td>\n",
       "      <td>01-07-18 12:00</td>\n",
       "      <td>mosquito</td>\n",
       "      <td>an maculatus</td>\n",
       "      <td>Female</td>\n",
       "      <td>t</td>\n",
       "      <td>Single</td>\n",
       "      <td>NaN</td>\n",
       "      <td>ABN</td>\n",
       "      <td>telinga</td>\n",
       "      <td>olympus</td>\n",
       "      <td>Thailand</td>\n",
       "      <td>Sai Yok District</td>\n",
       "      <td>Kanchanaburi Province</td>\n",
       "      <td>field site near Pu Teuy Village</td>\n",
       "      <td>cup</td>\n",
       "      <td>8</td>\n",
       "    </tr>\n",
       "    <tr>\n",
       "      <th>3456</th>\n",
       "      <td>3553</td>\n",
       "      <td>6.128580</td>\n",
       "      <td>#988-1001.wav</td>\n",
       "      <td>44100</td>\n",
       "      <td>01-07-18 12:00</td>\n",
       "      <td>mosquito</td>\n",
       "      <td>an maculatus</td>\n",
       "      <td>Female</td>\n",
       "      <td>t</td>\n",
       "      <td>Single</td>\n",
       "      <td>NaN</td>\n",
       "      <td>ABN</td>\n",
       "      <td>telinga</td>\n",
       "      <td>olympus</td>\n",
       "      <td>Thailand</td>\n",
       "      <td>Sai Yok District</td>\n",
       "      <td>Kanchanaburi Province</td>\n",
       "      <td>field site near Pu Teuy Village</td>\n",
       "      <td>cup</td>\n",
       "      <td>8</td>\n",
       "    </tr>\n",
       "    <tr>\n",
       "      <th>3457</th>\n",
       "      <td>3561</td>\n",
       "      <td>11.614280</td>\n",
       "      <td>#988-1001.wav</td>\n",
       "      <td>44100</td>\n",
       "      <td>01-07-18 12:00</td>\n",
       "      <td>mosquito</td>\n",
       "      <td>an harrisoni</td>\n",
       "      <td>Female</td>\n",
       "      <td>t</td>\n",
       "      <td>Single</td>\n",
       "      <td>NaN</td>\n",
       "      <td>ABN</td>\n",
       "      <td>telinga</td>\n",
       "      <td>olympus</td>\n",
       "      <td>Thailand</td>\n",
       "      <td>Sai Yok District</td>\n",
       "      <td>Kanchanaburi Province</td>\n",
       "      <td>field site near Pu Teuy Village</td>\n",
       "      <td>cup</td>\n",
       "      <td>8</td>\n",
       "    </tr>\n",
       "    <tr>\n",
       "      <th>3458</th>\n",
       "      <td>3552</td>\n",
       "      <td>2.920249</td>\n",
       "      <td>#988-1001.wav</td>\n",
       "      <td>44100</td>\n",
       "      <td>01-07-18 12:00</td>\n",
       "      <td>mosquito</td>\n",
       "      <td>an harrisoni</td>\n",
       "      <td>Female</td>\n",
       "      <td>t</td>\n",
       "      <td>Single</td>\n",
       "      <td>NaN</td>\n",
       "      <td>ABN</td>\n",
       "      <td>telinga</td>\n",
       "      <td>olympus</td>\n",
       "      <td>Thailand</td>\n",
       "      <td>Sai Yok District</td>\n",
       "      <td>Kanchanaburi Province</td>\n",
       "      <td>field site near Pu Teuy Village</td>\n",
       "      <td>cup</td>\n",
       "      <td>8</td>\n",
       "    </tr>\n",
       "  </tbody>\n",
       "</table>\n",
       "<p>3459 rows × 20 columns</p>\n",
       "</div>"
      ],
      "text/plain": [
       "        id     length                             name  sample_rate  \\\n",
       "0       53   0.463456  CDC_Ae-aegypti_labelled_800.wav         8000   \n",
       "1       57   0.170249  CDC_Ae-aegypti_labelled_800.wav         8000   \n",
       "2       61   0.104041  CDC_Ae-aegypti_labelled_800.wav         8000   \n",
       "3       69   0.274290  CDC_Ae-aegypti_labelled_800.wav         8000   \n",
       "4       56   0.420894  CDC_Ae-aegypti_labelled_800.wav         8000   \n",
       "...    ...        ...                              ...          ...   \n",
       "3454  3562   6.083093                    #988-1001.wav        44100   \n",
       "3455  3556   6.719908                    #988-1001.wav        44100   \n",
       "3456  3553   6.128580                    #988-1001.wav        44100   \n",
       "3457  3561  11.614280                    #988-1001.wav        44100   \n",
       "3458  3552   2.920249                    #988-1001.wav        44100   \n",
       "\n",
       "     record_datetime sound_type       species  gender  fed plurality  age  \\\n",
       "0     08-09-16 08:00   mosquito    ae aegypti     NaN  NaN    Single  NaN   \n",
       "1     08-09-16 08:00   mosquito    ae aegypti     NaN  NaN    Single  NaN   \n",
       "2     08-09-16 08:00   mosquito    ae aegypti     NaN  NaN    Single  NaN   \n",
       "3     08-09-16 08:00   mosquito    ae aegypti     NaN  NaN    Single  NaN   \n",
       "4     08-09-16 08:00   mosquito    ae aegypti     NaN  NaN    Plural  NaN   \n",
       "...              ...        ...           ...     ...  ...       ...  ...   \n",
       "3454  01-07-18 12:00   mosquito  an harrisoni  Female    t    Single  NaN   \n",
       "3455  01-07-18 12:00   mosquito  an maculatus  Female    t    Single  NaN   \n",
       "3456  01-07-18 12:00   mosquito  an maculatus  Female    t    Single  NaN   \n",
       "3457  01-07-18 12:00   mosquito  an harrisoni  Female    t    Single  NaN   \n",
       "3458  01-07-18 12:00   mosquito  an harrisoni  Female    t    Single  NaN   \n",
       "\n",
       "     method mic_type    device_type   country          district  \\\n",
       "0       NaN    phone  Alcatel 4009X       USA           Georgia   \n",
       "1       NaN    phone  Alcatel 4009X       USA           Georgia   \n",
       "2       NaN    phone  Alcatel 4009X       USA           Georgia   \n",
       "3       NaN    phone  Alcatel 4009X       USA           Georgia   \n",
       "4       NaN    phone  Alcatel 4009X       USA           Georgia   \n",
       "...     ...      ...            ...       ...               ...   \n",
       "3454    ABN  telinga        olympus  Thailand  Sai Yok District   \n",
       "3455    ABN  telinga        olympus  Thailand  Sai Yok District   \n",
       "3456    ABN  telinga        olympus  Thailand  Sai Yok District   \n",
       "3457    ABN  telinga        olympus  Thailand  Sai Yok District   \n",
       "3458    ABN  telinga        olympus  Thailand  Sai Yok District   \n",
       "\n",
       "                   province                            place location_type  \\\n",
       "0                   Atlanta     CDC insect cultures, Atlanta       culture   \n",
       "1                   Atlanta     CDC insect cultures, Atlanta       culture   \n",
       "2                   Atlanta     CDC insect cultures, Atlanta       culture   \n",
       "3                   Atlanta     CDC insect cultures, Atlanta       culture   \n",
       "4                   Atlanta     CDC insect cultures, Atlanta       culture   \n",
       "...                     ...                              ...           ...   \n",
       "3454  Kanchanaburi Province  field site near Pu Teuy Village           cup   \n",
       "3455  Kanchanaburi Province  field site near Pu Teuy Village           cup   \n",
       "3456  Kanchanaburi Province  field site near Pu Teuy Village           cup   \n",
       "3457  Kanchanaburi Province  field site near Pu Teuy Village           cup   \n",
       "3458  Kanchanaburi Province  field site near Pu Teuy Village           cup   \n",
       "\n",
       "     specie_ind  \n",
       "0             2  \n",
       "1             2  \n",
       "2             2  \n",
       "3             2  \n",
       "4             2  \n",
       "...         ...  \n",
       "3454          8  \n",
       "3455          8  \n",
       "3456          8  \n",
       "3457          8  \n",
       "3458          8  \n",
       "\n",
       "[3459 rows x 20 columns]"
      ]
     },
     "execution_count": 23,
     "metadata": {},
     "output_type": "execute_result"
    }
   ],
   "source": [
    "df_temp"
   ]
  },
  {
   "cell_type": "code",
   "execution_count": 24,
   "id": "fd49dab0",
   "metadata": {},
   "outputs": [
    {
     "name": "stdout",
     "output_type": "stream",
     "text": [
      "len of df_temp = 3459\n",
      "len of df_tz_cup = 2549\n",
      "len of df = 6008\n",
      "split successful\n"
     ]
    }
   ],
   "source": [
    "print(\"len of df_temp = \" + str(len(df_temp)))\n",
    "print(\"len of df_tz_cup = \" + str(len(df_tz_cup)))\n",
    "print(\"len of df = \" + str(len(df)))\n",
    "if (len(df) == len(df_tz_cup) + len(df_temp)):\n",
    "    print(\"split successful\")\n",
    "else:\n",
    "    print(\"split error\")"
   ]
  },
  {
   "cell_type": "markdown",
   "id": "2b27e066",
   "metadata": {},
   "source": [
    "### Before we start training we need to also have some samples from tz_cup in training"
   ]
  },
  {
   "cell_type": "code",
   "execution_count": 25,
   "id": "a8f719b1",
   "metadata": {},
   "outputs": [
    {
     "name": "stdout",
     "output_type": "stream",
     "text": [
      "length of df_tz_cup_samp = 2039\n"
     ]
    }
   ],
   "source": [
    "df_tz_cup_samp = df_tz_cup.sample(frac = .8 , random_state = 42)\n",
    "print(\"length of df_tz_cup_samp = \" + str(len(df_tz_cup_samp)))"
   ]
  },
  {
   "cell_type": "code",
   "execution_count": 26,
   "id": "ff192b03",
   "metadata": {},
   "outputs": [],
   "source": [
    "df_test = pd.concat([df_tz_cup, df_tz_cup_samp, df_tz_cup_samp]).drop_duplicates(keep=False)"
   ]
  },
  {
   "cell_type": "code",
   "execution_count": 27,
   "id": "1ae4421c",
   "metadata": {},
   "outputs": [
    {
     "data": {
      "text/plain": [
       "510"
      ]
     },
     "execution_count": 27,
     "metadata": {},
     "output_type": "execute_result"
    }
   ],
   "source": [
    "len(df_test)"
   ]
  },
  {
   "cell_type": "markdown",
   "id": "4a0f06d4",
   "metadata": {},
   "source": [
    "Add some TZ_cup sampled to the Training data"
   ]
  },
  {
   "cell_type": "code",
   "execution_count": 28,
   "id": "92f94c54",
   "metadata": {},
   "outputs": [
    {
     "name": "stdout",
     "output_type": "stream",
     "text": [
      "length of concatenated frame = 5498\n"
     ]
    }
   ],
   "source": [
    "temp_train_frame = [df_temp , df_tz_cup_samp]\n",
    "df_temp_train = pd.concat(temp_train_frame)\n",
    "print(\"length of concatenated frame = \" + str(len(df_temp_train)))"
   ]
  },
  {
   "cell_type": "markdown",
   "id": "e371f7b3",
   "metadata": {},
   "source": [
    "### Finally a train-val split"
   ]
  },
  {
   "cell_type": "code",
   "execution_count": 29,
   "id": "bdf5ba4b",
   "metadata": {},
   "outputs": [],
   "source": [
    "from sklearn.model_selection import train_test_split\n",
    "\n",
    "#df_train_offset_temp,df_test_offset  = train_test_split(df_offset, test_size=0.2,random_state = 152)\n",
    "df_train,df_val  = train_test_split(df_temp_train, test_size=0.2 , random_state= 42)"
   ]
  },
  {
   "cell_type": "code",
   "execution_count": 30,
   "id": "cbed7082",
   "metadata": {},
   "outputs": [
    {
     "name": "stdout",
     "output_type": "stream",
     "text": [
      "length of train = 4398\n",
      "length of val = 1100\n"
     ]
    }
   ],
   "source": [
    "print(\"length of train = \" + str(len(df_train)))\n",
    "print(\"length of val = \" + str(len(df_val)))\n"
   ]
  },
  {
   "cell_type": "code",
   "execution_count": 31,
   "id": "014764e4",
   "metadata": {},
   "outputs": [],
   "source": [
    "df_train_offset = get_offsets_df(df_train, short_audio=USE_SHORT_AUDIO)\n",
    "df_test_offset = get_offsets_df(df_test, short_audio=USE_SHORT_AUDIO)\n",
    "df_val_offset = get_offsets_df(df_val, short_audio=USE_SHORT_AUDIO)"
   ]
  },
  {
   "cell_type": "code",
   "execution_count": 32,
   "id": "b5d4df6b",
   "metadata": {},
   "outputs": [
    {
     "name": "stdout",
     "output_type": "stream",
     "text": [
      "length of train offset = 104000\n",
      "length of test offset = 23294\n",
      "length of val offset = 24518\n"
     ]
    }
   ],
   "source": [
    "print(\"length of train offset = \" +str(len(df_train_offset)))\n",
    "print(\"length of test offset = \" +str(len(df_test_offset)))\n",
    "print(\"length of val offset = \" +str(len(df_val_offset)))"
   ]
  },
  {
   "cell_type": "code",
   "execution_count": null,
   "id": "31e193f2",
   "metadata": {},
   "outputs": [],
   "source": []
  },
  {
   "cell_type": "code",
   "execution_count": 33,
   "id": "cc48f7ce",
   "metadata": {},
   "outputs": [],
   "source": [
    "# from sklearn.model_selection import train_test_split\n",
    "\n",
    "# df_train_offset_temp,df_test_offset  = train_test_split(df_offset, test_size=0.2,random_state = 152)\n",
    "# df_train_offset,df_val_offset  = train_test_split(df_train_offset_temp, test_size=0.2)\n"
   ]
  },
  {
   "cell_type": "code",
   "execution_count": 34,
   "id": "b5d617f9",
   "metadata": {},
   "outputs": [],
   "source": [
    "# for i in range(0,len(classes)):\n",
    "#     df_temp = df_val_offset[df_val_offset['specie_ind'] == i]\n",
    "#     print(\"i = \" +str(i))\n",
    "#     print(len(df_temp))"
   ]
  },
  {
   "cell_type": "code",
   "execution_count": 35,
   "id": "893c275f",
   "metadata": {},
   "outputs": [],
   "source": [
    "#df_temp.reset_index(inplace = True)\n",
    "df_train_offset.reset_index(inplace = True)\n",
    "df_test_offset.reset_index(inplace = True)\n",
    "df_val_offset.reset_index(inplace = True)\n",
    "\n"
   ]
  },
  {
   "cell_type": "code",
   "execution_count": 36,
   "id": "c1449372",
   "metadata": {},
   "outputs": [],
   "source": [
    "def get_specie_distri(df , classes , type_df = None):\n",
    "    for i in range(len(classes)):\n",
    "        print(\"DF type = \" + str(type_df))\n",
    "        df_temp = df[df['specie_ind'] == i]\n",
    "        print(\"i = \" +str(i))\n",
    "        print(len(df_temp))\n",
    "    \n",
    "    "
   ]
  },
  {
   "cell_type": "code",
   "execution_count": 37,
   "id": "8bfa765f",
   "metadata": {},
   "outputs": [
    {
     "name": "stdout",
     "output_type": "stream",
     "text": [
      "[0.3844931  0.80723406 4.37048243 0.81245557 3.46078333 5.12214342\n",
      " 3.94118539 9.71055089 0.34967033]\n"
     ]
    }
   ],
   "source": [
    "#class_weights = class_weight.compute_class_weight('balanced',classes=np.unique(np.array(y_train_CNN)),y=np.array(y_train_CNN))\n",
    "np.array(df_train_offset.specie_ind)\n",
    "from sklearn.utils import class_weight\n",
    "class_weights = class_weight.compute_class_weight('balanced',classes=np.unique(np.array(df_train_offset.specie_ind)),y=np.array(np.array(df_train_offset.specie_ind)))\n",
    "print(class_weights)"
   ]
  },
  {
   "cell_type": "code",
   "execution_count": 38,
   "id": "56a87f40",
   "metadata": {},
   "outputs": [
    {
     "data": {
      "text/plain": [
       "24518"
      ]
     },
     "execution_count": 38,
     "metadata": {},
     "output_type": "execute_result"
    }
   ],
   "source": [
    "len(df_val_offset)"
   ]
  },
  {
   "cell_type": "code",
   "execution_count": 39,
   "id": "d19d9f7d",
   "metadata": {},
   "outputs": [
    {
     "name": "stdout",
     "output_type": "stream",
     "text": [
      "DF type = test\n",
      "i = 0\n",
      "9018\n",
      "DF type = test\n",
      "i = 1\n",
      "4157\n",
      "DF type = test\n",
      "i = 2\n",
      "429\n",
      "DF type = test\n",
      "i = 3\n",
      "3422\n",
      "DF type = test\n",
      "i = 4\n",
      "1327\n",
      "DF type = test\n",
      "i = 5\n",
      "657\n",
      "DF type = test\n",
      "i = 6\n",
      "975\n",
      "DF type = test\n",
      "i = 7\n",
      "423\n",
      "DF type = test\n",
      "i = 8\n",
      "2886\n"
     ]
    }
   ],
   "source": [
    "#get_specie_distri(df_train_offset , classes , type_df = \"train\")\n",
    "#get_specie_distri(df_val_offset , classes , type_df = \"Val\")\n",
    "get_specie_distri(df_test_offset , classes , type_df = \"test\")"
   ]
  },
  {
   "cell_type": "code",
   "execution_count": 40,
   "id": "049a72ee",
   "metadata": {},
   "outputs": [],
   "source": [
    "### get the frame offsets for each audio file into dataframes\n",
    "# audio_df_train = get_offsets_df(df_train, short_audio=USE_SHORT_AUDIO)\n",
    "# audio_df_test_A = get_offsets_df(df_test_A, short_audio=False)\n",
    "# audio_df_test_B = get_offsets_df(df_test_B, short_audio=False)"
   ]
  },
  {
   "cell_type": "code",
   "execution_count": 41,
   "id": "face834d",
   "metadata": {},
   "outputs": [],
   "source": [
    "# This function pads a file with 0s to make it a 1.92 sec file\n",
    "def pad_zero(x_temp,rate = config.rate, min_length = config.min_duration ):\n",
    "    #print(\"inside padding zero...\")\n",
    "    left_pad_amt = int((rate*min_length-x_temp.shape[1])//2)\n",
    "    #print(\"left_pad_amt = \" + str(left_pad_amt))\n",
    "    left_pad = torch.zeros(1,left_pad_amt) #+ (0.1**0.5)*torch.randn(1, left_pad_amt)\n",
    "    right_pad_amt = int(rate*min_length-x_temp.shape[1]-left_pad_amt)\n",
    "    right_pad = torch.zeros(1,right_pad_amt)# + (0.1**0.5)*torch.randn(1, right_pad_amt)\n",
    "    f = torch.cat([left_pad,x_temp,right_pad],dim=1)[0]\n",
    "    f = f.unsqueeze(dim = 0)\n",
    "    #print(\"returning a tensor of shape = \" + str(f.shape))\n",
    "    return(f)"
   ]
  },
  {
   "cell_type": "code",
   "execution_count": 42,
   "id": "4ecd57ac",
   "metadata": {},
   "outputs": [],
   "source": [
    "def load_model(filepath, model):\n",
    "    # Instantiate model to inspect\n",
    "    device = torch.device('cuda:0' if torch.cuda.is_available() else torch.device(\"cpu\"))\n",
    "    print(f'Training on {device}')\n",
    "        \n",
    "    if torch.cuda.device_count() > 1:\n",
    "        print(\"Using data parallel\")\n",
    "        model = nn.DataParallel(model, device_ids=list(range(torch.cuda.device_count())))\n",
    "    model = model.to(device)\n",
    "    # Load trained parameters from checkpoint (may need to download from S3 first)\n",
    "\n",
    "\n",
    "    if torch.cuda.is_available():\n",
    "        map_location=lambda storage, loc: storage.cuda()\n",
    "    else:\n",
    "        map_location='cpu'\n",
    "        \n",
    "    checkpoint = model.load_state_dict(torch.load(filepath))\n",
    "\n",
    "    return model"
   ]
  },
  {
   "cell_type": "code",
   "execution_count": 43,
   "id": "adec73ef",
   "metadata": {},
   "outputs": [],
   "source": [
    "def plot_confusion_matrix(y_hat,y_true,classes):\n",
    "    from sklearn.metrics import confusion_matrix\n",
    "    cm = confusion_matrix(y_hat, y_true ,labels= range(0,9))\n",
    "    import seaborn as sns\n",
    "    ax= plt.subplot()\n",
    "    sns.heatmap(cm, annot=True, ax = ax, fmt = 'g'); #annot=True to annotate cellsplt.xticks(rotation=90)\n",
    "    ax.xaxis.set_ticklabels(classes, fontsize = 10)\n",
    "    ax.xaxis.tick_bottom()\n",
    "    plt.xticks(rotation=90)\n",
    "    ax.set_ylabel('True', fontsize=20)\n",
    "    ax.yaxis.set_ticklabels(classes, fontsize = 10)\n",
    "    plt.yticks(rotation=0)\n",
    "    plt.show()\n",
    "    \n",
    "    \n",
    "    "
   ]
  },
  {
   "cell_type": "code",
   "execution_count": 44,
   "id": "1d9a7666",
   "metadata": {},
   "outputs": [],
   "source": [
    "def concat_df(df_offset, indices):\n",
    "    list_df_ind = []\n",
    "    #print(\"len of indices = \" + str(len(indices)))\n",
    "    for ind in indices :\n",
    "        df_name = \"df_\"+ str(ind)\n",
    "        df_name = df_offset[df_offset['specie_ind'] == ind]\n",
    "        list_df_ind.append(df_name)\n",
    "    df_offset_trimmed = pd.concat(list_df_ind)\n",
    "    return(df_offset_trimmed)"
   ]
  },
  {
   "cell_type": "code",
   "execution_count": 45,
   "id": "871c5b2f",
   "metadata": {},
   "outputs": [
    {
     "data": {
      "text/plain": [
       "1.92"
      ]
     },
     "execution_count": 45,
     "metadata": {},
     "output_type": "execute_result"
    }
   ],
   "source": [
    "#check the min length based on config params\n",
    "min_length = (config.win_size * config.n_hop) / config.rate\n",
    "min_length"
   ]
  },
  {
   "cell_type": "markdown",
   "id": "6a8b91fc",
   "metadata": {},
   "source": [
    "### Class Defintions"
   ]
  },
  {
   "cell_type": "code",
   "execution_count": 46,
   "id": "40058c01",
   "metadata": {},
   "outputs": [],
   "source": [
    "class Normalization():\n",
    "    \"\"\"This class is for normalizing the spectrograms batch by batch. The normalization used is min-max, two modes 'framewise' and 'imagewise' can be selected. In this paper, we found that 'imagewise' normalization works better than 'framewise'\"\"\"\n",
    "    def __init__(self, mode='framewise'):\n",
    "        if mode == 'framewise':\n",
    "            def normalize(x):\n",
    "                size = x.shape\n",
    "                x_max = x.max(1, keepdim=True)[0] # Finding max values for each frame\n",
    "                x_min = x.min(1, keepdim=True)[0]  \n",
    "                output = (x-x_min)/(x_max-x_min) # If there is a column with all zero, nan will occur\n",
    "                output[torch.isnan(output)]=0 # Making nan to 0\n",
    "                return output\n",
    "        elif mode == 'imagewise':\n",
    "            def normalize(x):\n",
    "                size = x.shape\n",
    "                x_max = x.reshape(size[0], size[1]*size[2]).max(1, keepdim=True)[0]\n",
    "                x_min = x.reshape(size[0], size[1]*size[2]).min(1, keepdim=True)[0]\n",
    "                x_max = x_max.unsqueeze(1) # Make it broadcastable\n",
    "                x_min = x_min.unsqueeze(1) # Make it broadcastable \n",
    "                return (x-x_min)/(x_max-x_min)\n",
    "        else:\n",
    "            print(f'please choose the correct mode')\n",
    "        self.normalize = normalize\n",
    "\n",
    "    def __call__(self, x):\n",
    "        return self.normalize(x)"
   ]
  },
  {
   "cell_type": "code",
   "execution_count": 47,
   "id": "61d35c1d",
   "metadata": {},
   "outputs": [],
   "source": [
    "def pcen(x, eps=1e-6, s=0.025, alpha=0.98, delta=2, r=0.5, training=False):\n",
    "    frames = x.split(1, -2)\n",
    "    m_frames = []\n",
    "    last_state = None\n",
    "    for frame in frames:\n",
    "        if last_state is None:\n",
    "            last_state = s * frame\n",
    "            m_frames.append(last_state)\n",
    "            continue\n",
    "        if training:\n",
    "            m_frame = ((1 - s) * last_state).add_(s * frame)\n",
    "        else:\n",
    "            m_frame = (1 - s) * last_state + s * frame\n",
    "        last_state = m_frame\n",
    "        m_frames.append(m_frame)\n",
    "    M = torch.cat(m_frames, 1)\n",
    "    if training:\n",
    "        pcen_ = (x / (M + eps).pow(alpha) + delta).pow(r) - delta ** r\n",
    "    else:\n",
    "        pcen_ = x.div_(M.add_(eps).pow_(alpha)).add_(delta).pow_(r).sub_(delta ** r)\n",
    "    return pcen_\n",
    "\n",
    "\n",
    "class PCENTransform(nn.Module):\n",
    "\n",
    "    def __init__(self, eps=1e-6, s=0.025, alpha=0.98, delta=2, r=0.5, trainable=True):\n",
    "        super().__init__()\n",
    "        if trainable:\n",
    "            self.log_s = nn.Parameter(torch.log(torch.Tensor([s])))\n",
    "            self.log_alpha = nn.Parameter(torch.log(torch.Tensor([alpha])))\n",
    "            self.log_delta = nn.Parameter(torch.log(torch.Tensor([delta])))\n",
    "            self.log_r = nn.Parameter(torch.log(torch.Tensor([r])))\n",
    "        else:\n",
    "            self.s = s\n",
    "            self.alpha = alpha\n",
    "            self.delta = delta\n",
    "            self.r = r\n",
    "        self.eps = eps\n",
    "        self.trainable = trainable\n",
    "\n",
    "    def forward(self, x):\n",
    "#         x = x.permute((0,2,1)).squeeze(dim=1)\n",
    "        if self.trainable:\n",
    "            x = pcen(x, self.eps, torch.exp(self.log_s), torch.exp(self.log_alpha), torch.exp(self.log_delta), torch.exp(self.log_r), self.training and self.trainable)\n",
    "        else:\n",
    "            x = pcen(x, self.eps, self.s, self.alpha, self.delta, self.r, self.training and self.trainable)\n",
    "#         x = x.unsqueeze(dim=1).permute((0,1,3,2))\n",
    "        return x"
   ]
  },
  {
   "cell_type": "code",
   "execution_count": 48,
   "id": "2e893129",
   "metadata": {},
   "outputs": [
    {
     "data": {
      "text/html": [
       "<div>\n",
       "<style scoped>\n",
       "    .dataframe tbody tr th:only-of-type {\n",
       "        vertical-align: middle;\n",
       "    }\n",
       "\n",
       "    .dataframe tbody tr th {\n",
       "        vertical-align: top;\n",
       "    }\n",
       "\n",
       "    .dataframe thead th {\n",
       "        text-align: right;\n",
       "    }\n",
       "</style>\n",
       "<table border=\"1\" class=\"dataframe\">\n",
       "  <thead>\n",
       "    <tr style=\"text-align: right;\">\n",
       "      <th></th>\n",
       "      <th>index</th>\n",
       "      <th>id</th>\n",
       "      <th>offset</th>\n",
       "      <th>length</th>\n",
       "      <th>specie_ind</th>\n",
       "    </tr>\n",
       "  </thead>\n",
       "  <tbody>\n",
       "    <tr>\n",
       "      <th>0</th>\n",
       "      <td>0</td>\n",
       "      <td>222214</td>\n",
       "      <td>0</td>\n",
       "      <td>10.24</td>\n",
       "      <td>8</td>\n",
       "    </tr>\n",
       "    <tr>\n",
       "      <th>1</th>\n",
       "      <td>1</td>\n",
       "      <td>222214</td>\n",
       "      <td>2561</td>\n",
       "      <td>10.24</td>\n",
       "      <td>8</td>\n",
       "    </tr>\n",
       "    <tr>\n",
       "      <th>2</th>\n",
       "      <td>2</td>\n",
       "      <td>222214</td>\n",
       "      <td>5121</td>\n",
       "      <td>10.24</td>\n",
       "      <td>8</td>\n",
       "    </tr>\n",
       "    <tr>\n",
       "      <th>3</th>\n",
       "      <td>3</td>\n",
       "      <td>222214</td>\n",
       "      <td>7681</td>\n",
       "      <td>10.24</td>\n",
       "      <td>8</td>\n",
       "    </tr>\n",
       "    <tr>\n",
       "      <th>4</th>\n",
       "      <td>4</td>\n",
       "      <td>222214</td>\n",
       "      <td>10241</td>\n",
       "      <td>10.24</td>\n",
       "      <td>8</td>\n",
       "    </tr>\n",
       "  </tbody>\n",
       "</table>\n",
       "</div>"
      ],
      "text/plain": [
       "   index      id  offset  length  specie_ind\n",
       "0      0  222214       0   10.24           8\n",
       "1      1  222214    2561   10.24           8\n",
       "2      2  222214    5121   10.24           8\n",
       "3      3  222214    7681   10.24           8\n",
       "4      4  222214   10241   10.24           8"
      ]
     },
     "execution_count": 48,
     "metadata": {},
     "output_type": "execute_result"
    }
   ],
   "source": [
    "df_train_offset.head()"
   ]
  },
  {
   "cell_type": "code",
   "execution_count": 49,
   "id": "e4d3a69e",
   "metadata": {},
   "outputs": [],
   "source": [
    "def test_model(model, loader, criterion,  classes = classes,device=None , call = \"val\"):\n",
    "    \n",
    "    if DEBUG:\n",
    "        print(\"calling for ...\" +str(call))\n",
    "    with torch.no_grad():\n",
    "        if device is None:\n",
    "            torch.device('cuda:0' if torch.cuda.is_available() else 'cpu')\n",
    "        \n",
    "        sigmoid = nn.Sigmoid()\n",
    "        test_loss = 0.0\n",
    "        model.eval()\n",
    "        if DEBUG:\n",
    "            print(\"inside test....\")\n",
    "        all_y = []\n",
    "        all_y_pred = []\n",
    "        counter = 1\n",
    "        if DEBUG:\n",
    "            print(\"length of loader = \" + str(len(loader)))\n",
    "        for idx,(x,y) in enumerate(loader):\n",
    "            if DEBUG:\n",
    "                print(\"loader index = \" + str(idx))\n",
    "                            \n",
    "            x = x.to(device).float() \n",
    "            y = y.type(torch.LongTensor).to(device)\n",
    "            if DEBUG:\n",
    "                print(\"y = \" + str(y))\n",
    "            y_pred = model(x)['prediction']\n",
    "            preds = torch.argmax(y_pred, axis = 1)\n",
    "            y_pred_cpu = y_pred.cpu().detach()\n",
    "            if DEBUG:\n",
    "                print(\"y_pred_cpu = \" + str(y_pred_cpu))\n",
    "            preds = torch.argmax(y_pred_cpu, axis = 1)\n",
    "            if DEBUG:\n",
    "                print(\"preds = \" +str(preds))\n",
    "            all_y_pred.append(preds.cpu().detach())\n",
    "                                   \n",
    "            loss = criterion(y_pred, y)\n",
    "            test_loss += loss.item()\n",
    "            all_y.append(y.cpu().detach())\n",
    "            #all_y_pred.append(np.argmax(y_pred.cpu().detach().numpy()))\n",
    "            \n",
    "            del x\n",
    "            del y\n",
    "            del y_pred\n",
    "        all_y = torch.cat(all_y)\n",
    "        all_y_pred = torch.cat(all_y_pred)\n",
    "        if DEBUG:\n",
    "            print(\"inside test....\")\n",
    "            print(\"y = \" + str(all_y))\n",
    "            print(\"y_pred  = \" + str(all_y_pred))\n",
    "        \n",
    "        test_loss = test_loss/len(test_loader)\n",
    "        test_acc = accuracy_score(all_y.numpy(), all_y_pred.numpy())\n",
    "    \n",
    "    \n",
    "    return test_loss, test_acc , all_y,all_y_pred"
   ]
  },
  {
   "cell_type": "code",
   "execution_count": 50,
   "id": "e7d9cfa4",
   "metadata": {},
   "outputs": [],
   "source": [
    "#(train_loader, val_loader, test_loader,model, classes ,class_weights ,num_epochs = num_epochs )\n",
    "def train_model(train_loader, val_loader,test_loader, model = None,  classes = classes,class_weights = class_weights,num_epochs = num_epochs ,n_channels = 1):\n",
    "    # Creates a GradScaler once at the beginning of training.\n",
    "    loss_scaler = NativeScaler()\n",
    "    global_step = 0\n",
    "    torch.manual_seed(0)\n",
    "\n",
    "    device = torch.device('cuda:0' if torch.cuda.is_available() else 'cpu')\n",
    "    print(f'Training on {device}')    \n",
    "    \n",
    "    if torch.cuda.device_count() > 1:\n",
    "        print(\"Using data parallel\")\n",
    "        model = nn.DataParallel(model, device_ids=list(range(torch.cuda.device_count())))\n",
    "\n",
    "    model = model.to(device)\n",
    "    weights_adj = torch.tensor(class_weights).type(torch.float).to(device)\n",
    "    criterion = nn.CrossEntropyLoss(weight=weights_adj)\n",
    "    optimiser = timm.optim.RAdam(model.parameters(), lr=config_pytorch.lr/10)\n",
    "    num_epochs = num_epochs\n",
    "    all_train_loss = []\n",
    "    all_train_acc = []\n",
    "    all_val_loss = []\n",
    "    all_val_acc = []\n",
    "    best_val_loss = np.inf\n",
    "    best_val_acc = -np.inf\n",
    "    best_train_acc = -np.inf\n",
    "    best_epoch = -1\n",
    "    checkpoint_name = None\n",
    "    overrun_counter = 0\n",
    "    sigmoid = nn.Sigmoid()\n",
    "    lr_log = []\n",
    "    for e in range(num_epochs):\n",
    "        start_time = time.time()\n",
    "        train_loss = 0.0\n",
    "        model.train()\n",
    "        running_loss = 0.0\n",
    "        all_y = []\n",
    "        all_y_pred = []\n",
    "        tk0 = tqdm(train_loader, total=int(len(train_loader)))\n",
    "        for batch_i, inputs in enumerate(tk0):\n",
    "            if DEBUG:\n",
    "                print(\"inside train loop.. batch_ind = \" +str(batch_i))\n",
    "            if batch_i % 200 == 0:\n",
    "                bat_time = time.time()\n",
    "                durn = (bat_time - start_time)/60\n",
    "                print(\"epoch = \" +str(e) + \"batch = \" +str(batch_i) + \" of \" + str(len(train_loader)) + \"duraation = \" + str(durn))\n",
    "            x = inputs[0].to(device).float()\n",
    "            y = inputs[1].type(torch.LongTensor).to(device)\n",
    "            global_step += 1\n",
    "            optimiser.zero_grad()\n",
    "            # AMP\n",
    "            with autocast():\n",
    "                y_pred = model(x)['prediction']\n",
    "                preds = torch.argmax(y_pred, axis = 1)\n",
    "                if DEBUG:\n",
    "                    print(\"y_pred  = \" +str(y_pred))\n",
    "                    print(\"preds = \" +str(preds))\n",
    "                loss = criterion(y_pred, y)\n",
    "            loss_scaler(loss, optimiser,parameters=model_parameters(model))\n",
    "            train_loss += loss.item()\n",
    "            all_y.append(y.cpu().detach())\n",
    "            y_pred_cpu = y_pred.cpu().detach()\n",
    "            preds = torch.argmax(y_pred_cpu, axis = 1)\n",
    "            if DEBUG:\n",
    "                print(\"batch_ind = \" +str(batch_i))\n",
    "                print(\"y_pred_cpu = \" + str(y_pred_cpu))\n",
    "                \n",
    "            all_y_pred.append(preds.cpu().detach())\n",
    "            lr_log.append(optimiser.param_groups[0]['lr'])\n",
    "            tk0.set_postfix(training_loss=(train_loss / (batch_i+1)), lr=optimiser.param_groups[0]['lr'])\n",
    "            del x\n",
    "            del y\n",
    "            del y_pred,preds\n",
    "        \n",
    "        all_train_loss.append(train_loss/len(train_loader))\n",
    "        all_y = torch.cat(all_y)\n",
    "        all_y_pred = torch.cat(all_y_pred)\n",
    "        if DEBUG:\n",
    "            print(\"y = \" + str(all_y))\n",
    "            print(\"y_pred  = \" + str(all_y_pred))\n",
    "        \n",
    "        train_acc = accuracy_score(all_y.numpy(), all_y_pred.numpy())\n",
    "        if DEBUG:\n",
    "            print(\"train acc = \" +str(train_acc))\n",
    "        all_train_acc.append(train_acc)\n",
    "        val_loss, val_acc , _,_ = test_model(model, val_loader, criterion = nn.CrossEntropyLoss(), classes = classes ,device=device, call = \"val\")\n",
    "        if DEBUG:\n",
    "            print(\"val accuracy = \" + str(val_acc))\n",
    "        all_val_loss.append(val_loss)\n",
    "        all_val_acc.append(val_acc)\n",
    "        \n",
    "        acc_metric = val_acc\n",
    "        best_acc_metric = best_val_acc\n",
    "        if acc_metric > best_acc_metric:  \n",
    "            checkpoint_name = f'model_e{e}_{datetime.now().strftime(\"%Y_%m_%d_%H_%M_%S\")}.pth'\n",
    "            torch.save(model.state_dict(), os.path.join(config.model_dir, 'pytorch', checkpoint_name))\n",
    "            print('Saving model to:', os.path.join(config.model_dir, 'pytorch', checkpoint_name)) \n",
    "            print(\"Now printing classification rport... \")\n",
    "            from sklearn.metrics import classification_report\n",
    "            _, _ , all_y_test,all_y_pred_test = test_model(model, test_loader, criterion = nn.CrossEntropyLoss(), classes = classes ,device=device, call = \"test\")\n",
    "            print(classification_report(all_y_test.numpy(), all_y_pred_test.numpy(), target_names= classes))\n",
    "            plot_confusion_matrix(all_y_pred_test.numpy(), all_y_test.numpy() , classes)\n",
    "            best_epoch = e\n",
    "            best_val_acc = val_acc\n",
    "            best_val_loss = val_loss\n",
    "            overrun_counter = -1\n",
    "        overrun_counter += 1\n",
    "        print('Epoch: %d, Train Loss: %.8f, Train Acc: %.8f, Val Loss: %.8f, Val Acc: %.8f, overrun_counter %i' % (e, train_loss/len(train_loader), train_acc, val_loss/len(val_loader), val_acc,  overrun_counter))\n",
    "        if overrun_counter > config_pytorch.max_overrun:\n",
    "            break\n",
    "            \n",
    "    \n",
    "    return model, lr_log"
   ]
  },
  {
   "cell_type": "code",
   "execution_count": null,
   "id": "7bd54353",
   "metadata": {},
   "outputs": [],
   "source": []
  },
  {
   "cell_type": "code",
   "execution_count": 51,
   "id": "a8e73d9e",
   "metadata": {},
   "outputs": [],
   "source": [
    "class MozDataset(Dataset):\n",
    "\n",
    "    def __init__(self, audio_df, data_dir, min_length, cache=None, transform=None):\n",
    "        \"\"\"\n",
    "        Args:\n",
    "            audio_df (DataFrame): from get_offsets_df function \n",
    "            noise_df (DataFrame): the df of noise files and lengths\n",
    "            data_dir (string): Directory with all the wavs.\n",
    "            cache (dict): Empty dictionary used as cache\n",
    "            transform (callable, optional): Optional transform to be applied\n",
    "                on a sample.\n",
    "        \"\"\"\n",
    "        self.audio_df = audio_df\n",
    "        #self.noise_df = noise_df\n",
    "        self.data_dir = data_dir\n",
    "        self.min_length = min_length\n",
    "        self.transform = transform\n",
    "        self.cache = cache\n",
    "\n",
    "    def __len__(self):\n",
    "        return len(self.audio_df)\n",
    "    \n",
    "    def _get_sample_(self, path, resample=None):\n",
    "        \n",
    "        waveform, inp_rate = torchaudio.load(path)\n",
    "        \n",
    "        if inp_rate != config.rate:\n",
    "            import torchaudio.transforms as T\n",
    "            resampler = T.Resample(inp_rate, config.rate, dtype=waveform.dtype)\n",
    "            waveform = resampler(waveform)\n",
    "    \n",
    "        \n",
    "        #waveform, rate = torchaudio.load(path)\n",
    "                \n",
    "        if waveform.shape[1] < config.rate*self.min_length:\n",
    "            #r = math.ceil((config.rate*self.min_length)/waveform.shape[1])\n",
    "            f_out = pad_zero(waveform)\n",
    "        else:\n",
    "            f = waveform[0]\n",
    "            mu = torch.std_mean(f)[1]\n",
    "            st = torch.std_mean(f)[0]\n",
    "            # clip amplitudes\n",
    "            f_out = torch.clamp(f, min=mu-st*3, max=mu+st*3).unsqueeze(0)\n",
    "            if self.cache is not None:\n",
    "                self.cache[path] = f_out\n",
    "        return f_out\n",
    "\n",
    "    def __getitem__(self, idx):\n",
    "        #real_idx = idx % len(self.audio_df)\n",
    "        if DEBUG:\n",
    "            print(\"idx = \" + str(idx))\n",
    "        x = self._get_sample_(os.path.join(self.data_dir,f\"{int(self.audio_df.loc[idx]['id'])}.wav\"), resample=config.rate)\n",
    "        \n",
    "        # random noise on even number indexes\n",
    "        offset = int(self.audio_df.loc[idx]['offset'])\n",
    "        \n",
    "        return (x[:,offset:int(offset+config.rate*self.min_length)],self.audio_df.loc[idx]['specie_ind'] )\n"
   ]
  },
  {
   "cell_type": "code",
   "execution_count": null,
   "id": "795897be",
   "metadata": {},
   "outputs": [],
   "source": []
  },
  {
   "cell_type": "code",
   "execution_count": 52,
   "id": "b42da480",
   "metadata": {},
   "outputs": [],
   "source": [
    "# Subclass the pretrained model and make it a binary classification\n",
    "\n",
    "class Model(nn.Module):\n",
    "    def __init__(self, model_name, image_size):\n",
    "        super().__init__()\n",
    "        # num_classes=0 removes the pretrained head\n",
    "        self.backbone = timm.create_model(model_name,\n",
    "                        pretrained=True, num_classes=9, in_chans=1, \n",
    "                        drop_path_rate=0.05, global_pool='max',\n",
    "                        drop_rate=0.05)\n",
    "        #####  This section is model specific\n",
    "        #### It freezes some fo the layers by name\n",
    "        #### you'll have to inspect the model to see the names\n",
    "                #### end layer freezing\n",
    "        self.spec_layer = features.STFT(n_fft=config.NFFT, freq_bins=None, hop_length=config.n_hop,\n",
    "                              window='hann', freq_scale='linear', center=True, pad_mode='reflect',\n",
    "                          fmin=400, fmax=2000, sr=config.rate, output_format=\"Magnitude\", trainable=True,)\n",
    "        self.out = nn.Linear(self.backbone.num_features, 1)\n",
    "        self.sizer = VT.Resize((image_size,image_size))\n",
    "        self.timeMasking = T.TimeMasking(time_mask_param=int(config.win_size*0.4), iid_masks=True)\n",
    "        self.freqMasking = T.FrequencyMasking(freq_mask_param=int((config.NFFT//4)*0.15), iid_masks=True)\n",
    "        self.norm_layer = Normalization(mode='framewise')\n",
    "        self.pcen_layer = PCENTransform(eps=1e-6, s=0.025, alpha=0.6, delta=0.1, r=0.2, trainable=True)\n",
    "        \n",
    "    def forward(self, x):\n",
    "        # first compute spectrogram\n",
    "        spec = self.spec_layer(x)  # (B, F, T)\n",
    "        # normalize\n",
    "#         spec = spec.transpose(1,2) # (B, T, F)\n",
    "        spec = self.pcen_layer(spec)\n",
    "        spec = self.norm_layer(spec)\n",
    "        \n",
    "#         if self.training:\n",
    "        spec = self.timeMasking(spec)\n",
    "        spec = self.freqMasking(spec)\n",
    "\n",
    "        # then size for CNN model\n",
    "        # and create a channel\n",
    "        spec = self.sizer(spec)\n",
    "        x = spec.unsqueeze(1)\n",
    "        # then repeat channels\n",
    "        x = self.backbone(x)\n",
    "        #print(\"x shape = \" + str(x.shape))\n",
    "        #print(\"x = \" +str(x))\n",
    "        #pred = nn.Softmax(x)\n",
    "        pred = x\n",
    "        #print(np.argmax(pred.detach().cpu().numpy()))\n",
    "        #print(pred)\n",
    "        output = {\"prediction\": pred,\n",
    "                  \"spectrogram\": spec}\n",
    "        #print(output)\n",
    "        return output"
   ]
  },
  {
   "cell_type": "code",
   "execution_count": 53,
   "id": "ae00e6bf",
   "metadata": {},
   "outputs": [],
   "source": [
    "# test = torch.rand(1,15360)\n",
    "\n",
    "# model =Model('convnext_small',224)\n",
    "# op = model(test)\n",
    "# print(op)"
   ]
  },
  {
   "cell_type": "code",
   "execution_count": 54,
   "id": "4c9e8aba",
   "metadata": {},
   "outputs": [],
   "source": [
    "#https://discuss.pytorch.org/t/how-to-handle-imbalanced-classes/11264\n",
    "# from torch.utils.data.sampler import WeightedRandomSampler\n",
    "# class_sample_count = []\n",
    "# for i in range(0,len(classes)):\n",
    "#     df_temp = df_train_offset[df_train_offset['specie_ind'] == i]\n",
    "#     print(\"i = \" +str(i))\n",
    "#     print(len(df_temp))\n",
    "#     class_sample_count.append(len(df_temp))\n",
    "# print(\"class_sample_count = \" + str(class_sample_count))\n",
    "# class_sample_count_arr = np.array(class_sample_count)\n",
    "# weight = 1. / class_sample_count_arr\n",
    "# print(\"weight = \" +str(weight))\n",
    "# samples_weight = []\n",
    "# for t in range(len(classes)):\n",
    "#     samples_weight.append(weight[t])\n",
    "    \n",
    "# samples_weight = np.array(samples_weight)\n",
    "# print(\"samples_weight = \" +str(samples_weight))\n",
    "\n",
    "# samples_weight = torch.from_numpy(samples_weight)\n",
    "# samples_weigth = samples_weight.double()\n",
    "# sampler = WeightedRandomSampler(samples_weight, len(classes)*10000)\n",
    "  \n",
    "# class_sample_count = np.array( [len(np.where(target == t)[0]) for t in np.unique(target)])\n",
    "# weight = 1. / class_sample_count\n",
    "# samples_weight = np.array([weight[t] for t in target])\n"
   ]
  },
  {
   "cell_type": "code",
   "execution_count": 55,
   "id": "f707853e",
   "metadata": {},
   "outputs": [
    {
     "data": {
      "text/html": [
       "<div>\n",
       "<style scoped>\n",
       "    .dataframe tbody tr th:only-of-type {\n",
       "        vertical-align: middle;\n",
       "    }\n",
       "\n",
       "    .dataframe tbody tr th {\n",
       "        vertical-align: top;\n",
       "    }\n",
       "\n",
       "    .dataframe thead th {\n",
       "        text-align: right;\n",
       "    }\n",
       "</style>\n",
       "<table border=\"1\" class=\"dataframe\">\n",
       "  <thead>\n",
       "    <tr style=\"text-align: right;\">\n",
       "      <th></th>\n",
       "      <th>index</th>\n",
       "      <th>id</th>\n",
       "      <th>offset</th>\n",
       "      <th>length</th>\n",
       "      <th>specie_ind</th>\n",
       "    </tr>\n",
       "  </thead>\n",
       "  <tbody>\n",
       "    <tr>\n",
       "      <th>0</th>\n",
       "      <td>0</td>\n",
       "      <td>222214</td>\n",
       "      <td>0</td>\n",
       "      <td>10.24000</td>\n",
       "      <td>8</td>\n",
       "    </tr>\n",
       "    <tr>\n",
       "      <th>1</th>\n",
       "      <td>1</td>\n",
       "      <td>222214</td>\n",
       "      <td>2561</td>\n",
       "      <td>10.24000</td>\n",
       "      <td>8</td>\n",
       "    </tr>\n",
       "    <tr>\n",
       "      <th>2</th>\n",
       "      <td>2</td>\n",
       "      <td>222214</td>\n",
       "      <td>5121</td>\n",
       "      <td>10.24000</td>\n",
       "      <td>8</td>\n",
       "    </tr>\n",
       "    <tr>\n",
       "      <th>3</th>\n",
       "      <td>3</td>\n",
       "      <td>222214</td>\n",
       "      <td>7681</td>\n",
       "      <td>10.24000</td>\n",
       "      <td>8</td>\n",
       "    </tr>\n",
       "    <tr>\n",
       "      <th>4</th>\n",
       "      <td>4</td>\n",
       "      <td>222214</td>\n",
       "      <td>10241</td>\n",
       "      <td>10.24000</td>\n",
       "      <td>8</td>\n",
       "    </tr>\n",
       "    <tr>\n",
       "      <th>...</th>\n",
       "      <td>...</td>\n",
       "      <td>...</td>\n",
       "      <td>...</td>\n",
       "      <td>...</td>\n",
       "      <td>...</td>\n",
       "    </tr>\n",
       "    <tr>\n",
       "      <th>103995</th>\n",
       "      <td>103995</td>\n",
       "      <td>1130</td>\n",
       "      <td>43521</td>\n",
       "      <td>9.20562</td>\n",
       "      <td>8</td>\n",
       "    </tr>\n",
       "    <tr>\n",
       "      <th>103996</th>\n",
       "      <td>103996</td>\n",
       "      <td>1130</td>\n",
       "      <td>46081</td>\n",
       "      <td>9.20562</td>\n",
       "      <td>8</td>\n",
       "    </tr>\n",
       "    <tr>\n",
       "      <th>103997</th>\n",
       "      <td>103997</td>\n",
       "      <td>1130</td>\n",
       "      <td>48641</td>\n",
       "      <td>9.20562</td>\n",
       "      <td>8</td>\n",
       "    </tr>\n",
       "    <tr>\n",
       "      <th>103998</th>\n",
       "      <td>103998</td>\n",
       "      <td>1130</td>\n",
       "      <td>51201</td>\n",
       "      <td>9.20562</td>\n",
       "      <td>8</td>\n",
       "    </tr>\n",
       "    <tr>\n",
       "      <th>103999</th>\n",
       "      <td>103999</td>\n",
       "      <td>1130</td>\n",
       "      <td>53761</td>\n",
       "      <td>9.20562</td>\n",
       "      <td>8</td>\n",
       "    </tr>\n",
       "  </tbody>\n",
       "</table>\n",
       "<p>104000 rows × 5 columns</p>\n",
       "</div>"
      ],
      "text/plain": [
       "         index      id  offset    length  specie_ind\n",
       "0            0  222214       0  10.24000           8\n",
       "1            1  222214    2561  10.24000           8\n",
       "2            2  222214    5121  10.24000           8\n",
       "3            3  222214    7681  10.24000           8\n",
       "4            4  222214   10241  10.24000           8\n",
       "...        ...     ...     ...       ...         ...\n",
       "103995  103995    1130   43521   9.20562           8\n",
       "103996  103996    1130   46081   9.20562           8\n",
       "103997  103997    1130   48641   9.20562           8\n",
       "103998  103998    1130   51201   9.20562           8\n",
       "103999  103999    1130   53761   9.20562           8\n",
       "\n",
       "[104000 rows x 5 columns]"
      ]
     },
     "execution_count": 55,
     "metadata": {},
     "output_type": "execute_result"
    }
   ],
   "source": [
    "df_train_offset"
   ]
  },
  {
   "cell_type": "code",
   "execution_count": null,
   "id": "ad0fdbaf",
   "metadata": {},
   "outputs": [],
   "source": []
  },
  {
   "cell_type": "code",
   "execution_count": 56,
   "id": "7447271f",
   "metadata": {},
   "outputs": [],
   "source": [
    "train_dataset = MozDataset(df_train_offset,  config.data_dir, min_length)\n",
    "val_dataset = MozDataset(df_val_offset,  config.data_dir, min_length)\n",
    "test_dataset = MozDataset(df_test_offset,  config.data_dir, min_length)\n",
    "\n",
    "train_loader = torch.utils.data.DataLoader(\n",
    "        train_dataset, num_workers=num_workers,batch_size = batch_size,shuffle = True\n",
    "    , pin_memory=True )\n",
    "\n",
    "val_loader = torch.utils.data.DataLoader(\n",
    "        val_dataset, batch_size=batch_size,\n",
    "        num_workers=num_workers, pin_memory=pin_memory,\n",
    "    )\n",
    "\n",
    "test_loader = torch.utils.data.DataLoader(\n",
    "        test_dataset, batch_size=batch_size,\n",
    "        num_workers= num_workers, pin_memory=pin_memory,\n",
    "    )\n"
   ]
  },
  {
   "cell_type": "code",
   "execution_count": null,
   "id": "8050a092",
   "metadata": {},
   "outputs": [],
   "source": []
  },
  {
   "cell_type": "code",
   "execution_count": 57,
   "id": "8dd3a0b7",
   "metadata": {},
   "outputs": [
    {
     "name": "stdout",
     "output_type": "stream",
     "text": [
      "Length of train dataset = 104000\n",
      "Length of train loader = 813\n"
     ]
    }
   ],
   "source": [
    "print(\"Length of train dataset = \" +str(len(train_dataset)))\n",
    "print(\"Length of train loader = \" +str(len(train_loader)))"
   ]
  },
  {
   "cell_type": "code",
   "execution_count": 58,
   "id": "36ead974",
   "metadata": {},
   "outputs": [],
   "source": [
    "# test_iter = iter(val_loader)\n",
    "# a,b = test_iter.next()\n",
    "# print(a.shape)\n",
    "# print(b)"
   ]
  },
  {
   "cell_type": "code",
   "execution_count": null,
   "id": "9df88415",
   "metadata": {},
   "outputs": [],
   "source": [
    "\n",
    "\n"
   ]
  },
  {
   "cell_type": "code",
   "execution_count": 59,
   "id": "7e3a9dc8",
   "metadata": {},
   "outputs": [],
   "source": [
    "# Test block\n",
    "\n",
    "#temp_ten = torch.rand(64, 9, 1, 15360)\n",
    "# temp_ten.shape\n",
    "# bat_len = temp_ten.shape[0]\n",
    "# print(\"bat_len = \" +str(bat_len))\n",
    "# for i in range (bat_len):\n",
    "#     print(\"i = \" + str(i))\n",
    "#     elem = temp_ten[i,:,:,:]\n",
    "#     print(\"elem shape = \" +str(elem.shape))\n",
    "#     for j in range(elem.shape[0]):\n",
    "#         img = elem[j,:,:]\n",
    "#         print(\"img shape = \" +str(img.shape))\n",
    "        "
   ]
  },
  {
   "cell_type": "markdown",
   "id": "e184696c",
   "metadata": {},
   "source": [
    "## Training"
   ]
  },
  {
   "cell_type": "code",
   "execution_count": 60,
   "id": "f6cd434c",
   "metadata": {},
   "outputs": [
    {
     "data": {
      "text/plain": [
       "104000"
      ]
     },
     "execution_count": 60,
     "metadata": {},
     "output_type": "execute_result"
    }
   ],
   "source": [
    "len(df_train_offset)"
   ]
  },
  {
   "cell_type": "code",
   "execution_count": 61,
   "id": "26084b1c",
   "metadata": {},
   "outputs": [
    {
     "name": "stdout",
     "output_type": "stream",
     "text": [
      "sampling rate = 8000. Please make sure the sampling rate is correct in order toget a valid freq range\n",
      "STFT kernels created, time used = 0.0799 seconds\n",
      "Training on cuda:0\n"
     ]
    },
    {
     "data": {
      "application/vnd.jupyter.widget-view+json": {
       "model_id": "738eb45b072b41339a511c1940529f7a",
       "version_major": 2,
       "version_minor": 0
      },
      "text/plain": [
       "  0%|          | 0/813 [00:00<?, ?it/s]"
      ]
     },
     "metadata": {},
     "output_type": "display_data"
    },
    {
     "name": "stdout",
     "output_type": "stream",
     "text": [
      "epoch = 0batch = 0 of 813duraation = 0.08307783206303915\n",
      "epoch = 0batch = 200 of 813duraation = 4.4257147471110025\n",
      "epoch = 0batch = 400 of 813duraation = 8.746666638056437\n",
      "epoch = 0batch = 600 of 813duraation = 13.162855140368144\n",
      "epoch = 0batch = 800 of 813duraation = 17.544393662611643\n",
      "Saving model to: ../outputs/models/pytorch/model_e0_2022_09_16_11_10_25.pth\n",
      "Now printing classification rport... \n",
      "                       precision    recall  f1-score   support\n",
      "\n",
      "        an arabiensis       0.66      0.41      0.50      9018\n",
      "culex pipiens complex       0.52      0.32      0.40      4157\n",
      "           ae aegypti       0.06      0.49      0.11       429\n",
      "       an funestus ss       0.41      0.37      0.39      3422\n",
      "         an squamosus       0.16      0.15      0.15      1327\n",
      "          an coustani       0.25      0.53      0.34       657\n",
      "         ma uniformis       0.14      0.09      0.11       975\n",
      "         ma africanus       0.08      0.36      0.13       423\n",
      "               others       0.12      0.15      0.13      2886\n",
      "\n",
      "             accuracy                           0.33     23294\n",
      "            macro avg       0.27      0.32      0.25     23294\n",
      "         weighted avg       0.45      0.33      0.37     23294\n",
      "\n"
     ]
    },
    {
     "data": {
      "image/png": "[encoded data removed]",
      "text/plain": [
       "<Figure size 432x288 with 2 Axes>"
      ]
     },
     "metadata": {
      "needs_background": "light"
     },
     "output_type": "display_data"
    },
    {
     "name": "stdout",
     "output_type": "stream",
     "text": [
      "Epoch: 0, Train Loss: 1.67966180, Train Acc: 0.35538462, Val Loss: 0.00728644, Val Acc: 0.50681132, overrun_counter 0\n"
     ]
    },
    {
     "data": {
      "application/vnd.jupyter.widget-view+json": {
       "model_id": "826eb12575384994b92efe1f4a6574d8",
       "version_major": 2,
       "version_minor": 0
      },
      "text/plain": [
       "  0%|          | 0/813 [00:00<?, ?it/s]"
      ]
     },
     "metadata": {},
     "output_type": "display_data"
    },
    {
     "name": "stdout",
     "output_type": "stream",
     "text": [
      "epoch = 1batch = 0 of 813duraation = 0.08450701236724853\n",
      "epoch = 1batch = 200 of 813duraation = 4.460748664538065\n",
      "epoch = 1batch = 400 of 813duraation = 8.81352694829305\n",
      "epoch = 1batch = 600 of 813duraation = 13.339395809173585\n",
      "epoch = 1batch = 800 of 813duraation = 17.761275176207224\n",
      "Saving model to: ../outputs/models/pytorch/model_e1_2022_09_16_11_38_41.pth\n",
      "Now printing classification rport... \n",
      "                       precision    recall  f1-score   support\n",
      "\n",
      "        an arabiensis       0.68      0.36      0.48      9018\n",
      "culex pipiens complex       0.36      0.59      0.45      4157\n",
      "           ae aegypti       0.11      0.33      0.16       429\n",
      "       an funestus ss       0.49      0.51      0.50      3422\n",
      "         an squamosus       0.16      0.38      0.22      1327\n",
      "          an coustani       0.24      0.45      0.31       657\n",
      "         ma uniformis       0.19      0.19      0.19       975\n",
      "         ma africanus       0.11      0.15      0.13       423\n",
      "               others       0.17      0.05      0.08      2886\n",
      "\n",
      "             accuracy                           0.38     23294\n",
      "            macro avg       0.28      0.34      0.28     23294\n",
      "         weighted avg       0.45      0.38      0.38     23294\n",
      "\n"
     ]
    },
    {
     "data": {
      "image/png": "[encoded data removed]",
      "text/plain": [
       "<Figure size 432x288 with 2 Axes>"
      ]
     },
     "metadata": {
      "needs_background": "light"
     },
     "output_type": "display_data"
    },
    {
     "name": "stdout",
     "output_type": "stream",
     "text": [
      "Epoch: 1, Train Loss: 1.00880687, Train Acc: 0.60284615, Val Loss: 0.00623479, Val Acc: 0.58271474, overrun_counter 0\n"
     ]
    },
    {
     "data": {
      "application/vnd.jupyter.widget-view+json": {
       "model_id": "20fe6c7bfdfb4a37b492c6b8d989d073",
       "version_major": 2,
       "version_minor": 0
      },
      "text/plain": [
       "  0%|          | 0/813 [00:00<?, ?it/s]"
      ]
     },
     "metadata": {},
     "output_type": "display_data"
    },
    {
     "name": "stdout",
     "output_type": "stream",
     "text": [
      "epoch = 2batch = 0 of 813duraation = 0.08166016737620035\n",
      "epoch = 2batch = 200 of 813duraation = 4.40964154402415\n",
      "epoch = 2batch = 400 of 813duraation = 8.725901925563813\n",
      "epoch = 2batch = 600 of 813duraation = 13.426131089528402\n",
      "epoch = 2batch = 800 of 813duraation = 17.966614508628844\n",
      "Saving model to: ../outputs/models/pytorch/model_e2_2022_09_16_12_06_24.pth\n",
      "Now printing classification rport... \n",
      "                       precision    recall  f1-score   support\n",
      "\n",
      "        an arabiensis       0.68      0.41      0.51      9018\n",
      "culex pipiens complex       0.52      0.41      0.46      4157\n",
      "           ae aegypti       0.10      0.37      0.16       429\n",
      "       an funestus ss       0.42      0.73      0.53      3422\n",
      "         an squamosus       0.18      0.34      0.23      1327\n",
      "          an coustani       0.19      0.46      0.27       657\n",
      "         ma uniformis       0.25      0.19      0.21       975\n",
      "         ma africanus       0.15      0.26      0.19       423\n",
      "               others       0.28      0.14      0.19      2886\n",
      "\n",
      "             accuracy                           0.41     23294\n",
      "            macro avg       0.31      0.37      0.31     23294\n",
      "         weighted avg       0.48      0.41      0.42     23294\n",
      "\n"
     ]
    },
    {
     "data": {
      "image/png": "[encoded data removed]",
      "text/plain": [
       "<Figure size 432x288 with 2 Axes>"
      ]
     },
     "metadata": {
      "needs_background": "light"
     },
     "output_type": "display_data"
    },
    {
     "name": "stdout",
     "output_type": "stream",
     "text": [
      "Epoch: 2, Train Loss: 0.73079520, Train Acc: 0.68739423, Val Loss: 0.00618067, Val Acc: 0.60502488, overrun_counter 0\n"
     ]
    },
    {
     "data": {
      "application/vnd.jupyter.widget-view+json": {
       "model_id": "1ed314dea5a24a06bc2c22e9461de5c3",
       "version_major": 2,
       "version_minor": 0
      },
      "text/plain": [
       "  0%|          | 0/813 [00:00<?, ?it/s]"
      ]
     },
     "metadata": {},
     "output_type": "display_data"
    },
    {
     "name": "stdout",
     "output_type": "stream",
     "text": [
      "epoch = 3batch = 0 of 813duraation = 0.08290072679519653\n",
      "epoch = 3batch = 200 of 813duraation = 4.3870909492174786\n",
      "epoch = 3batch = 400 of 813duraation = 8.706671019395193\n",
      "epoch = 3batch = 600 of 813duraation = 13.736822803815206\n",
      "epoch = 3batch = 800 of 813duraation = 18.363744382063548\n",
      "Saving model to: ../outputs/models/pytorch/model_e3_2022_09_16_12_34_32.pth\n",
      "Now printing classification rport... \n",
      "                       precision    recall  f1-score   support\n",
      "\n",
      "        an arabiensis       0.65      0.47      0.54      9018\n",
      "culex pipiens complex       0.47      0.53      0.49      4157\n",
      "           ae aegypti       0.22      0.24      0.23       429\n",
      "       an funestus ss       0.52      0.63      0.57      3422\n",
      "         an squamosus       0.18      0.47      0.26      1327\n",
      "          an coustani       0.28      0.47      0.35       657\n",
      "         ma uniformis       0.20      0.19      0.19       975\n",
      "         ma africanus       0.14      0.10      0.11       423\n",
      "               others       0.34      0.19      0.25      2886\n",
      "\n",
      "             accuracy                           0.45     23294\n",
      "            macro avg       0.33      0.36      0.33     23294\n",
      "         weighted avg       0.48      0.45      0.45     23294\n",
      "\n"
     ]
    },
    {
     "data": {
      "image/png": "[encoded data removed]",
      "text/plain": [
       "<Figure size 432x288 with 2 Axes>"
      ]
     },
     "metadata": {
      "needs_background": "light"
     },
     "output_type": "display_data"
    },
    {
     "name": "stdout",
     "output_type": "stream",
     "text": [
      "Epoch: 3, Train Loss: 0.56163895, Train Acc: 0.74723077, Val Loss: 0.00592394, Val Acc: 0.63842891, overrun_counter 0\n"
     ]
    },
    {
     "data": {
      "application/vnd.jupyter.widget-view+json": {
       "model_id": "f58cf288b96c4ae1af44d313112aa853",
       "version_major": 2,
       "version_minor": 0
      },
      "text/plain": [
       "  0%|          | 0/813 [00:00<?, ?it/s]"
      ]
     },
     "metadata": {},
     "output_type": "display_data"
    },
    {
     "name": "stdout",
     "output_type": "stream",
     "text": [
      "epoch = 4batch = 0 of 813duraation = 0.08334529002507528\n",
      "epoch = 4batch = 200 of 813duraation = 4.434597925345103\n",
      "epoch = 4batch = 400 of 813duraation = 8.775656529267629\n",
      "epoch = 4batch = 600 of 813duraation = 13.452558743953706\n",
      "epoch = 4batch = 800 of 813duraation = 18.30307271083196\n",
      "Epoch: 4, Train Loss: 0.45601407, Train Acc: 0.79056731, Val Loss: 0.00623747, Val Acc: 0.63671588, overrun_counter 1\n"
     ]
    },
    {
     "data": {
      "application/vnd.jupyter.widget-view+json": {
       "model_id": "ae1303b19f3344b7a478702764c58a31",
       "version_major": 2,
       "version_minor": 0
      },
      "text/plain": [
       "  0%|          | 0/813 [00:00<?, ?it/s]"
      ]
     },
     "metadata": {},
     "output_type": "display_data"
    },
    {
     "name": "stdout",
     "output_type": "stream",
     "text": [
      "epoch = 5batch = 0 of 813duraation = 0.08697641293207804\n",
      "epoch = 5batch = 200 of 813duraation = 4.433712458610534\n",
      "epoch = 5batch = 400 of 813duraation = 8.783118077119191\n",
      "epoch = 5batch = 600 of 813duraation = 13.10763912598292\n",
      "epoch = 5batch = 800 of 813duraation = 17.993546052773794\n",
      "Saving model to: ../outputs/models/pytorch/model_e5_2022_09_16_13_25_01.pth\n",
      "Now printing classification rport... \n",
      "                       precision    recall  f1-score   support\n",
      "\n",
      "        an arabiensis       0.65      0.59      0.62      9018\n",
      "culex pipiens complex       0.51      0.52      0.51      4157\n",
      "           ae aegypti       0.18      0.24      0.20       429\n",
      "       an funestus ss       0.45      0.70      0.55      3422\n",
      "         an squamosus       0.26      0.29      0.28      1327\n",
      "          an coustani       0.21      0.35      0.27       657\n",
      "         ma uniformis       0.29      0.22      0.25       975\n",
      "         ma africanus       0.14      0.13      0.14       423\n",
      "               others       0.38      0.17      0.24      2886\n",
      "\n",
      "             accuracy                           0.49     23294\n",
      "            macro avg       0.34      0.36      0.34     23294\n",
      "         weighted avg       0.50      0.49      0.48     23294\n",
      "\n"
     ]
    },
    {
     "data": {
      "image/png": "[encoded data removed]",
      "text/plain": [
       "<Figure size 432x288 with 2 Axes>"
      ]
     },
     "metadata": {
      "needs_background": "light"
     },
     "output_type": "display_data"
    },
    {
     "name": "stdout",
     "output_type": "stream",
     "text": [
      "Epoch: 5, Train Loss: 0.37567599, Train Acc: 0.82680769, Val Loss: 0.00587667, Val Acc: 0.67945999, overrun_counter 0\n"
     ]
    },
    {
     "data": {
      "application/vnd.jupyter.widget-view+json": {
       "model_id": "a6bed53a852744108988ad1630eae996",
       "version_major": 2,
       "version_minor": 0
      },
      "text/plain": [
       "  0%|          | 0/813 [00:00<?, ?it/s]"
      ]
     },
     "metadata": {},
     "output_type": "display_data"
    },
    {
     "name": "stdout",
     "output_type": "stream",
     "text": [
      "epoch = 6batch = 0 of 813duraation = 0.09112623532613119\n",
      "epoch = 6batch = 200 of 813duraation = 4.564065762360891\n",
      "epoch = 6batch = 400 of 813duraation = 8.902851887543996\n",
      "epoch = 6batch = 600 of 813duraation = 13.765605823198955\n",
      "epoch = 6batch = 800 of 813duraation = 18.240683364868165\n",
      "Epoch: 6, Train Loss: 0.31570673, Train Acc: 0.85198077, Val Loss: 0.00676423, Val Acc: 0.64332327, overrun_counter 1\n"
     ]
    },
    {
     "data": {
      "application/vnd.jupyter.widget-view+json": {
       "model_id": "57e4b81e1e8d461193d8c9baae832b0e",
       "version_major": 2,
       "version_minor": 0
      },
      "text/plain": [
       "  0%|          | 0/813 [00:00<?, ?it/s]"
      ]
     },
     "metadata": {},
     "output_type": "display_data"
    },
    {
     "name": "stdout",
     "output_type": "stream",
     "text": [
      "epoch = 7batch = 0 of 813duraation = 0.08176385958989461\n",
      "epoch = 7batch = 200 of 813duraation = 4.440333012739817\n",
      "epoch = 7batch = 400 of 813duraation = 8.770037472248077\n",
      "epoch = 7batch = 600 of 813duraation = 13.12424091498057\n",
      "epoch = 7batch = 800 of 813duraation = 17.897485780715943\n",
      "Epoch: 7, Train Loss: 0.28000978, Train Acc: 0.86925962, Val Loss: 0.00708745, Val Acc: 0.62847704, overrun_counter 2\n"
     ]
    },
    {
     "data": {
      "application/vnd.jupyter.widget-view+json": {
       "model_id": "e62d110cc19043e0bc35e2acd98c2757",
       "version_major": 2,
       "version_minor": 0
      },
      "text/plain": [
       "  0%|          | 0/813 [00:00<?, ?it/s]"
      ]
     },
     "metadata": {},
     "output_type": "display_data"
    },
    {
     "name": "stdout",
     "output_type": "stream",
     "text": [
      "epoch = 8batch = 0 of 813duraation = 0.09919006029764811\n",
      "epoch = 8batch = 200 of 813duraation = 4.701200501124064\n",
      "epoch = 8batch = 400 of 813duraation = 9.067510024706523\n",
      "epoch = 8batch = 600 of 813duraation = 13.434464263916016\n",
      "epoch = 8batch = 800 of 813duraation = 18.79464836915334\n",
      "Epoch: 8, Train Loss: 0.23753873, Train Acc: 0.88820192, Val Loss: 0.00670827, Val Acc: 0.66930418, overrun_counter 3\n"
     ]
    },
    {
     "data": {
      "application/vnd.jupyter.widget-view+json": {
       "model_id": "2d9bb7c5eedb4e8eba4108440aebc91c",
       "version_major": 2,
       "version_minor": 0
      },
      "text/plain": [
       "  0%|          | 0/813 [00:00<?, ?it/s]"
      ]
     },
     "metadata": {},
     "output_type": "display_data"
    },
    {
     "name": "stdout",
     "output_type": "stream",
     "text": [
      "epoch = 9batch = 0 of 813duraation = 0.09368457396825154\n",
      "epoch = 9batch = 200 of 813duraation = 4.520422033468882\n",
      "epoch = 9batch = 400 of 813duraation = 8.87497018178304\n",
      "epoch = 9batch = 600 of 813duraation = 13.25016991297404\n",
      "epoch = 9batch = 800 of 813duraation = 18.219204235076905\n",
      "Epoch: 9, Train Loss: 0.21361517, Train Acc: 0.89977885, Val Loss: 0.00675847, Val Acc: 0.66665307, overrun_counter 4\n"
     ]
    },
    {
     "data": {
      "application/vnd.jupyter.widget-view+json": {
       "model_id": "fd9e49f261364984bbf7dc2673828132",
       "version_major": 2,
       "version_minor": 0
      },
      "text/plain": [
       "  0%|          | 0/813 [00:00<?, ?it/s]"
      ]
     },
     "metadata": {},
     "output_type": "display_data"
    },
    {
     "name": "stdout",
     "output_type": "stream",
     "text": [
      "epoch = 10batch = 0 of 813duraation = 0.09544978539148967\n",
      "epoch = 10batch = 200 of 813duraation = 4.713332982858022\n",
      "epoch = 10batch = 400 of 813duraation = 9.049021514256795\n",
      "epoch = 10batch = 600 of 813duraation = 13.42173742055893\n",
      "epoch = 10batch = 800 of 813duraation = 17.773562041918435\n",
      "Epoch: 10, Train Loss: 0.17562636, Train Acc: 0.91824038, Val Loss: 0.00754376, Val Acc: 0.63708296, overrun_counter 5\n"
     ]
    },
    {
     "data": {
      "application/vnd.jupyter.widget-view+json": {
       "model_id": "9fa06c071cc54b1fad212d4cf8447e97",
       "version_major": 2,
       "version_minor": 0
      },
      "text/plain": [
       "  0%|          | 0/813 [00:00<?, ?it/s]"
      ]
     },
     "metadata": {},
     "output_type": "display_data"
    },
    {
     "name": "stdout",
     "output_type": "stream",
     "text": [
      "epoch = 11batch = 0 of 813duraation = 0.07755738099416097\n",
      "epoch = 11batch = 200 of 813duraation = 4.522678709030151\n",
      "epoch = 11batch = 400 of 813duraation = 8.883509540557862\n",
      "epoch = 11batch = 600 of 813duraation = 13.229796083768209\n",
      "epoch = 11batch = 800 of 813duraation = 17.911142468452454\n",
      "Epoch: 11, Train Loss: 0.18296648, Train Acc: 0.91803846, Val Loss: 0.00713898, Val Acc: 0.67476956, overrun_counter 6\n"
     ]
    },
    {
     "data": {
      "application/vnd.jupyter.widget-view+json": {
       "model_id": "fe9159db52ab4c12a617cc1a9e1d94b4",
       "version_major": 2,
       "version_minor": 0
      },
      "text/plain": [
       "  0%|          | 0/813 [00:00<?, ?it/s]"
      ]
     },
     "metadata": {},
     "output_type": "display_data"
    },
    {
     "name": "stdout",
     "output_type": "stream",
     "text": [
      "epoch = 12batch = 0 of 813duraation = 0.1032729427019755\n",
      "epoch = 12batch = 200 of 813duraation = 4.479170378049215\n",
      "epoch = 12batch = 400 of 813duraation = 8.814792696634928\n",
      "epoch = 12batch = 600 of 813duraation = 13.166431836287181\n",
      "epoch = 12batch = 800 of 813duraation = 17.54856602350871\n",
      "Epoch: 12, Train Loss: 0.15903402, Train Acc: 0.92827885, Val Loss: 0.00741418, Val Acc: 0.67321968, overrun_counter 7\n"
     ]
    },
    {
     "data": {
      "application/vnd.jupyter.widget-view+json": {
       "model_id": "5a9b405b22014ceabb6813193086c661",
       "version_major": 2,
       "version_minor": 0
      },
      "text/plain": [
       "  0%|          | 0/813 [00:00<?, ?it/s]"
      ]
     },
     "metadata": {},
     "output_type": "display_data"
    },
    {
     "name": "stdout",
     "output_type": "stream",
     "text": [
      "epoch = 13batch = 0 of 813duraation = 0.08799787362416585\n",
      "epoch = 13batch = 200 of 813duraation = 4.461792127291361\n",
      "epoch = 13batch = 400 of 813duraation = 8.804301695028942\n",
      "epoch = 13batch = 600 of 813duraation = 13.157136563460032\n",
      "epoch = 13batch = 800 of 813duraation = 17.667774522304533\n",
      "Epoch: 13, Train Loss: 0.15598856, Train Acc: 0.93025000, Val Loss: 0.00733093, Val Acc: 0.67497349, overrun_counter 8\n"
     ]
    },
    {
     "data": {
      "application/vnd.jupyter.widget-view+json": {
       "model_id": "97bd241daa8b488f9ba3c61710d172c4",
       "version_major": 2,
       "version_minor": 0
      },
      "text/plain": [
       "  0%|          | 0/813 [00:00<?, ?it/s]"
      ]
     },
     "metadata": {},
     "output_type": "display_data"
    },
    {
     "name": "stdout",
     "output_type": "stream",
     "text": [
      "epoch = 14batch = 0 of 813duraation = 0.09184041023254394\n",
      "epoch = 14batch = 200 of 813duraation = 4.57377415895462\n",
      "epoch = 14batch = 400 of 813duraation = 8.95622886021932\n",
      "epoch = 14batch = 600 of 813duraation = 13.303122746944428\n",
      "epoch = 14batch = 800 of 813duraation = 17.864985112349192\n",
      "Epoch: 14, Train Loss: 0.14139923, Train Acc: 0.93625000, Val Loss: 0.00687740, Val Acc: 0.67933763, overrun_counter 9\n"
     ]
    },
    {
     "data": {
      "application/vnd.jupyter.widget-view+json": {
       "model_id": "deb4f9ac06f449eeb4501211e857176c",
       "version_major": 2,
       "version_minor": 0
      },
      "text/plain": [
       "  0%|          | 0/813 [00:00<?, ?it/s]"
      ]
     },
     "metadata": {},
     "output_type": "display_data"
    },
    {
     "name": "stdout",
     "output_type": "stream",
     "text": [
      "epoch = 15batch = 0 of 813duraation = 0.11512943108876546\n",
      "epoch = 15batch = 200 of 813duraation = 4.6705607612927755\n",
      "epoch = 15batch = 400 of 813duraation = 9.03215070962906\n",
      "epoch = 15batch = 600 of 813duraation = 13.39346098502477\n",
      "epoch = 15batch = 800 of 813duraation = 17.799054777622224\n",
      "Saving model to: ../outputs/models/pytorch/model_e15_2022_09_16_17_13_07.pth\n",
      "Now printing classification rport... \n",
      "                       precision    recall  f1-score   support\n",
      "\n",
      "        an arabiensis       0.61      0.68      0.64      9018\n",
      "culex pipiens complex       0.47      0.48      0.47      4157\n",
      "           ae aegypti       0.19      0.38      0.25       429\n",
      "       an funestus ss       0.54      0.54      0.54      3422\n",
      "         an squamosus       0.27      0.20      0.23      1327\n",
      "          an coustani       0.25      0.28      0.26       657\n",
      "         ma uniformis       0.32      0.36      0.34       975\n",
      "         ma africanus       0.29      0.20      0.24       423\n",
      "               others       0.35      0.18      0.24      2886\n",
      "\n",
      "             accuracy                           0.50     23294\n",
      "            macro avg       0.36      0.37      0.36     23294\n",
      "         weighted avg       0.49      0.50      0.49     23294\n",
      "\n"
     ]
    },
    {
     "data": {
      "image/png": "[encoded data removed]",
      "text/plain": [
       "<Figure size 432x288 with 2 Axes>"
      ]
     },
     "metadata": {
      "needs_background": "light"
     },
     "output_type": "display_data"
    },
    {
     "name": "stdout",
     "output_type": "stream",
     "text": [
      "Epoch: 15, Train Loss: 0.12393575, Train Acc: 0.94363462, Val Loss: 0.00772045, Val Acc: 0.68039807, overrun_counter 0\n"
     ]
    },
    {
     "data": {
      "application/vnd.jupyter.widget-view+json": {
       "model_id": "4ad79eff3ebb4f32a97e4a11f34eccb4",
       "version_major": 2,
       "version_minor": 0
      },
      "text/plain": [
       "  0%|          | 0/813 [00:00<?, ?it/s]"
      ]
     },
     "metadata": {},
     "output_type": "display_data"
    },
    {
     "name": "stdout",
     "output_type": "stream",
     "text": [
      "epoch = 16batch = 0 of 813duraation = 0.10095184246699015\n",
      "epoch = 16batch = 200 of 813duraation = 4.606605776151022\n",
      "epoch = 16batch = 400 of 813duraation = 8.968911345799764\n",
      "epoch = 16batch = 600 of 813duraation = 13.549884601434071\n",
      "epoch = 16batch = 800 of 813duraation = 17.957572245597838\n",
      "Epoch: 16, Train Loss: 0.12777216, Train Acc: 0.94319231, Val Loss: 0.00769929, Val Acc: 0.66151399, overrun_counter 1\n"
     ]
    },
    {
     "data": {
      "application/vnd.jupyter.widget-view+json": {
       "model_id": "94ecf3fe8fe84d0989114c14545d9fbe",
       "version_major": 2,
       "version_minor": 0
      },
      "text/plain": [
       "  0%|          | 0/813 [00:00<?, ?it/s]"
      ]
     },
     "metadata": {},
     "output_type": "display_data"
    },
    {
     "name": "stdout",
     "output_type": "stream",
     "text": [
      "epoch = 17batch = 0 of 813duraation = 0.08300752242406209\n",
      "epoch = 17batch = 200 of 813duraation = 4.467212438583374\n",
      "epoch = 17batch = 400 of 813duraation = 8.807311566670736\n",
      "epoch = 17batch = 600 of 813duraation = 13.152194086710612\n",
      "epoch = 17batch = 800 of 813duraation = 17.919466960430146\n",
      "Saving model to: ../outputs/models/pytorch/model_e17_2022_09_16_18_04_06.pth\n",
      "Now printing classification rport... \n",
      "                       precision    recall  f1-score   support\n",
      "\n",
      "        an arabiensis       0.61      0.69      0.65      9018\n",
      "culex pipiens complex       0.49      0.47      0.48      4157\n",
      "           ae aegypti       0.17      0.15      0.16       429\n",
      "       an funestus ss       0.51      0.61      0.55      3422\n",
      "         an squamosus       0.29      0.26      0.27      1327\n",
      "          an coustani       0.30      0.41      0.34       657\n",
      "         ma uniformis       0.30      0.23      0.26       975\n",
      "         ma africanus       0.23      0.14      0.17       423\n",
      "               others       0.35      0.18      0.24      2886\n",
      "\n",
      "             accuracy                           0.50     23294\n",
      "            macro avg       0.36      0.35      0.35     23294\n",
      "         weighted avg       0.49      0.50      0.49     23294\n",
      "\n"
     ]
    },
    {
     "data": {
      "image/png": "[encoded data removed]",
      "text/plain": [
       "<Figure size 432x288 with 2 Axes>"
      ]
     },
     "metadata": {
      "needs_background": "light"
     },
     "output_type": "display_data"
    },
    {
     "name": "stdout",
     "output_type": "stream",
     "text": [
      "Epoch: 17, Train Loss: 0.12284178, Train Acc: 0.94591346, Val Loss: 0.00805245, Val Acc: 0.68692389, overrun_counter 0\n"
     ]
    },
    {
     "data": {
      "application/vnd.jupyter.widget-view+json": {
       "model_id": "1e708edb594f495e9d2f5baef7a50778",
       "version_major": 2,
       "version_minor": 0
      },
      "text/plain": [
       "  0%|          | 0/813 [00:00<?, ?it/s]"
      ]
     },
     "metadata": {},
     "output_type": "display_data"
    },
    {
     "name": "stdout",
     "output_type": "stream",
     "text": [
      "epoch = 18batch = 0 of 813duraation = 0.09179346164067587\n",
      "epoch = 18batch = 200 of 813duraation = 4.538790428638459\n",
      "epoch = 18batch = 400 of 813duraation = 8.887143421173096\n",
      "epoch = 18batch = 600 of 813duraation = 13.544594832261403\n",
      "epoch = 18batch = 800 of 813duraation = 18.03214317560196\n",
      "Epoch: 18, Train Loss: 0.11819637, Train Acc: 0.94796154, Val Loss: 0.00770178, Val Acc: 0.67595236, overrun_counter 1\n"
     ]
    },
    {
     "data": {
      "application/vnd.jupyter.widget-view+json": {
       "model_id": "b112816dc1a446a3a11bac53410adbd3",
       "version_major": 2,
       "version_minor": 0
      },
      "text/plain": [
       "  0%|          | 0/813 [00:00<?, ?it/s]"
      ]
     },
     "metadata": {},
     "output_type": "display_data"
    },
    {
     "name": "stdout",
     "output_type": "stream",
     "text": [
      "epoch = 19batch = 0 of 813duraation = 0.08268702030181885\n",
      "epoch = 19batch = 200 of 813duraation = 4.45775983730952\n",
      "epoch = 19batch = 400 of 813duraation = 8.826015730698904\n",
      "epoch = 19batch = 600 of 813duraation = 13.153679756323497\n",
      "epoch = 19batch = 800 of 813duraation = 17.7044566988945\n",
      "Epoch: 19, Train Loss: 0.11245373, Train Acc: 0.95157692, Val Loss: 0.00783138, Val Acc: 0.67901134, overrun_counter 2\n"
     ]
    },
    {
     "data": {
      "application/vnd.jupyter.widget-view+json": {
       "model_id": "45770777cdaf497c8a84f9e2bc8991eb",
       "version_major": 2,
       "version_minor": 0
      },
      "text/plain": [
       "  0%|          | 0/813 [00:00<?, ?it/s]"
      ]
     },
     "metadata": {},
     "output_type": "display_data"
    },
    {
     "name": "stdout",
     "output_type": "stream",
     "text": [
      "epoch = 20batch = 0 of 813duraation = 0.10217639605204264\n",
      "epoch = 20batch = 200 of 813duraation = 4.4968860705693565\n",
      "epoch = 20batch = 400 of 813duraation = 8.827249864737192\n",
      "epoch = 20batch = 600 of 813duraation = 13.164359827836355\n",
      "epoch = 20batch = 800 of 813duraation = 17.628778290748595\n",
      "Saving model to: ../outputs/models/pytorch/model_e20_2022_09_16_19_16_04.pth\n",
      "Now printing classification rport... \n",
      "                       precision    recall  f1-score   support\n",
      "\n",
      "        an arabiensis       0.62      0.68      0.64      9018\n",
      "culex pipiens complex       0.53      0.46      0.50      4157\n",
      "           ae aegypti       0.13      0.14      0.13       429\n",
      "       an funestus ss       0.44      0.63      0.52      3422\n",
      "         an squamosus       0.32      0.24      0.27      1327\n",
      "          an coustani       0.26      0.39      0.31       657\n",
      "         ma uniformis       0.36      0.25      0.30       975\n",
      "         ma africanus       0.31      0.12      0.18       423\n",
      "               others       0.37      0.19      0.25      2886\n",
      "\n",
      "             accuracy                           0.50     23294\n",
      "            macro avg       0.37      0.35      0.34     23294\n",
      "         weighted avg       0.49      0.50      0.49     23294\n",
      "\n"
     ]
    },
    {
     "data": {
      "image/png": "[encoded data removed]",
      "text/plain": [
       "<Figure size 432x288 with 2 Axes>"
      ]
     },
     "metadata": {
      "needs_background": "light"
     },
     "output_type": "display_data"
    },
    {
     "name": "stdout",
     "output_type": "stream",
     "text": [
      "Epoch: 20, Train Loss: 0.10348655, Train Acc: 0.95531731, Val Loss: 0.00792821, Val Acc: 0.69039073, overrun_counter 0\n"
     ]
    },
    {
     "data": {
      "application/vnd.jupyter.widget-view+json": {
       "model_id": "4570ab0db496434ea8464b8828edc789",
       "version_major": 2,
       "version_minor": 0
      },
      "text/plain": [
       "  0%|          | 0/813 [00:00<?, ?it/s]"
      ]
     },
     "metadata": {},
     "output_type": "display_data"
    },
    {
     "name": "stdout",
     "output_type": "stream",
     "text": [
      "epoch = 21batch = 0 of 813duraation = 0.09933974345525105\n",
      "epoch = 21batch = 200 of 813duraation = 4.478627661863963\n",
      "epoch = 21batch = 400 of 813duraation = 8.782745532194774\n",
      "epoch = 21batch = 600 of 813duraation = 13.333134984970092\n",
      "epoch = 21batch = 800 of 813duraation = 17.80464379787445\n",
      "Epoch: 21, Train Loss: 0.10388138, Train Acc: 0.95449038, Val Loss: 0.00852714, Val Acc: 0.68292683, overrun_counter 1\n"
     ]
    },
    {
     "data": {
      "application/vnd.jupyter.widget-view+json": {
       "model_id": "9c4efc0dd8d741eaa38773c170026d8b",
       "version_major": 2,
       "version_minor": 0
      },
      "text/plain": [
       "  0%|          | 0/813 [00:00<?, ?it/s]"
      ]
     },
     "metadata": {},
     "output_type": "display_data"
    },
    {
     "name": "stdout",
     "output_type": "stream",
     "text": [
      "epoch = 22batch = 0 of 813duraation = 0.07663970788319906\n",
      "epoch = 22batch = 200 of 813duraation = 4.43842568397522\n",
      "epoch = 22batch = 400 of 813duraation = 8.789867488543193\n",
      "epoch = 22batch = 600 of 813duraation = 13.108817676703135\n",
      "epoch = 22batch = 800 of 813duraation = 17.49845750729243\n",
      "Saving model to: ../outputs/models/pytorch/model_e22_2022_09_16_20_05_15.pth\n",
      "Now printing classification rport... \n",
      "                       precision    recall  f1-score   support\n",
      "\n",
      "        an arabiensis       0.61      0.66      0.64      9018\n",
      "culex pipiens complex       0.48      0.52      0.50      4157\n",
      "           ae aegypti       0.22      0.16      0.19       429\n",
      "       an funestus ss       0.48      0.63      0.54      3422\n",
      "         an squamosus       0.35      0.24      0.29      1327\n",
      "          an coustani       0.23      0.31      0.26       657\n",
      "         ma uniformis       0.35      0.24      0.28       975\n",
      "         ma africanus       0.14      0.07      0.09       423\n",
      "               others       0.38      0.18      0.25      2886\n",
      "\n",
      "             accuracy                           0.50     23294\n",
      "            macro avg       0.36      0.34      0.34     23294\n",
      "         weighted avg       0.49      0.50      0.49     23294\n",
      "\n"
     ]
    },
    {
     "data": {
      "image/png": "[encoded data removed]",
      "text/plain": [
       "<Figure size 432x288 with 2 Axes>"
      ]
     },
     "metadata": {
      "needs_background": "light"
     },
     "output_type": "display_data"
    },
    {
     "name": "stdout",
     "output_type": "stream",
     "text": [
      "Epoch: 22, Train Loss: 0.08448437, Train Acc: 0.96250000, Val Loss: 0.00836123, Val Acc: 0.69365364, overrun_counter 0\n"
     ]
    },
    {
     "data": {
      "application/vnd.jupyter.widget-view+json": {
       "model_id": "bff9fbca74da4e248a353f71ec7936f2",
       "version_major": 2,
       "version_minor": 0
      },
      "text/plain": [
       "  0%|          | 0/813 [00:00<?, ?it/s]"
      ]
     },
     "metadata": {},
     "output_type": "display_data"
    },
    {
     "name": "stdout",
     "output_type": "stream",
     "text": [
      "epoch = 23batch = 0 of 813duraation = 0.13400731881459554\n",
      "epoch = 23batch = 200 of 813duraation = 4.6242862383524574\n",
      "epoch = 23batch = 400 of 813duraation = 8.98913330634435\n",
      "epoch = 23batch = 600 of 813duraation = 13.319112968444824\n",
      "epoch = 23batch = 800 of 813duraation = 17.858390255769095\n",
      "Epoch: 23, Train Loss: 0.08994807, Train Acc: 0.96048077, Val Loss: 0.00847117, Val Acc: 0.67011991, overrun_counter 1\n"
     ]
    },
    {
     "data": {
      "application/vnd.jupyter.widget-view+json": {
       "model_id": "a1e6cc32ffbe4909989e61da39ad0038",
       "version_major": 2,
       "version_minor": 0
      },
      "text/plain": [
       "  0%|          | 0/813 [00:00<?, ?it/s]"
      ]
     },
     "metadata": {},
     "output_type": "display_data"
    },
    {
     "name": "stdout",
     "output_type": "stream",
     "text": [
      "epoch = 24batch = 0 of 813duraation = 0.077453875541687\n",
      "epoch = 24batch = 200 of 813duraation = 4.467010513941447\n",
      "epoch = 24batch = 400 of 813duraation = 8.784821323553722\n",
      "epoch = 24batch = 600 of 813duraation = 13.116069082419077\n",
      "epoch = 24batch = 800 of 813duraation = 17.995702358086906\n",
      "Epoch: 24, Train Loss: 0.09330574, Train Acc: 0.95966346, Val Loss: 0.00869114, Val Acc: 0.67248552, overrun_counter 2\n"
     ]
    },
    {
     "data": {
      "application/vnd.jupyter.widget-view+json": {
       "model_id": "4112069e7e334dc19652a46bb76f2e82",
       "version_major": 2,
       "version_minor": 0
      },
      "text/plain": [
       "  0%|          | 0/813 [00:00<?, ?it/s]"
      ]
     },
     "metadata": {},
     "output_type": "display_data"
    },
    {
     "name": "stdout",
     "output_type": "stream",
     "text": [
      "epoch = 25batch = 0 of 813duraation = 0.09038402239481608\n",
      "epoch = 25batch = 200 of 813duraation = 4.583412114779154\n",
      "epoch = 25batch = 400 of 813duraation = 8.98607297341029\n",
      "epoch = 25batch = 600 of 813duraation = 13.333740750948587\n",
      "epoch = 25batch = 800 of 813duraation = 17.754364279905953\n",
      "Saving model to: ../outputs/models/pytorch/model_e25_2022_09_16_21_17_07.pth\n",
      "Now printing classification rport... \n",
      "                       precision    recall  f1-score   support\n",
      "\n",
      "        an arabiensis       0.57      0.70      0.63      9018\n",
      "culex pipiens complex       0.49      0.46      0.47      4157\n",
      "           ae aegypti       0.23      0.38      0.28       429\n",
      "       an funestus ss       0.51      0.55      0.53      3422\n",
      "         an squamosus       0.30      0.24      0.27      1327\n",
      "          an coustani       0.26      0.28      0.27       657\n",
      "         ma uniformis       0.33      0.24      0.28       975\n",
      "         ma africanus       0.17      0.08      0.10       423\n",
      "               others       0.35      0.15      0.21      2886\n",
      "\n",
      "             accuracy                           0.49     23294\n",
      "            macro avg       0.36      0.34      0.34     23294\n",
      "         weighted avg       0.47      0.49      0.47     23294\n",
      "\n"
     ]
    },
    {
     "data": {
      "image/png": "[encoded data removed]",
      "text/plain": [
       "<Figure size 432x288 with 2 Axes>"
      ]
     },
     "metadata": {
      "needs_background": "light"
     },
     "output_type": "display_data"
    },
    {
     "name": "stdout",
     "output_type": "stream",
     "text": [
      "Epoch: 25, Train Loss: 0.09889744, Train Acc: 0.95765385, Val Loss: 0.00809209, Val Acc: 0.69434701, overrun_counter 0\n"
     ]
    },
    {
     "data": {
      "application/vnd.jupyter.widget-view+json": {
       "model_id": "952a0d4a38184065b74869d6273529b1",
       "version_major": 2,
       "version_minor": 0
      },
      "text/plain": [
       "  0%|          | 0/813 [00:00<?, ?it/s]"
      ]
     },
     "metadata": {},
     "output_type": "display_data"
    },
    {
     "name": "stdout",
     "output_type": "stream",
     "text": [
      "epoch = 26batch = 0 of 813duraation = 0.16531071265538533\n",
      "epoch = 26batch = 200 of 813duraation = 4.614486877123515\n",
      "epoch = 26batch = 400 of 813duraation = 8.963925802707672\n",
      "epoch = 26batch = 600 of 813duraation = 13.29410522778829\n",
      "epoch = 26batch = 800 of 813duraation = 17.748240315914153\n",
      "Epoch: 26, Train Loss: 0.08555304, Train Acc: 0.96406731, Val Loss: 0.00798206, Val Acc: 0.67778775, overrun_counter 1\n"
     ]
    },
    {
     "data": {
      "application/vnd.jupyter.widget-view+json": {
       "model_id": "418fff3fce164507b13d97f26e99790c",
       "version_major": 2,
       "version_minor": 0
      },
      "text/plain": [
       "  0%|          | 0/813 [00:00<?, ?it/s]"
      ]
     },
     "metadata": {},
     "output_type": "display_data"
    },
    {
     "name": "stdout",
     "output_type": "stream",
     "text": [
      "epoch = 27batch = 0 of 813duraation = 0.1059750477472941\n",
      "epoch = 27batch = 200 of 813duraation = 4.557302443186442\n",
      "epoch = 27batch = 400 of 813duraation = 8.920934943358104\n",
      "epoch = 27batch = 600 of 813duraation = 13.274275640646616\n",
      "epoch = 27batch = 800 of 813duraation = 17.90424237648646\n",
      "Saving model to: ../outputs/models/pytorch/model_e27_2022_09_16_22_07_29.pth\n",
      "Now printing classification rport... \n",
      "                       precision    recall  f1-score   support\n",
      "\n",
      "        an arabiensis       0.58      0.70      0.64      9018\n",
      "culex pipiens complex       0.45      0.51      0.48      4157\n",
      "           ae aegypti       0.18      0.21      0.19       429\n",
      "       an funestus ss       0.50      0.55      0.52      3422\n",
      "         an squamosus       0.36      0.14      0.20      1327\n",
      "          an coustani       0.27      0.30      0.28       657\n",
      "         ma uniformis       0.38      0.24      0.29       975\n",
      "         ma africanus       0.28      0.07      0.12       423\n",
      "               others       0.37      0.19      0.26      2886\n",
      "\n",
      "             accuracy                           0.50     23294\n",
      "            macro avg       0.37      0.32      0.33     23294\n",
      "         weighted avg       0.48      0.50      0.48     23294\n",
      "\n"
     ]
    },
    {
     "data": {
      "image/png": "[encoded data removed]",
      "text/plain": [
       "<Figure size 432x288 with 2 Axes>"
      ]
     },
     "metadata": {
      "needs_background": "light"
     },
     "output_type": "display_data"
    },
    {
     "name": "stdout",
     "output_type": "stream",
     "text": [
      "Epoch: 27, Train Loss: 0.08265844, Train Acc: 0.96417308, Val Loss: 0.00842883, Val Acc: 0.69862958, overrun_counter 0\n"
     ]
    },
    {
     "data": {
      "application/vnd.jupyter.widget-view+json": {
       "model_id": "46c3f3d2175642d2bc5176d6ad2b46d1",
       "version_major": 2,
       "version_minor": 0
      },
      "text/plain": [
       "  0%|          | 0/813 [00:00<?, ?it/s]"
      ]
     },
     "metadata": {},
     "output_type": "display_data"
    },
    {
     "name": "stdout",
     "output_type": "stream",
     "text": [
      "epoch = 28batch = 0 of 813duraation = 0.0974172552426656\n",
      "epoch = 28batch = 200 of 813duraation = 4.54510246515274\n",
      "epoch = 28batch = 400 of 813duraation = 8.899115272363026\n",
      "epoch = 28batch = 600 of 813duraation = 13.66049720843633\n",
      "epoch = 28batch = 800 of 813duraation = 18.26098381280899\n",
      "Epoch: 28, Train Loss: 0.08585297, Train Acc: 0.96261538, Val Loss: 0.00851752, Val Acc: 0.68957501, overrun_counter 1\n"
     ]
    },
    {
     "data": {
      "application/vnd.jupyter.widget-view+json": {
       "model_id": "5b10df7c05394321ae0ec20120cd32ff",
       "version_major": 2,
       "version_minor": 0
      },
      "text/plain": [
       "  0%|          | 0/813 [00:00<?, ?it/s]"
      ]
     },
     "metadata": {},
     "output_type": "display_data"
    },
    {
     "name": "stdout",
     "output_type": "stream",
     "text": [
      "epoch = 29batch = 0 of 813duraation = 0.08018972873687744\n",
      "epoch = 29batch = 200 of 813duraation = 4.409648295243581\n",
      "epoch = 29batch = 400 of 813duraation = 8.745829729239146\n",
      "epoch = 29batch = 600 of 813duraation = 13.099190104007722\n",
      "epoch = 29batch = 800 of 813duraation = 17.44819507598877\n",
      "Epoch: 29, Train Loss: 0.06978859, Train Acc: 0.96921154, Val Loss: 0.00857847, Val Acc: 0.68986051, overrun_counter 2\n"
     ]
    },
    {
     "data": {
      "application/vnd.jupyter.widget-view+json": {
       "model_id": "b74c3a385eb24d5fb0375947a1d8d2b3",
       "version_major": 2,
       "version_minor": 0
      },
      "text/plain": [
       "  0%|          | 0/813 [00:00<?, ?it/s]"
      ]
     },
     "metadata": {},
     "output_type": "display_data"
    },
    {
     "name": "stdout",
     "output_type": "stream",
     "text": [
      "epoch = 30batch = 0 of 813duraation = 0.08126273949941\n",
      "epoch = 30batch = 200 of 813duraation = 4.425340628623962\n",
      "epoch = 30batch = 400 of 813duraation = 8.760821612675985\n",
      "epoch = 30batch = 600 of 813duraation = 13.102867829799653\n",
      "epoch = 30batch = 800 of 813duraation = 17.440683952967326\n",
      "Epoch: 30, Train Loss: 0.07705226, Train Acc: 0.96793269, Val Loss: 0.00892416, Val Acc: 0.67175137, overrun_counter 3\n"
     ]
    },
    {
     "data": {
      "application/vnd.jupyter.widget-view+json": {
       "model_id": "9b04833e4cf44531be777561685adaa5",
       "version_major": 2,
       "version_minor": 0
      },
      "text/plain": [
       "  0%|          | 0/813 [00:00<?, ?it/s]"
      ]
     },
     "metadata": {},
     "output_type": "display_data"
    },
    {
     "name": "stdout",
     "output_type": "stream",
     "text": [
      "epoch = 31batch = 0 of 813duraation = 0.08187952836354574\n",
      "epoch = 31batch = 200 of 813duraation = 4.416629596551259\n",
      "epoch = 31batch = 400 of 813duraation = 8.760459105173746\n",
      "epoch = 31batch = 600 of 813duraation = 13.05331867535909\n",
      "epoch = 31batch = 800 of 813duraation = 17.36084707578023\n",
      "Epoch: 31, Train Loss: 0.06894698, Train Acc: 0.97076923, Val Loss: 0.00877602, Val Acc: 0.66803981, overrun_counter 4\n"
     ]
    },
    {
     "data": {
      "application/vnd.jupyter.widget-view+json": {
       "model_id": "d011c08235e54bc38aae168853bc5502",
       "version_major": 2,
       "version_minor": 0
      },
      "text/plain": [
       "  0%|          | 0/813 [00:00<?, ?it/s]"
      ]
     },
     "metadata": {},
     "output_type": "display_data"
    },
    {
     "name": "stdout",
     "output_type": "stream",
     "text": [
      "epoch = 32batch = 0 of 813duraation = 0.081207013130188\n",
      "epoch = 32batch = 200 of 813duraation = 4.394634131590525\n",
      "epoch = 32batch = 400 of 813duraation = 8.693490143616994\n",
      "epoch = 32batch = 600 of 813duraation = 13.064380240440368\n",
      "epoch = 32batch = 800 of 813duraation = 17.47458606561025\n",
      "Epoch: 32, Train Loss: 0.06306365, Train Acc: 0.97355769, Val Loss: 0.00898891, Val Acc: 0.67342361, overrun_counter 5\n"
     ]
    },
    {
     "data": {
      "application/vnd.jupyter.widget-view+json": {
       "model_id": "5c85b5d7e9574af98a29893a230104d1",
       "version_major": 2,
       "version_minor": 0
      },
      "text/plain": [
       "  0%|          | 0/813 [00:00<?, ?it/s]"
      ]
     },
     "metadata": {},
     "output_type": "display_data"
    },
    {
     "name": "stdout",
     "output_type": "stream",
     "text": [
      "epoch = 33batch = 0 of 813duraation = 0.08494540452957153\n",
      "epoch = 33batch = 200 of 813duraation = 4.4233449578285216\n",
      "epoch = 33batch = 400 of 813duraation = 8.758039291699728\n",
      "epoch = 33batch = 600 of 813duraation = 13.058697752157848\n",
      "epoch = 33batch = 800 of 813duraation = 17.468067546685536\n",
      "Epoch: 33, Train Loss: 0.07973628, Train Acc: 0.96724038, Val Loss: 0.00864171, Val Acc: 0.68786198, overrun_counter 6\n"
     ]
    },
    {
     "data": {
      "application/vnd.jupyter.widget-view+json": {
       "model_id": "09e0a09be62d4bff8333f1dbf78cb6d9",
       "version_major": 2,
       "version_minor": 0
      },
      "text/plain": [
       "  0%|          | 0/813 [00:00<?, ?it/s]"
      ]
     },
     "metadata": {},
     "output_type": "display_data"
    },
    {
     "name": "stdout",
     "output_type": "stream",
     "text": [
      "epoch = 34batch = 0 of 813duraation = 0.09460494120915731\n",
      "epoch = 34batch = 200 of 813duraation = 4.45270578066508\n",
      "epoch = 34batch = 400 of 813duraation = 8.799037869771322\n",
      "epoch = 34batch = 600 of 813duraation = 13.119750519593557\n",
      "epoch = 34batch = 800 of 813duraation = 17.992594595750173\n",
      "Epoch: 34, Train Loss: 0.06811147, Train Acc: 0.97014423, Val Loss: 0.00868504, Val Acc: 0.68508851, overrun_counter 7\n"
     ]
    },
    {
     "data": {
      "application/vnd.jupyter.widget-view+json": {
       "model_id": "dd658f4d00414bee95d80316a43d5faf",
       "version_major": 2,
       "version_minor": 0
      },
      "text/plain": [
       "  0%|          | 0/813 [00:00<?, ?it/s]"
      ]
     },
     "metadata": {},
     "output_type": "display_data"
    },
    {
     "name": "stdout",
     "output_type": "stream",
     "text": [
      "epoch = 35batch = 0 of 813duraation = 0.08777103424072266\n",
      "epoch = 35batch = 200 of 813duraation = 4.517627263069153\n",
      "epoch = 35batch = 400 of 813duraation = 8.850046428044637\n",
      "epoch = 35batch = 600 of 813duraation = 13.17304875055949\n",
      "epoch = 35batch = 800 of 813duraation = 17.555171291033428\n",
      "Epoch: 35, Train Loss: 0.06606112, Train Acc: 0.97108654, Val Loss: 0.00895566, Val Acc: 0.67260788, overrun_counter 8\n"
     ]
    },
    {
     "data": {
      "application/vnd.jupyter.widget-view+json": {
       "model_id": "3f320db52cf644c9954d6308873a0785",
       "version_major": 2,
       "version_minor": 0
      },
      "text/plain": [
       "  0%|          | 0/813 [00:00<?, ?it/s]"
      ]
     },
     "metadata": {},
     "output_type": "display_data"
    },
    {
     "name": "stdout",
     "output_type": "stream",
     "text": [
      "epoch = 36batch = 0 of 813duraation = 0.08729420105616252\n",
      "epoch = 36batch = 200 of 813duraation = 4.440912814935048\n",
      "epoch = 36batch = 400 of 813duraation = 8.800153958797456\n",
      "epoch = 36batch = 600 of 813duraation = 13.084105257193247\n",
      "epoch = 36batch = 800 of 813duraation = 17.472601687908174\n",
      "Saving model to: ../outputs/models/pytorch/model_e36_2022_09_17_01_28_12.pth\n",
      "Now printing classification rport... \n",
      "                       precision    recall  f1-score   support\n",
      "\n",
      "        an arabiensis       0.61      0.68      0.64      9018\n",
      "culex pipiens complex       0.50      0.46      0.48      4157\n",
      "           ae aegypti       0.27      0.24      0.26       429\n",
      "       an funestus ss       0.47      0.62      0.53      3422\n",
      "         an squamosus       0.32      0.21      0.25      1327\n",
      "          an coustani       0.20      0.35      0.26       657\n",
      "         ma uniformis       0.36      0.19      0.25       975\n",
      "         ma africanus       0.13      0.09      0.11       423\n",
      "               others       0.35      0.20      0.26      2886\n",
      "\n",
      "             accuracy                           0.50     23294\n",
      "            macro avg       0.36      0.34      0.34     23294\n",
      "         weighted avg       0.48      0.50      0.48     23294\n",
      "\n"
     ]
    },
    {
     "data": {
      "image/png": "[encoded data removed]",
      "text/plain": [
       "<Figure size 432x288 with 2 Axes>"
      ]
     },
     "metadata": {
      "needs_background": "light"
     },
     "output_type": "display_data"
    },
    {
     "name": "stdout",
     "output_type": "stream",
     "text": [
      "Epoch: 36, Train Loss: 0.06470229, Train Acc: 0.97299038, Val Loss: 0.00886004, Val Acc: 0.69911901, overrun_counter 0\n"
     ]
    },
    {
     "data": {
      "application/vnd.jupyter.widget-view+json": {
       "model_id": "81a1d394edf54ee985a476176afa8284",
       "version_major": 2,
       "version_minor": 0
      },
      "text/plain": [
       "  0%|          | 0/813 [00:00<?, ?it/s]"
      ]
     },
     "metadata": {},
     "output_type": "display_data"
    },
    {
     "name": "stdout",
     "output_type": "stream",
     "text": [
      "epoch = 37batch = 0 of 813duraation = 0.0809309442838033\n",
      "epoch = 37batch = 200 of 813duraation = 4.426608860492706\n",
      "epoch = 37batch = 400 of 813duraation = 8.74707457224528\n",
      "epoch = 37batch = 600 of 813duraation = 13.107002790768941\n",
      "epoch = 37batch = 800 of 813duraation = 17.456796717643737\n",
      "Epoch: 37, Train Loss: 0.05868093, Train Acc: 0.97403846, Val Loss: 0.00893217, Val Acc: 0.68447671, overrun_counter 1\n"
     ]
    },
    {
     "data": {
      "application/vnd.jupyter.widget-view+json": {
       "model_id": "0b173c49330c4e24abbb8aeb565f238c",
       "version_major": 2,
       "version_minor": 0
      },
      "text/plain": [
       "  0%|          | 0/813 [00:00<?, ?it/s]"
      ]
     },
     "metadata": {},
     "output_type": "display_data"
    },
    {
     "name": "stdout",
     "output_type": "stream",
     "text": [
      "epoch = 38batch = 0 of 813duraation = 0.08662839730580647\n",
      "epoch = 38batch = 200 of 813duraation = 4.4174214442571005\n",
      "epoch = 38batch = 400 of 813duraation = 8.719935131072997\n",
      "epoch = 38batch = 600 of 813duraation = 13.053335805734\n",
      "epoch = 38batch = 800 of 813duraation = 17.452268354098003\n",
      "Epoch: 38, Train Loss: 0.05805887, Train Acc: 0.97497115, Val Loss: 0.00871212, Val Acc: 0.68349784, overrun_counter 2\n"
     ]
    },
    {
     "data": {
      "application/vnd.jupyter.widget-view+json": {
       "model_id": "47029385724149648b7f1beb777e4410",
       "version_major": 2,
       "version_minor": 0
      },
      "text/plain": [
       "  0%|          | 0/813 [00:00<?, ?it/s]"
      ]
     },
     "metadata": {},
     "output_type": "display_data"
    },
    {
     "name": "stdout",
     "output_type": "stream",
     "text": [
      "epoch = 39batch = 0 of 813duraation = 0.07930131753285725\n",
      "epoch = 39batch = 200 of 813duraation = 4.4171661019325255\n",
      "epoch = 39batch = 400 of 813duraation = 8.740867765744527\n",
      "epoch = 39batch = 600 of 813duraation = 13.06070745786031\n",
      "epoch = 39batch = 800 of 813duraation = 17.473909731705984\n",
      "Epoch: 39, Train Loss: 0.07234202, Train Acc: 0.97054808, Val Loss: 0.00877613, Val Acc: 0.68712782, overrun_counter 3\n"
     ]
    },
    {
     "data": {
      "application/vnd.jupyter.widget-view+json": {
       "model_id": "881b1af06ed7435993863d19436c8138",
       "version_major": 2,
       "version_minor": 0
      },
      "text/plain": [
       "  0%|          | 0/813 [00:00<?, ?it/s]"
      ]
     },
     "metadata": {},
     "output_type": "display_data"
    },
    {
     "name": "stdout",
     "output_type": "stream",
     "text": [
      "epoch = 40batch = 0 of 813duraation = 0.08761886358261109\n",
      "epoch = 40batch = 200 of 813duraation = 4.465081751346588\n",
      "epoch = 40batch = 400 of 813duraation = 8.801757315794626\n",
      "epoch = 40batch = 600 of 813duraation = 13.089018845558167\n",
      "epoch = 40batch = 800 of 813duraation = 17.395533434549968\n",
      "Epoch: 40, Train Loss: 0.05840447, Train Acc: 0.97538462, Val Loss: 0.00935187, Val Acc: 0.68415042, overrun_counter 4\n"
     ]
    },
    {
     "data": {
      "application/vnd.jupyter.widget-view+json": {
       "model_id": "f33dee6ff59643f79bf3f4c3c93a5eda",
       "version_major": 2,
       "version_minor": 0
      },
      "text/plain": [
       "  0%|          | 0/813 [00:00<?, ?it/s]"
      ]
     },
     "metadata": {},
     "output_type": "display_data"
    },
    {
     "name": "stdout",
     "output_type": "stream",
     "text": [
      "epoch = 41batch = 0 of 813duraation = 0.08839293718338012\n",
      "epoch = 41batch = 200 of 813duraation = 4.417878524462382\n",
      "epoch = 41batch = 400 of 813duraation = 8.772002295653026\n",
      "epoch = 41batch = 600 of 813duraation = 13.118630838394164\n",
      "epoch = 41batch = 800 of 813duraation = 17.457031297683717\n",
      "Epoch: 41, Train Loss: 0.06129545, Train Acc: 0.97430769, Val Loss: 0.00906987, Val Acc: 0.67721674, overrun_counter 5\n"
     ]
    },
    {
     "data": {
      "application/vnd.jupyter.widget-view+json": {
       "model_id": "1b86f1acd8ae45f48942e02313ba2f3d",
       "version_major": 2,
       "version_minor": 0
      },
      "text/plain": [
       "  0%|          | 0/813 [00:00<?, ?it/s]"
      ]
     },
     "metadata": {},
     "output_type": "display_data"
    },
    {
     "name": "stdout",
     "output_type": "stream",
     "text": [
      "epoch = 42batch = 0 of 813duraation = 0.08524638811747233\n",
      "epoch = 42batch = 200 of 813duraation = 4.454620663324992\n",
      "epoch = 42batch = 400 of 813duraation = 8.807367992401122\n",
      "epoch = 42batch = 600 of 813duraation = 13.121289229393005\n",
      "epoch = 42batch = 800 of 813duraation = 17.480307189623513\n",
      "Epoch: 42, Train Loss: 0.05750800, Train Acc: 0.97591346, Val Loss: 0.00828965, Val Acc: 0.68382413, overrun_counter 6\n"
     ]
    },
    {
     "data": {
      "application/vnd.jupyter.widget-view+json": {
       "model_id": "2e160d985a3a4c1b99af23a58b953eb0",
       "version_major": 2,
       "version_minor": 0
      },
      "text/plain": [
       "  0%|          | 0/813 [00:00<?, ?it/s]"
      ]
     },
     "metadata": {},
     "output_type": "display_data"
    },
    {
     "name": "stdout",
     "output_type": "stream",
     "text": [
      "epoch = 43batch = 0 of 813duraation = 0.09146733283996582\n",
      "epoch = 43batch = 200 of 813duraation = 4.454268825054169\n",
      "epoch = 43batch = 400 of 813duraation = 8.806486105918884\n",
      "epoch = 43batch = 600 of 813duraation = 13.117832068602244\n",
      "epoch = 43batch = 800 of 813duraation = 17.49649770259857\n",
      "Epoch: 43, Train Loss: 0.05588682, Train Acc: 0.97584615, Val Loss: 0.00914300, Val Acc: 0.68561873, overrun_counter 7\n"
     ]
    },
    {
     "data": {
      "application/vnd.jupyter.widget-view+json": {
       "model_id": "3715380905364afb97a5293b6d815028",
       "version_major": 2,
       "version_minor": 0
      },
      "text/plain": [
       "  0%|          | 0/813 [00:00<?, ?it/s]"
      ]
     },
     "metadata": {},
     "output_type": "display_data"
    },
    {
     "name": "stdout",
     "output_type": "stream",
     "text": [
      "epoch = 44batch = 0 of 813duraation = 0.0858318567276001\n",
      "epoch = 44batch = 200 of 813duraation = 4.407488532861074\n",
      "epoch = 44batch = 400 of 813duraation = 8.731231172879538\n",
      "epoch = 44batch = 600 of 813duraation = 13.048190192381542\n",
      "epoch = 44batch = 800 of 813duraation = 17.485679841041566\n",
      "Saving model to: ../outputs/models/pytorch/model_e44_2022_09_17_04_24_30.pth\n",
      "Now printing classification rport... \n",
      "                       precision    recall  f1-score   support\n",
      "\n",
      "        an arabiensis       0.61      0.65      0.63      9018\n",
      "culex pipiens complex       0.43      0.57      0.49      4157\n",
      "           ae aegypti       0.18      0.18      0.18       429\n",
      "       an funestus ss       0.51      0.56      0.54      3422\n",
      "         an squamosus       0.32      0.18      0.23      1327\n",
      "          an coustani       0.31      0.22      0.26       657\n",
      "         ma uniformis       0.37      0.24      0.29       975\n",
      "         ma africanus       0.10      0.03      0.05       423\n",
      "               others       0.34      0.26      0.29      2886\n",
      "\n",
      "             accuracy                           0.50     23294\n",
      "            macro avg       0.35      0.32      0.33     23294\n",
      "         weighted avg       0.48      0.50      0.48     23294\n",
      "\n"
     ]
    },
    {
     "data": {
      "image/png": "[encoded data removed]",
      "text/plain": [
       "<Figure size 432x288 with 2 Axes>"
      ]
     },
     "metadata": {
      "needs_background": "light"
     },
     "output_type": "display_data"
    },
    {
     "name": "stdout",
     "output_type": "stream",
     "text": [
      "Epoch: 44, Train Loss: 0.05715518, Train Acc: 0.97653846, Val Loss: 0.00892113, Val Acc: 0.69928216, overrun_counter 0\n"
     ]
    },
    {
     "data": {
      "application/vnd.jupyter.widget-view+json": {
       "model_id": "4d81aa9a8e754508ad5fe0fed589fff9",
       "version_major": 2,
       "version_minor": 0
      },
      "text/plain": [
       "  0%|          | 0/813 [00:00<?, ?it/s]"
      ]
     },
     "metadata": {},
     "output_type": "display_data"
    },
    {
     "name": "stdout",
     "output_type": "stream",
     "text": [
      "epoch = 45batch = 0 of 813duraation = 0.09409565130869547\n",
      "epoch = 45batch = 200 of 813duraation = 4.494963304201762\n",
      "epoch = 45batch = 400 of 813duraation = 8.858873828252156\n",
      "epoch = 45batch = 600 of 813duraation = 13.187702802817027\n",
      "epoch = 45batch = 800 of 813duraation = 17.666783090432485\n",
      "Epoch: 45, Train Loss: 0.05499736, Train Acc: 0.97583654, Val Loss: 0.00910296, Val Acc: 0.69296027, overrun_counter 1\n"
     ]
    },
    {
     "data": {
      "application/vnd.jupyter.widget-view+json": {
       "model_id": "40bc1654cd974fc598ce8771cfe8405c",
       "version_major": 2,
       "version_minor": 0
      },
      "text/plain": [
       "  0%|          | 0/813 [00:00<?, ?it/s]"
      ]
     },
     "metadata": {},
     "output_type": "display_data"
    },
    {
     "name": "stdout",
     "output_type": "stream",
     "text": [
      "epoch = 46batch = 0 of 813duraation = 0.0868859608968099\n",
      "epoch = 46batch = 200 of 813duraation = 4.4012389302253725\n"
     ]
    },
    {
     "name": "stderr",
     "output_type": "stream",
     "text": [
      "IOPub message rate exceeded.\n",
      "The notebook server will temporarily stop sending output\n",
      "to the client in order to avoid crashing it.\n",
      "To change this limit, set the config variable\n",
      "`--NotebookApp.iopub_msg_rate_limit`.\n",
      "\n",
      "Current values:\n",
      "NotebookApp.iopub_msg_rate_limit=1000.0 (msgs/sec)\n",
      "NotebookApp.rate_limit_window=3.0 (secs)\n",
      "\n"
     ]
    },
    {
     "name": "stdout",
     "output_type": "stream",
     "text": [
      "epoch = 50batch = 200 of 813duraation = 4.4204744021097815\n",
      "epoch = 50batch = 400 of 813duraation = 8.736594331264495\n",
      "epoch = 50batch = 600 of 813duraation = 13.048133190472921\n",
      "epoch = 50batch = 800 of 813duraation = 17.388371070226032\n",
      "Epoch: 50, Train Loss: 0.05461693, Train Acc: 0.97730769, Val Loss: 0.00865526, Val Acc: 0.68080594, overrun_counter 6\n"
     ]
    },
    {
     "data": {
      "application/vnd.jupyter.widget-view+json": {
       "model_id": "a475dd1eb08d4fba9aba710e42962ac5",
       "version_major": 2,
       "version_minor": 0
      },
      "text/plain": [
       "  0%|          | 0/813 [00:00<?, ?it/s]"
      ]
     },
     "metadata": {},
     "output_type": "display_data"
    },
    {
     "name": "stdout",
     "output_type": "stream",
     "text": [
      "epoch = 51batch = 0 of 813duraation = 0.08014154036839803\n",
      "epoch = 51batch = 200 of 813duraation = 4.443672267595927\n"
     ]
    },
    {
     "name": "stderr",
     "output_type": "stream",
     "text": [
      "IOPub message rate exceeded.\n",
      "The notebook server will temporarily stop sending output\n",
      "to the client in order to avoid crashing it.\n",
      "To change this limit, set the config variable\n",
      "`--NotebookApp.iopub_msg_rate_limit`.\n",
      "\n",
      "Current values:\n",
      "NotebookApp.iopub_msg_rate_limit=1000.0 (msgs/sec)\n",
      "NotebookApp.rate_limit_window=3.0 (secs)\n",
      "\n"
     ]
    },
    {
     "name": "stdout",
     "output_type": "stream",
     "text": [
      "epoch = 55batch = 200 of 813duraation = 4.423502993583679\n",
      "epoch = 55batch = 400 of 813duraation = 8.748282869656881\n",
      "epoch = 55batch = 600 of 813duraation = 13.067291708787282\n",
      "epoch = 55batch = 800 of 813duraation = 17.442560597260794\n",
      "Epoch: 55, Train Loss: 0.04948972, Train Acc: 0.97895192, Val Loss: 0.00962607, Val Acc: 0.68920793, overrun_counter 11\n"
     ]
    }
   ],
   "source": [
    "model =Model('convnext_small',224)\n",
    "#train_loader, val_loader, model = None,  classes = classes,n_channels = 1\n",
    "model, lr_log = train_model(train_loader, val_loader, test_loader,model, classes ,class_weights ,num_epochs = num_epochs )"
   ]
  },
  {
   "cell_type": "code",
   "execution_count": 62,
   "id": "96992591",
   "metadata": {},
   "outputs": [
    {
     "name": "stdout",
     "output_type": "stream",
     "text": [
      "                       precision    recall  f1-score   support\n",
      "\n",
      "        an arabiensis       0.08      0.13      0.10        15\n",
      "culex pipiens complex       0.00      0.00      0.00        28\n",
      "           ae aegypti       0.08      0.09      0.09        22\n",
      "       an funestus ss       0.15      0.10      0.12        30\n",
      "         an squamosus       0.00      0.00      0.00        26\n",
      "          an coustani       0.09      0.10      0.10        20\n",
      "         ma uniformis       0.08      0.08      0.08        24\n",
      "         ma africanus       0.15      0.17      0.16        18\n",
      "               others       0.15      0.24      0.18        17\n",
      "\n",
      "             accuracy                           0.09       200\n",
      "            macro avg       0.09      0.10      0.09       200\n",
      "         weighted avg       0.08      0.09      0.08       200\n",
      "\n",
      "[[2 3 1 5 3 2 4 1 3]\n",
      " [4 0 0 1 1 2 5 3 0]\n",
      " [3 2 2 6 7 0 1 2 1]\n",
      " [0 3 4 3 2 5 1 1 1]\n",
      " [1 5 5 4 0 1 2 3 1]\n",
      " [1 7 2 1 3 2 2 1 3]\n",
      " [0 3 1 5 4 5 2 2 3]\n",
      " [1 2 3 2 3 2 3 3 1]\n",
      " [3 3 4 3 3 1 4 2 4]]\n"
     ]
    },
    {
     "data": {
      "text/plain": [
       "(array([0.5, 1.5, 2.5, 3.5, 4.5, 5.5, 6.5, 7.5, 8.5]),\n",
       " [Text(0, 0.5, 'an arabiensis'),\n",
       "  Text(0, 1.5, 'culex pipiens complex'),\n",
       "  Text(0, 2.5, 'ae aegypti'),\n",
       "  Text(0, 3.5, 'an funestus ss'),\n",
       "  Text(0, 4.5, 'an squamosus'),\n",
       "  Text(0, 5.5, 'an coustani'),\n",
       "  Text(0, 6.5, 'ma uniformis'),\n",
       "  Text(0, 7.5, 'ma africanus'),\n",
       "  Text(0, 8.5, 'others')])"
      ]
     },
     "execution_count": 62,
     "metadata": {},
     "output_type": "execute_result"
    },
    {
     "data": {
      "image/png": "[encoded data removed]",
      "text/plain": [
       "<Figure size 432x288 with 2 Axes>"
      ]
     },
     "metadata": {
      "needs_background": "light"
     },
     "output_type": "display_data"
    }
   ],
   "source": [
    "prediction  = [2.0, 3.0, 8.0, 2.0, 8.0, 8.0, 4.0, 0.0, 7.0, 8.0, 8.0, 2.0, 8.0, 0.0, 1.0, 3.0, 4.0, 8.0, 5.0, 8.0, 2.0, 2.0, 2.0, 0.0, 5.0, 5.0, 3.0, 8.0, 4.0, 1.0, 2.0, 5.0, 6.0, 1.0, 8.0, 0.0, 2.0, 4.0, 6.0, 8.0, 7.0, 0.0, 7.0, 0.0, 8.0, 5.0, 8.0, 2.0, 0.0, 0.0, 4.0, 7.0, 5.0, 4.0, 1.0, 2.0, 4.0, 1.0, 6.0, 4.0, 3.0, 7.0, 8.0, 8.0, 0.0, 6.0, 7.0, 1.0, 6.0, 5.0, 7.0, 0.0, 5.0, 0.0, 0.0, 2.0, 1.0, 5.0, 8.0, 1.0, 5.0, 7.0, 5.0, 7.0, 3.0, 6.0, 6.0, 6.0, 2.0, 6.0, 2.0, 6.0, 6.0, 3.0, 6.0, 6.0, 0.0, 4.0, 6.0, 6.0, 0.0, 8.0, 7.0, 1.0, 4.0, 1.0, 3.0, 0.0, 8.0, 6.0, 5.0, 7.0, 7.0, 3.0, 2.0, 0.0, 4.0, 3.0, 4.0, 2.0, 4.0, 2.0, 7.0, 3.0, 1.0, 3.0, 6.0, 5.0, 5.0, 2.0, 0.0, 2.0, 0.0, 6.0, 3.0, 0.0, 3.0, 4.0, 8.0, 6.0, 4.0, 6.0, 0.0, 4.0, 5.0, 2.0, 6.0, 1.0, 1.0, 5.0, 4.0, 6.0, 5.0, 8.0, 0.0, 3.0, 4.0, 4.0, 4.0, 8.0, 8.0, 5.0, 5.0, 0.0, 1.0, 3.0, 3.0, 7.0, 7.0, 1.0, 5.0, 7.0, 6.0, 5.0, 8.0, 3.0, 8.0, 5.0, 2.0, 3.0, 7.0, 3.0, 7.0, 8.0, 4.0, 2.0, 0.0, 6.0, 8.0, 1.0, 3.0, 6.0, 2.0, 2.0, 7.0, 7.0, 2.0, 0.0, 4.0, 8.0]\n",
    "Label   = [3.0, 5.0, 0.0, 0.0, 2.0, 0.0, 1.0, 3.0, 4.0, 7.0, 1.0, 3.0, 2.0, 1.0, 4.0, 1.0, 3.0, 8.0, 8.0, 8.0, 3.0, 4.0, 7.0, 6.0, 4.0, 1.0, 3.0, 0.0, 7.0, 7.0, 3.0, 1.0, 4.0, 3.0, 5.0, 3.0, 4.0, 2.0, 8.0, 8.0, 7.0, 4.0, 7.0, 2.0, 6.0, 1.0, 8.0, 4.0, 8.0, 0.0, 1.0, 4.0, 2.0, 2.0, 0.0, 8.0, 1.0, 7.0, 4.0, 1.0, 2.0, 1.0, 2.0, 3.0, 6.0, 3.0, 6.0, 5.0, 4.0, 0.0, 5.0, 8.0, 5.0, 7.0, 1.0, 1.0, 6.0, 8.0, 6.0, 6.0, 4.0, 6.0, 6.0, 6.0, 8.0, 4.0, 5.0, 8.0, 0.0, 7.0, 4.0, 1.0, 6.0, 1.0, 5.0, 5.0, 5.0, 3.0, 8.0, 7.0, 8.0, 1.0, 2.0, 7.0, 2.0, 0.0, 4.0, 3.0, 2.0, 5.0, 1.0, 1.0, 2.0, 3.0, 0.0, 4.0, 7.0, 5.0, 2.0, 2.0, 6.0, 7.0, 2.0, 2.0, 6.0, 4.0, 2.0, 5.0, 8.0, 3.0, 6.0, 1.0, 1.0, 6.0, 5.0, 0.0, 2.0, 5.0, 3.0, 3.0, 0.0, 3.0, 3.0, 3.0, 1.0, 4.0, 3.0, 0.0, 6.0, 3.0, 7.0, 1.0, 2.0, 7.0, 3.0, 6.0, 1.0, 3.0, 8.0, 3.0, 6.0, 1.0, 4.0, 4.0, 6.0, 2.0, 5.0, 3.0, 0.0, 5.0, 7.0, 3.0, 5.0, 6.0, 4.0, 7.0, 1.0, 1.0, 6.0, 1.0, 4.0, 5.0, 8.0, 4.0, 6.0, 4.0, 5.0, 1.0, 6.0, 0.0, 3.0, 3.0, 3.0, 4.0, 7.0, 5.0, 2.0, 6.0, 2.0, 4.0]\n",
    "print(classification_report(np.array(Label), np.array(prediction), target_names= classes))\n",
    "from sklearn.metrics import confusion_matrix\n",
    "classes\n",
    "cm = confusion_matrix(prediction, Label ,labels= range(0,9))\n",
    "print(cm)\n",
    "import seaborn as sns\n",
    "ax= plt.subplot()\n",
    "sns.heatmap(cm, annot=True, ax = ax, fmt = 'g'); #annot=True to annotate cellsplt.xticks(rotation=90)\n",
    "ax.xaxis.set_ticklabels(classes, fontsize = 10)\n",
    "ax.xaxis.tick_bottom()\n",
    "plt.xticks(rotation=90)\n",
    "ax.set_ylabel('True', fontsize=20)\n",
    "ax.yaxis.set_ticklabels(classes, fontsize = 10)\n",
    "plt.yticks(rotation=0)"
   ]
  },
  {
   "cell_type": "code",
   "execution_count": 63,
   "id": "b336612d",
   "metadata": {},
   "outputs": [
    {
     "name": "stdout",
     "output_type": "stream",
     "text": [
      "[array([0.49769671, 0.54904644, 0.60320839, 0.59262686, 0.54664781,\n",
      "       0.22157672, 0.92114355, 0.3484423 , 0.91723578]), array([0.0870559 , 0.76448385, 0.13933122, 0.66527094, 0.37945161,\n",
      "       0.87808389, 0.99234517, 0.99938301, 0.78951743]), array([0.36053041, 0.54445974, 0.73656632, 0.41868457, 0.54341021,\n",
      "       0.79700344, 0.63400894, 0.08090071, 0.087007  ]), array([0.47534793, 0.08431298, 0.76122473, 0.25762097, 0.30764684,\n",
      "       0.65892902, 0.93182514, 0.13027765, 0.92376008]), array([0.24393664, 0.37170802, 0.9979696 , 0.87149963, 0.48899293,\n",
      "       0.64526428, 0.05580208, 0.0401177 , 0.48596449]), array([0.10771086, 0.13711956, 0.1353652 , 0.21101119, 0.52245524,\n",
      "       0.83327093, 0.22746035, 0.47806891, 0.15463175]), array([0.32009553, 0.02780889, 0.58221359, 0.6358467 , 0.17342752,\n",
      "       0.41339929, 0.62142743, 0.27960739, 0.94674956]), array([0.33052019, 0.13757801, 0.02274199, 0.35893381, 0.00728098,\n",
      "       0.71627491, 0.75964388, 0.47418129, 0.5133967 ]), array([0.05565572, 0.5526328 , 0.59721723, 0.73699331, 0.70129181,\n",
      "       0.82535668, 0.64337192, 0.56820175, 0.09579595]), array([0.47837663, 0.56970206, 0.72714964, 0.52132856, 0.95666587,\n",
      "       0.60914229, 0.8703337 , 0.69737178, 0.23798119])]\n",
      "[array([0.93394809, 0.88090803, 0.17307202, 0.96326443, 0.33159295,\n",
      "       0.30719484, 0.25217432, 0.3493404 , 0.78819431]), array([0.17571305, 0.03901587, 0.64434974, 0.83708603, 0.41694049,\n",
      "       0.25210373, 0.80235269, 0.60470045, 0.17927423]), array([0.59020093, 0.57743135, 0.73169561, 0.66446298, 0.38683119,\n",
      "       0.8415885 , 0.16027967, 0.89236524, 0.80889746]), array([0.4478422 , 0.82020225, 0.39897393, 0.28101603, 0.12462595,\n",
      "       0.50451218, 0.0755918 , 0.66879817, 0.88220386]), array([0.97993773, 0.32784227, 0.90321732, 0.33422484, 0.9462833 ,\n",
      "       0.79289353, 0.66140602, 0.92220055, 0.20829601]), array([0.12512369, 0.3530275 , 0.75004553, 0.64790227, 0.71807701,\n",
      "       0.24936377, 0.93619362, 0.08987677, 0.43415499]), array([0.52385137, 0.85577838, 0.39937464, 0.2918942 , 0.02526848,\n",
      "       0.92048095, 0.30439415, 0.23230449, 0.52932164]), array([0.97776039, 0.08788515, 0.09932573, 0.63506271, 0.58374642,\n",
      "       0.99587892, 0.84727588, 0.91643894, 0.46836784]), array([0.28857123, 0.68518038, 0.59009672, 0.28753301, 0.02309317,\n",
      "       0.2403565 , 0.78658676, 0.19828439, 0.01255396]), array([0.58076005, 0.79123925, 0.4758996 , 0.88915212, 0.034264  ,\n",
      "       0.55456649, 0.65222272, 0.17664891, 0.10799361])]\n"
     ]
    },
    {
     "ename": "ValueError",
     "evalue": "continuous-multioutput is not supported",
     "output_type": "error",
     "traceback": [
      "\u001b[0;31m---------------------------------------------------------------------------\u001b[0m",
      "\u001b[0;31mValueError\u001b[0m                                Traceback (most recent call last)",
      "\u001b[0;32m/tmp/ipykernel_2567634/203894307.py\u001b[0m in \u001b[0;36m<module>\u001b[0;34m\u001b[0m\n\u001b[1;32m      6\u001b[0m \u001b[0mprint\u001b[0m\u001b[0;34m(\u001b[0m\u001b[0mlabel\u001b[0m\u001b[0;34m)\u001b[0m\u001b[0;34m\u001b[0m\u001b[0;34m\u001b[0m\u001b[0m\n\u001b[1;32m      7\u001b[0m \u001b[0mprint\u001b[0m\u001b[0;34m(\u001b[0m\u001b[0mpred\u001b[0m\u001b[0;34m)\u001b[0m\u001b[0;34m\u001b[0m\u001b[0;34m\u001b[0m\u001b[0m\n\u001b[0;32m----> 8\u001b[0;31m \u001b[0mprint\u001b[0m\u001b[0;34m(\u001b[0m\u001b[0mclassification_report\u001b[0m\u001b[0;34m(\u001b[0m\u001b[0mlabel\u001b[0m\u001b[0;34m,\u001b[0m \u001b[0mpred\u001b[0m\u001b[0;34m,\u001b[0m \u001b[0mtarget_names\u001b[0m\u001b[0;34m=\u001b[0m \u001b[0mclasses\u001b[0m\u001b[0;34m,\u001b[0m \u001b[0mlabels\u001b[0m\u001b[0;34m=\u001b[0m \u001b[0mclasses\u001b[0m\u001b[0;34m)\u001b[0m\u001b[0;34m)\u001b[0m\u001b[0;34m\u001b[0m\u001b[0;34m\u001b[0m\u001b[0m\n\u001b[0m",
      "\u001b[0;32m/opt/conda/lib/python3.8/site-packages/sklearn/utils/validation.py\u001b[0m in \u001b[0;36minner_f\u001b[0;34m(*args, **kwargs)\u001b[0m\n\u001b[1;32m     61\u001b[0m             \u001b[0mextra_args\u001b[0m \u001b[0;34m=\u001b[0m \u001b[0mlen\u001b[0m\u001b[0;34m(\u001b[0m\u001b[0margs\u001b[0m\u001b[0;34m)\u001b[0m \u001b[0;34m-\u001b[0m \u001b[0mlen\u001b[0m\u001b[0;34m(\u001b[0m\u001b[0mall_args\u001b[0m\u001b[0;34m)\u001b[0m\u001b[0;34m\u001b[0m\u001b[0;34m\u001b[0m\u001b[0m\n\u001b[1;32m     62\u001b[0m             \u001b[0;32mif\u001b[0m \u001b[0mextra_args\u001b[0m \u001b[0;34m<=\u001b[0m \u001b[0;36m0\u001b[0m\u001b[0;34m:\u001b[0m\u001b[0;34m\u001b[0m\u001b[0;34m\u001b[0m\u001b[0m\n\u001b[0;32m---> 63\u001b[0;31m                 \u001b[0;32mreturn\u001b[0m \u001b[0mf\u001b[0m\u001b[0;34m(\u001b[0m\u001b[0;34m*\u001b[0m\u001b[0margs\u001b[0m\u001b[0;34m,\u001b[0m \u001b[0;34m**\u001b[0m\u001b[0mkwargs\u001b[0m\u001b[0;34m)\u001b[0m\u001b[0;34m\u001b[0m\u001b[0;34m\u001b[0m\u001b[0m\n\u001b[0m\u001b[1;32m     64\u001b[0m \u001b[0;34m\u001b[0m\u001b[0m\n\u001b[1;32m     65\u001b[0m             \u001b[0;31m# extra_args > 0\u001b[0m\u001b[0;34m\u001b[0m\u001b[0;34m\u001b[0m\u001b[0;34m\u001b[0m\u001b[0m\n",
      "\u001b[0;32m/opt/conda/lib/python3.8/site-packages/sklearn/metrics/_classification.py\u001b[0m in \u001b[0;36mclassification_report\u001b[0;34m(y_true, y_pred, labels, target_names, sample_weight, digits, output_dict, zero_division)\u001b[0m\n\u001b[1;32m   1964\u001b[0m     \"\"\"\n\u001b[1;32m   1965\u001b[0m \u001b[0;34m\u001b[0m\u001b[0m\n\u001b[0;32m-> 1966\u001b[0;31m     \u001b[0my_type\u001b[0m\u001b[0;34m,\u001b[0m \u001b[0my_true\u001b[0m\u001b[0;34m,\u001b[0m \u001b[0my_pred\u001b[0m \u001b[0;34m=\u001b[0m \u001b[0m_check_targets\u001b[0m\u001b[0;34m(\u001b[0m\u001b[0my_true\u001b[0m\u001b[0;34m,\u001b[0m \u001b[0my_pred\u001b[0m\u001b[0;34m)\u001b[0m\u001b[0;34m\u001b[0m\u001b[0;34m\u001b[0m\u001b[0m\n\u001b[0m\u001b[1;32m   1967\u001b[0m \u001b[0;34m\u001b[0m\u001b[0m\n\u001b[1;32m   1968\u001b[0m     \u001b[0;32mif\u001b[0m \u001b[0mlabels\u001b[0m \u001b[0;32mis\u001b[0m \u001b[0;32mNone\u001b[0m\u001b[0;34m:\u001b[0m\u001b[0;34m\u001b[0m\u001b[0;34m\u001b[0m\u001b[0m\n",
      "\u001b[0;32m/opt/conda/lib/python3.8/site-packages/sklearn/metrics/_classification.py\u001b[0m in \u001b[0;36m_check_targets\u001b[0;34m(y_true, y_pred)\u001b[0m\n\u001b[1;32m     98\u001b[0m     \u001b[0;31m# No metrics support \"multiclass-multioutput\" format\u001b[0m\u001b[0;34m\u001b[0m\u001b[0;34m\u001b[0m\u001b[0;34m\u001b[0m\u001b[0m\n\u001b[1;32m     99\u001b[0m     \u001b[0;32mif\u001b[0m \u001b[0;34m(\u001b[0m\u001b[0my_type\u001b[0m \u001b[0;32mnot\u001b[0m \u001b[0;32min\u001b[0m \u001b[0;34m[\u001b[0m\u001b[0;34m\"binary\"\u001b[0m\u001b[0;34m,\u001b[0m \u001b[0;34m\"multiclass\"\u001b[0m\u001b[0;34m,\u001b[0m \u001b[0;34m\"multilabel-indicator\"\u001b[0m\u001b[0;34m]\u001b[0m\u001b[0;34m)\u001b[0m\u001b[0;34m:\u001b[0m\u001b[0;34m\u001b[0m\u001b[0;34m\u001b[0m\u001b[0m\n\u001b[0;32m--> 100\u001b[0;31m         \u001b[0;32mraise\u001b[0m \u001b[0mValueError\u001b[0m\u001b[0;34m(\u001b[0m\u001b[0;34m\"{0} is not supported\"\u001b[0m\u001b[0;34m.\u001b[0m\u001b[0mformat\u001b[0m\u001b[0;34m(\u001b[0m\u001b[0my_type\u001b[0m\u001b[0;34m)\u001b[0m\u001b[0;34m)\u001b[0m\u001b[0;34m\u001b[0m\u001b[0;34m\u001b[0m\u001b[0m\n\u001b[0m\u001b[1;32m    101\u001b[0m \u001b[0;34m\u001b[0m\u001b[0m\n\u001b[1;32m    102\u001b[0m     \u001b[0;32mif\u001b[0m \u001b[0my_type\u001b[0m \u001b[0;32min\u001b[0m \u001b[0;34m[\u001b[0m\u001b[0;34m\"binary\"\u001b[0m\u001b[0;34m,\u001b[0m \u001b[0;34m\"multiclass\"\u001b[0m\u001b[0;34m]\u001b[0m\u001b[0;34m:\u001b[0m\u001b[0;34m\u001b[0m\u001b[0;34m\u001b[0m\u001b[0m\n",
      "\u001b[0;31mValueError\u001b[0m: continuous-multioutput is not supported"
     ]
    }
   ],
   "source": [
    "label = []\n",
    "pred = []\n",
    "for i in range(10):\n",
    "    label.append(np.random.rand(9))\n",
    "    pred.append(np.random.rand(9))\n",
    "print(label)\n",
    "print(pred)\n",
    "print(classification_report(label, pred, target_names= classes, labels= classes))"
   ]
  },
  {
   "cell_type": "code",
   "execution_count": null,
   "id": "ee92fef2",
   "metadata": {},
   "outputs": [],
   "source": [
    "label = torch.tensor(8, device = \"cuda\")\n",
    "print(label)\n",
    "label_cpu = label.cpu().detach()\n",
    "print(label_cpu)\n",
    "label_np = label_cpu.numpy()\n",
    "print(type(label_np))\n",
    "label_np_item = label_np.item()\n",
    "print(type(label_np_item))\n",
    "\n",
    "\n"
   ]
  },
  {
   "cell_type": "code",
   "execution_count": null,
   "id": "1ea600fd",
   "metadata": {},
   "outputs": [],
   "source": [
    "y_pred = torch.randn(4,9)\n",
    "y_pred.shape\n",
    "#y_pred_np = y_pred.numpy()"
   ]
  },
  {
   "cell_type": "code",
   "execution_count": null,
   "id": "9a975ad7",
   "metadata": {},
   "outputs": [],
   "source": [
    "# y_pred_np\n",
    "# y_pred_np.shape"
   ]
  },
  {
   "cell_type": "code",
   "execution_count": null,
   "id": "b0e40082",
   "metadata": {},
   "outputs": [],
   "source": [
    "preds = torch.argmax(y_pred, axis = 1)"
   ]
  },
  {
   "cell_type": "code",
   "execution_count": null,
   "id": "67a30299",
   "metadata": {},
   "outputs": [],
   "source": [
    "preds.shape"
   ]
  },
  {
   "cell_type": "code",
   "execution_count": null,
   "id": "351e7a2b",
   "metadata": {},
   "outputs": [],
   "source": [
    "print(preds)"
   ]
  },
  {
   "cell_type": "code",
   "execution_count": null,
   "id": "a4498d5c",
   "metadata": {},
   "outputs": [],
   "source": [
    "for idx,(x,y) in enumerate(test_loader):\n",
    "    print(\"idx = \" + str(idx))"
   ]
  },
  {
   "cell_type": "code",
   "execution_count": null,
   "id": "27c60980",
   "metadata": {},
   "outputs": [],
   "source": []
  }
 ],
 "metadata": {
  "kernelspec": {
   "display_name": "Python 3",
   "language": "python",
   "name": "python3"
  },
  "language_info": {
   "codemirror_mode": {
    "name": "ipython",
    "version": 3
   },
   "file_extension": ".py",
   "mimetype": "text/x-python",
   "name": "python",
   "nbconvert_exporter": "python",
   "pygments_lexer": "ipython3",
   "version": "3.8.12"
  }
 },
 "nbformat": 4,
 "nbformat_minor": 5
}
