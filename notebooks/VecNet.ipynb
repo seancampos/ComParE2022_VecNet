{
 "cells": [
  {
   "cell_type": "code",
   "execution_count": null,
   "id": "0e5b2a5a",
   "metadata": {},
   "outputs": [],
   "source": [
    "!pip install pytorch-accelerated"
   ]
  },
  {
   "cell_type": "code",
   "execution_count": null,
   "id": "baaad315",
   "metadata": {},
   "outputs": [],
   "source": [
    "!pip3 install torch torchvision torchaudio --extra-index-url https://download.pytorch.org/whl/cu113"
   ]
  },
  {
   "cell_type": "code",
   "execution_count": null,
   "id": "7ffc7441",
   "metadata": {},
   "outputs": [],
   "source": [
    "!pip install ipywidgets"
   ]
  },
  {
   "cell_type": "code",
   "execution_count": null,
   "id": "fba0fe94",
   "metadata": {},
   "outputs": [],
   "source": [
    "## nnAudio\n",
    "!pip install git+https://github.com/KinWaiCheuk/nnAudio.git#subdirectory=Installation"
   ]
  },
  {
   "cell_type": "code",
   "execution_count": null,
   "id": "e7da4a1c",
   "metadata": {},
   "outputs": [],
   "source": [
    "!pip install timm"
   ]
  },
  {
   "cell_type": "code",
   "execution_count": null,
   "id": "5ba0d97a",
   "metadata": {},
   "outputs": [],
   "source": [
    "!pip install torchmetrics"
   ]
  },
  {
   "cell_type": "code",
   "execution_count": 33,
   "id": "91946937",
   "metadata": {},
   "outputs": [],
   "source": [
    "import os\n",
    "import sys\n",
    "sys.path.insert(0, os.path.abspath('../src'))\n",
    "import config\n",
    "from glob import glob\n",
    "\n",
    "from tqdm.notebook import tqdm\n",
    "\n",
    "import random\n",
    "import math\n",
    "import pandas as pd\n",
    "import numpy as np\n",
    "\n",
    "import torch\n",
    "import torch.nn as nn\n",
    "\n",
    "from torch.utils.data import Dataset\n",
    "from torch.utils.data.sampler import SubsetRandomSampler\n",
    "from pytorch_accelerated import Trainer\n",
    "\n",
    "import timm\n",
    "\n",
    "import torchaudio\n",
    "import torchaudio.transforms as AT\n",
    "import torchvision.transforms as VT\n",
    "from nnAudio import features\n",
    "\n",
    "from timm.loss import LabelSmoothingCrossEntropy\n",
    "import timm.optim\n",
    "\n",
    "from torchmetrics import MetricCollection, Accuracy, Precision, Recall\n",
    "from sklearn.metrics import accuracy_score\n",
    "\n",
    "from evaluate_torch import get_results, evaluate_model_timestamp\n",
    "\n",
    "# Evaluation with PSDS\n",
    "from eval import do_eval "
   ]
  },
  {
   "cell_type": "code",
   "execution_count": null,
   "id": "985d43a7",
   "metadata": {},
   "outputs": [],
   "source": [
    "# trainer class\n",
    "class TrainerWithMetrics(Trainer):\n",
    "    def __init__(self, num_classes, *args, **kwargs):\n",
    "        super().__init__(*args, **kwargs)\n",
    "\n",
    "        # this will be moved to the correct device automatically by the\n",
    "        # MoveModulesToDeviceCallback callback, which is used by default\n",
    "        self.metrics = MetricCollection(\n",
    "            {\n",
    "                \"accuracy\": Accuracy(num_classes=num_classes),\n",
    "                \"precision\": Precision(num_classes=num_classes),\n",
    "                \"recall\": Recall(num_classes=num_classes),\n",
    "            }\n",
    "        )\n",
    "    \n",
    "    def calculate_train_batch_loss(self, batch):\n",
    "        xb, yb = batch[0], batch[1]\n",
    "\n",
    "        model_outputs = self.model(xb)\n",
    "        loss = self.loss_func(model_outputs['prediction'], yb)\n",
    "\n",
    "        return {\n",
    "            \"loss\": loss,\n",
    "            \"model_outputs\": model_outputs,\n",
    "            \"batch_size\": yb.size(0),\n",
    "        }\n",
    "    \n",
    "    def calculate_eval_batch_loss(self, batch):\n",
    "        with torch.no_grad():\n",
    "            xb, yb = batch[0], batch[1]\n",
    "            model_outputs = self.model(xb)\n",
    "            val_loss = self.loss_func(model_outputs['prediction'], yb)\n",
    "\n",
    "        batch_output = {\n",
    "            \"loss\": val_loss,\n",
    "            \"model_outputs\": model_outputs,\n",
    "            \"batch_size\": yb.size(0),\n",
    "        }\n",
    "        preds = batch_output[\"model_outputs\"]['prediction'].argmax(dim=-1)\n",
    "\n",
    "        self.metrics.update(preds, batch[1])\n",
    "\n",
    "        return batch_output\n",
    "\n",
    "    def eval_epoch_end(self):\n",
    "        metrics = self.metrics.compute()\n",
    "        self.run_history.update_metric(\"accuracy\", metrics[\"accuracy\"].cpu())\n",
    "        self.run_history.update_metric(\"precision\", metrics[\"precision\"].cpu())\n",
    "        self.run_history.update_metric(\"recall\", metrics[\"recall\"].cpu())\n",
    "\n",
    "        self.metrics.reset()"
   ]
  },
  {
   "cell_type": "code",
   "execution_count": null,
   "id": "15814756",
   "metadata": {},
   "outputs": [],
   "source": [
    "def get_offsets_df(df, short_audio=False):\n",
    "    audio_offsets = []\n",
    "    min_length = config.win_size*config.NFFT/(((1/config.n_hop)*config.NFFT)*config.rate)\n",
    "    step_frac = config.step_size/config.win_size\n",
    "    for _, row in tqdm(df.iterrows(), total=len(df)):\n",
    "        if row['length'] > min_length:\n",
    "            step_size = step_frac*min_length\n",
    "            audio_offsets.append({'index':row.name,'id':row['id'], 'offset':0,'sound_type': row['sound_type'], 'length': row['length']})\n",
    "            for i in range(1, int((row['length']-min_length)//step_size)):\n",
    "                audio_offsets.append({'index':row.name, 'id': row['id'], 'offset':int(min_length+(i*step_size)*config.rate),'sound_type':row['sound_type'], 'length': row['length']})\n",
    "        elif short_audio:\n",
    "            audio_offsets.append({'index':row.name,'id':row['id'], 'offset':0,'sound_type': row['sound_type'], 'length': row['length']})\n",
    "    return pd.DataFrame(audio_offsets)       "
   ]
  },
  {
   "cell_type": "code",
   "execution_count": null,
   "id": "97da9757",
   "metadata": {},
   "outputs": [],
   "source": [
    "df = pd.read_csv(config.data_df)\n",
    "\n",
    "# To be kept: please do not edit the dev set: these paths select dev set a, dev set b as described in the paper\n",
    "idx_dev_a = np.logical_and(df['country'] == 'Tanzania', df['location_type'] == 'field')\n",
    "idx_dev_b = np.logical_and(df['country'] == 'UK', df['location_type'] == 'culture')\n",
    "idx_train = np.logical_not(np.logical_or(idx_dev_a, idx_dev_b))\n",
    "df_dev_a = df[idx_dev_a]\n",
    "df_dev_b = df[idx_dev_b]\n",
    "\n",
    "\n",
    "df_train = df[idx_train]\n",
    "\n",
    "# Modify by addition or sub-sampling of df_train here\n",
    "# df_train ... \n",
    "\n",
    "# Assertion to check that train does NOT appear in dev:\n",
    "assert len(np.where(pd.concat([df_train,df_dev_a,\n",
    "                               df_dev_b]).duplicated())[0]) == 0, 'Train dataframe contains overlap with dev A, dev B'"
   ]
  },
  {
   "cell_type": "code",
   "execution_count": null,
   "id": "3f878aca",
   "metadata": {},
   "outputs": [],
   "source": [
    "print(config.NFFT, config.win_size, config.n_hop, config.step_size)\n",
    "print((config.win_size * config.n_hop) / config.rate)"
   ]
  },
  {
   "cell_type": "code",
   "execution_count": null,
   "id": "4f2d1a61",
   "metadata": {},
   "outputs": [],
   "source": [
    "config.NFFT = 1024\n",
    "config.win_size = 360\n",
    "config.n_hop = config.NFFT//8\n",
    "config.step_size = config.win_size//3"
   ]
  },
  {
   "cell_type": "code",
   "execution_count": null,
   "id": "79b9c3e0",
   "metadata": {},
   "outputs": [],
   "source": [
    "#check the min length based on config params\n",
    "min_length = (config.win_size * config.n_hop) / config.rate\n",
    "min_length"
   ]
  },
  {
   "cell_type": "code",
   "execution_count": null,
   "id": "3ce2306f",
   "metadata": {},
   "outputs": [],
   "source": [
    "# step min length\n",
    "(config.step_size * config.n_hop) / config.rate"
   ]
  },
  {
   "cell_type": "code",
   "execution_count": null,
   "id": "1aba1a9b",
   "metadata": {},
   "outputs": [],
   "source": [
    "# come on feel the noise\n",
    "\n",
    "# first get the length of all the MUSAN noises https://www.openslr.org/17/ --> data/noise\n",
    "files_noise = glob('../../HumBugDB/data/noise/**/*.wav')+glob('../../HumBugDB/data/audioset/*.wav')\n",
    "df_noise = pd.DataFrame([{'path': f, 'length': torchaudio.sox_effects.apply_effects_file(f, effects=[[\"rate\", f'{config.rate}']])[0].shape[1]/config.rate} for f in tqdm(files_noise)])\n",
    "# make the noise in the training data match the format\n",
    "df_noise_train = df_train[(df_train['sound_type']!='mosquito')][['id','length']]\n",
    "df_noise_train = df_noise_train[df_noise_train['length']>min_length].sample(frac=0.19)\n",
    "df_noise_train['path'] = df_noise_train['id'].apply(lambda x: os.path.join(config.data_dir_train,f'{x}.wav'))\n",
    "df_noise = pd.concat([df_noise,df_noise_train[['path','length']]],ignore_index=True)"
   ]
  },
  {
   "cell_type": "code",
   "execution_count": null,
   "id": "a6e1f6a1",
   "metadata": {},
   "outputs": [],
   "source": [
    "# use audio clips shorter than min length ?\n",
    "USE_SHORT_AUDIO = True\n",
    "# get the frame offsets for each audio file into dataframes\n",
    "audio_df_train = get_offsets_df(df_train, short_audio=USE_SHORT_AUDIO)\n",
    "audio_df_test_A = get_offsets_df(df_dev_a, short_audio=True)\n",
    "audio_df_test_B = get_offsets_df(df_dev_b, short_audio=True)"
   ]
  },
  {
   "cell_type": "code",
   "execution_count": null,
   "id": "fb16d0fa",
   "metadata": {},
   "outputs": [],
   "source": [
    "class MozTrainDataset(Dataset):\n",
    "\n",
    "    def __init__(self, audio_df, noise_df, data_dir, min_length, cache=None, transform=None):\n",
    "        \"\"\"\n",
    "        Args:\n",
    "            audio_df (DataFrame): from get_offsets_df function \n",
    "            noise_df (DataFrame): the df of noise files and lengths\n",
    "            data_dir (string): Directory with all the wavs.\n",
    "            cache (dict): Empty dictionary used as cache\n",
    "            transform (callable, optional): Optional transform to be applied\n",
    "                on a sample.\n",
    "        \"\"\"\n",
    "        self.audio_df = audio_df\n",
    "        self.noise_df = noise_df\n",
    "        self.data_dir = data_dir\n",
    "        self.min_length = min_length\n",
    "        self.transform = transform\n",
    "        self.cache = cache\n",
    "\n",
    "    def __len__(self):\n",
    "        return len(self.audio_df)\n",
    "    \n",
    "    def _get_sample_(self, path, resample=None):\n",
    "        if self.cache is not None and path in self.cache:\n",
    "            return self.cache[path], resample\n",
    "        else:\n",
    "            effects = [\n",
    "                [\"remix\", \"1\"]\n",
    "            ]\n",
    "            if resample:\n",
    "                effects.extend([\n",
    "                 [\"rate\", f'{resample}'],\n",
    "                  ['gain', '-n'],\n",
    "                [\"highpass\", \"500\"],\n",
    "                ])\n",
    "\n",
    "            waveform, rate = torchaudio.sox_effects.apply_effects_file(path, effects=effects)\n",
    "            if waveform.shape[1] < config.rate*self.min_length:\n",
    "                r = math.ceil((config.rate*self.min_length)/waveform.shape[1])\n",
    "                f = torch.cat([waveform for _ in range(r)],dim=1)[:,:int(config.rate*self.min_length)][0]\n",
    "            else:    \n",
    "                f = waveform[0]\n",
    "            mu = torch.std_mean(f)[1]\n",
    "            st = torch.std_mean(f)[0]\n",
    "            # clip amplitudes\n",
    "            f_out = torch.clamp(f, min=mu-st*3, max=mu+st*3).unsqueeze(0)\n",
    "            #f = f_out.unsqueeze(0)\n",
    "            if self.cache is not None:\n",
    "                self.cache[path] = f_out\n",
    "        return f_out, rate\n",
    "\n",
    "    def __getitem__(self, idx):\n",
    "        real_idx = idx % len(self.audio_df)\n",
    "        x, _ = self._get_sample_(os.path.join(self.data_dir,f\"{self.audio_df.loc[real_idx]['id']}.wav\"), resample=config.rate)\n",
    "        \n",
    "        # random noise on even number indexes\n",
    "        #if real_idx % 2 == 0 and self.audio_df.loc[real_idx]['sound_type'] == 'mosquito':\n",
    "        #if self.audio_df.loc[real_idx]['sound_type'] == 'mosquito' and random.randint(0,1)==1:\n",
    "        if random.randint(0,1)==2:\n",
    "            sample_length = x.shape[1]/config.rate#sample_length = self.audio_df.loc[real_idx]['length']\n",
    "            if len(self.noise_df[self.noise_df['length'] >= sample_length]) > 0:\n",
    "                noise_path = self.noise_df[self.noise_df['length'] >= sample_length].sample(1).iloc[0]['path']\n",
    "                noise, _ = self._get_sample_(noise_path, resample=config.rate)\n",
    "                \n",
    "                noise_length_difference = noise.shape[1]-x.shape[1] \n",
    "                \n",
    "                random_noise_offset = 0 if noise_length_difference==0 else random.randrange(0,noise_length_difference)\n",
    "                noise = noise[:, random_noise_offset:random_noise_offset+x.shape[1]]\n",
    "\n",
    "                mos_power = x.norm(p=2)\n",
    "                noise_power = noise.norm(p=2)\n",
    "\n",
    "                snr = math.exp(random.randint(2,5) / 10)\n",
    "                \n",
    "                scale = snr * noise_power / mos_power\n",
    "                x = (scale * x + noise) / 2\n",
    "        \n",
    "        offset = self.audio_df.loc[real_idx]['offset']\n",
    "        return (x[:,offset:int(offset+config.rate*self.min_length)], torch.tensor(1) if self.audio_df.loc[real_idx]['sound_type'] == 'mosquito' else torch.tensor(0), idx)\n"
   ]
  },
  {
   "cell_type": "code",
   "execution_count": null,
   "id": "ed0f8da6",
   "metadata": {},
   "outputs": [],
   "source": [
    "class MozTestDataset(Dataset):\n",
    "    \"\"\"Face Landmarks dataset.\"\"\"\n",
    "\n",
    "    def __init__(self, audio_df, data_dir, min_length, cache=None, transform=None):\n",
    "        \"\"\"\n",
    "        Args:\n",
    "            audio_df (DataFrame): from get_offsets_df function \n",
    "            data_dir (string): Directory with all the wavs.\n",
    "            cache (dict): Empty dictionary used as cache\n",
    "            transform (callable, optional): Optional transform to be applied\n",
    "                on a sample.\n",
    "        \"\"\"\n",
    "        self.audio_df = audio_df\n",
    "        self.data_dir = data_dir\n",
    "        self.min_length = min_length\n",
    "        self.transform = transform\n",
    "        self.cache = cache\n",
    "\n",
    "    def __len__(self):\n",
    "        return len(self.audio_df)\n",
    "    \n",
    "    def _get_sample_(self, path, resample=None):\n",
    "        if self.cache is not None and path in self.cache:\n",
    "            return self.cache[path], resample\n",
    "        else:\n",
    "            effects = [\n",
    "                [\"remix\", \"1\"]\n",
    "            ]\n",
    "            if resample:\n",
    "                effects.extend([\n",
    "                  [\"rate\", f'{resample}'],\n",
    "                  ['gain', '-n'],\n",
    "                [\"highpass\", \"200\"],\n",
    "                ])\n",
    "            waveform, rate = torchaudio.sox_effects.apply_effects_file(path, effects=effects)\n",
    "            if waveform.shape[1] < config.rate*self.min_length:\n",
    "                left_pad_amt = int((config.rate*min_length-waveform.shape[1])//2)\n",
    "                left_pad = torch.zeros(1,left_pad_amt) #+ (0.1**0.5)*torch.randn(1, left_pad_amt)\n",
    "                right_pad_amt = int(config.rate*min_length-waveform.shape[1]-left_pad_amt)\n",
    "                right_pad = torch.zeros(1,right_pad_amt)# + (0.1**0.5)*torch.randn(1, right_pad_amt)\n",
    "                f = torch.cat([left_pad,waveform,right_pad],dim=1)[0]\n",
    "                f = ((0.0001**0.5)*torch.randn(1, int(config.rate*min_length))+f)[0]\n",
    "#                 r = math.ceil((config.rate*self.min_length)/waveform.shape[1])\n",
    "#                 f = torch.cat([waveform for _ in range(r)],dim=1)[:,:int(config.rate*self.min_length)][0]\n",
    "            else:    \n",
    "                f = waveform[0]\n",
    "            mu = torch.std_mean(f)[1]\n",
    "            st = torch.std_mean(f)[0]\n",
    "            #return waveform, rate, waveform\n",
    "            f_out = torch.clamp(f, min=mu-st*3, max=mu+st*3).unsqueeze(0)\n",
    "#             f_out = f.unsqueeze(0)\n",
    "            if self.cache is not None:\n",
    "                self.cache[path] = f_out\n",
    "        return f_out, rate\n",
    "\n",
    "    def __getitem__(self, idx):\n",
    "        real_idx = idx % len(self.audio_df)\n",
    "        x, _ = self._get_sample_(os.path.join(self.data_dir,f\"{self.audio_df.loc[real_idx]['id']}.wav\"), resample=config.rate)\n",
    "        \n",
    "        \n",
    "        \n",
    "        offset = self.audio_df.loc[real_idx]['offset']\n",
    "        return x[:,offset:int(offset+config.rate*self.min_length)], torch.tensor(1) if self.audio_df.loc[real_idx]['sound_type'] == 'mosquito' else torch.tensor(0), idx\n",
    "    \n",
    "    "
   ]
  },
  {
   "cell_type": "code",
   "execution_count": null,
   "id": "bb9876f5",
   "metadata": {},
   "outputs": [],
   "source": [
    "# initialize empty cache\n",
    "# it would be great if this was something cooler than a dictionary\n",
    "audio_cache={}"
   ]
  },
  {
   "cell_type": "code",
   "execution_count": null,
   "id": "afa9c3d5",
   "metadata": {},
   "outputs": [],
   "source": [
    "valid_size = 0.2\n",
    "shuffle = True\n",
    "random_seed = 42\n",
    "min_length = (config.win_size * config.n_hop) / config.rate\n",
    "# needed for cache\n",
    "\n",
    "num_workers=0\n",
    "pin_memory=True\n",
    "\n",
    "num_train = len(audio_df_train)\n",
    "indices = list(range(num_train))\n",
    "split = int(np.floor(valid_size * num_train))\n",
    "\n",
    "if shuffle:\n",
    "    np.random.seed(random_seed)\n",
    "    np.random.shuffle(indices)\n",
    "\n",
    "train_idx, valid_idx = indices[split:], indices[:split]\n",
    "train_sampler = SubsetRandomSampler(train_idx)\n",
    "valid_sampler = SubsetRandomSampler(valid_idx)\n",
    "\n",
    "train_dataset = MozTrainDataset(audio_df_train, df_noise, config.data_dir_train, min_length, audio_cache)\n",
    "\n",
    "val_dataset = MozTrainDataset(audio_df_train, df_noise, config.data_dir_train, min_length, audio_cache)"
   ]
  },
  {
   "cell_type": "code",
   "execution_count": 34,
   "id": "ae0879df",
   "metadata": {},
   "outputs": [],
   "source": [
    "batch_size = 32\n",
    "\n",
    "dataset_test_A = MozTestDataset(audio_df_test_A, config.data_dir_dev_a, min_length, audio_cache)\n",
    "\n",
    "test_loader_A = torch.utils.data.DataLoader(\n",
    "        dataset_test_A, batch_size=batch_size,\n",
    "        num_workers=num_workers, pin_memory=pin_memory,\n",
    "    )\n",
    "\n",
    "dataset_test_B = MozTestDataset(audio_df_test_B, config.data_dir_dev_b, min_length, audio_cache)\n",
    "\n",
    "test_loader_B = torch.utils.data.DataLoader(\n",
    "        dataset_test_B, batch_size=batch_size,\n",
    "        num_workers=num_workers, pin_memory=pin_memory,\n",
    "    )"
   ]
  },
  {
   "cell_type": "code",
   "execution_count": null,
   "id": "da2feca2",
   "metadata": {},
   "outputs": [],
   "source": [
    "class Normalization():\n",
    "    \"\"\"This class is for normalizing the spectrograms batch by batch. The normalization used is min-max, two modes 'framewise' and 'imagewise' can be selected. In this paper, we found that 'imagewise' normalization works better than 'framewise'\"\"\"\n",
    "    def __init__(self, mode='framewise'):\n",
    "        if mode == 'framewise':\n",
    "            def normalize(x):\n",
    "                size = x.shape\n",
    "                x_max = x.max(1, keepdim=True)[0] # Finding max values for each frame\n",
    "                x_min = x.min(1, keepdim=True)[0]  \n",
    "                output = (x-x_min)/(x_max-x_min) # If there is a column with all zero, nan will occur\n",
    "                output[torch.isnan(output)]=0 # Making nan to 0\n",
    "                return output\n",
    "        elif mode == 'imagewise':\n",
    "            def normalize(x):\n",
    "                size = x.shape\n",
    "                x_max = x.reshape(size[0], size[1]*size[2]).max(1, keepdim=True)[0]\n",
    "                x_min = x.reshape(size[0], size[1]*size[2]).min(1, keepdim=True)[0]\n",
    "                x_max = x_max.unsqueeze(1) # Make it broadcastable\n",
    "                x_min = x_min.unsqueeze(1) # Make it broadcastable \n",
    "                return (x-x_min)/(x_max-x_min)\n",
    "        else:\n",
    "            print(f'please choose the correct mode')\n",
    "        self.normalize = normalize\n",
    "\n",
    "    def __call__(self, x):\n",
    "        return self.normalize(x)"
   ]
  },
  {
   "cell_type": "code",
   "execution_count": null,
   "id": "b5cbf841",
   "metadata": {},
   "outputs": [],
   "source": [
    "def pcen(x, eps=1e-6, s=0.025, alpha=0.98, delta=2, r=0.5, training=False):\n",
    "    frames = x.split(1, -2)\n",
    "    m_frames = []\n",
    "    last_state = None\n",
    "    for frame in frames:\n",
    "        if last_state is None:\n",
    "            last_state = s * frame\n",
    "            m_frames.append(last_state)\n",
    "            continue\n",
    "        if training:\n",
    "            m_frame = ((1 - s) * last_state).add_(s * frame)\n",
    "        else:\n",
    "            m_frame = (1 - s) * last_state + s * frame\n",
    "        last_state = m_frame\n",
    "        m_frames.append(m_frame)\n",
    "    M = torch.cat(m_frames, 1)\n",
    "    if training:\n",
    "        pcen_ = (x / (M + eps).pow(alpha) + delta).pow(r) - delta ** r\n",
    "    else:\n",
    "        pcen_ = x.div_(M.add_(eps).pow_(alpha)).add_(delta).pow_(r).sub_(delta ** r)\n",
    "    return pcen_\n",
    "\n",
    "\n",
    "class PCENTransform(nn.Module):\n",
    "\n",
    "    def __init__(self, eps=1e-6, s=0.025, alpha=0.98, delta=2, r=0.5, trainable=True):\n",
    "        super().__init__()\n",
    "        if trainable:\n",
    "            self.log_s = nn.Parameter(torch.log(torch.Tensor([s])))\n",
    "            self.log_alpha = nn.Parameter(torch.log(torch.Tensor([alpha])))\n",
    "            self.log_delta = nn.Parameter(torch.log(torch.Tensor([delta])))\n",
    "            self.log_r = nn.Parameter(torch.log(torch.Tensor([r])))\n",
    "        else:\n",
    "            self.s = s\n",
    "            self.alpha = alpha\n",
    "            self.delta = delta\n",
    "            self.r = r\n",
    "        self.eps = eps\n",
    "        self.trainable = trainable\n",
    "\n",
    "    def forward(self, x):\n",
    "#         x = x.permute((0,2,1)).squeeze(dim=1)\n",
    "        if self.trainable:\n",
    "            x = pcen(x, self.eps, torch.exp(self.log_s), torch.exp(self.log_alpha), torch.exp(self.log_delta), torch.exp(self.log_r), self.training and self.trainable)\n",
    "        else:\n",
    "            x = pcen(x, self.eps, self.s, self.alpha, self.delta, self.r, self.training and self.trainable)\n",
    "#         x = x.unsqueeze(dim=1).permute((0,1,3,2))\n",
    "        return x"
   ]
  },
  {
   "cell_type": "code",
   "execution_count": null,
   "id": "9c626ccf",
   "metadata": {},
   "outputs": [],
   "source": [
    "def evaluate_model(model, test_loader, n_samples, n_channels=3):\n",
    "    with torch.no_grad():\n",
    "        device = torch.device('cuda:0' if torch.cuda.is_available() else 'cpu')\n",
    "        print(f'Evaluating on {device}')\n",
    "\n",
    "        softmax = nn.Softmax(dim=1)\n",
    "        \n",
    "        y_preds_all = torch.zeros([n_samples, len(test_loader.dataset), 2])\n",
    "        model.eval() # Important to not leak info from batch norm layers and cause other issues\n",
    "        \n",
    "        for n in range(n_samples):\n",
    "            all_y_pred = []\n",
    "            all_y = []\n",
    "            for x, y, idx in tqdm(test_loader):\n",
    "                x, y = x.to(device), y.to(device)\n",
    "\n",
    "                y_pred = model(x)['prediction']\n",
    "                all_y.append(y.cpu().detach())\n",
    "\n",
    "                all_y_pred.append(y_pred.cpu().detach())\n",
    "\n",
    "                del x\n",
    "                del y\n",
    "                del y_pred\n",
    "\n",
    "            all_y_pred = torch.cat(all_y_pred)\n",
    "            all_y = torch.cat(all_y)\n",
    "\n",
    "            y_preds_all[n,:] = softmax(all_y_pred)\n",
    "#             y_preds_all[n,:,1] = np.array(sigmoid(all_y_pred).squeeze())\n",
    "#             y_preds_all[n,:,0] = 1-np.array(sigmoid(all_y_pred).squeeze()) # Check ordering of classes (yes/no)\n",
    "            test_acc = accuracy_score(all_y.numpy(), torch.argmax(all_y_pred,dim=1).numpy())\n",
    "            print(test_acc)\n",
    "    return y_preds_all, all_y"
   ]
  },
  {
   "cell_type": "code",
   "execution_count": null,
   "id": "3c23cfb1",
   "metadata": {},
   "outputs": [],
   "source": [
    "# Subclass the pretrained model and make it a binary classification\n",
    "\n",
    "class Model(nn.Module):\n",
    "    def __init__(self, model_name, image_size):\n",
    "        super().__init__()\n",
    "        # num_classes=0 removes the pretrained head\n",
    "        self.backbone = timm.create_model(model_name,\n",
    "                        pretrained=True, num_classes=2, in_chans=1, \n",
    "                        drop_path_rate=0.1, global_pool='avgmax',\n",
    "                        drop_rate=0.1)\n",
    "        #####  This section is model specific\n",
    "        #### It freezes some fo the layers by name\n",
    "        #### you'll have to inspect the model to see the names\n",
    "        for name, param in self.backbone.named_parameters():\n",
    "            if param.requires_grad and 'head' not in name \\\n",
    "                and not name.startswith('norm') \\\n",
    "                and 'stages.3' not in name and 'layers.3' not in name \\\n",
    "                and 'blocks.26' not in name and 'blocks.26' not in name \\\n",
    "                and 'blocks.24' not in name and 'blocks.25' not in name \\\n",
    "                and 'blocks.22' not in name and 'blocks.23' not in name \\\n",
    "                and 'blocks.20' not in name and 'blocks.21' not in name \\\n",
    "                and 'blocks.22' not in name and 'blocks.23' not in name \\\n",
    "                and 'blocks.19' not in name and 'blocks.18' not in name \\\n",
    "                and 'blocks.17' not in name and 'blocks.5.' not in name:\n",
    "                param.requires_grad = False\n",
    "        #### end layer freezing\n",
    "        self.spec_layer = features.STFT(n_fft=config.NFFT, freq_bins=None, hop_length=config.n_hop,\n",
    "                              window='hann', freq_scale='log2', center=True, pad_mode='reflect',\n",
    "                          fmin=300, fmax=3000, sr=config.rate, output_format=\"Magnitude\", trainable=True)\n",
    "#         self.spec_layer = features.MelSpectrogram(n_fft=config.NFFT, n_mels=128, hop_length=config.n_hop,\n",
    "#                                 window='hann',  center=True, pad_mode='reflect',\n",
    "#                           sr=config.rate,  trainable_mel=True, trainable_STFT=True)\n",
    "#         self.out = nn.Linear(self.backbone.num_features, 1)\n",
    "        self.sizer = VT.Resize((image_size,image_size))\n",
    "        self.timeMasking = AT.TimeMasking(time_mask_param=30, iid_masks=True)\n",
    "        self.freqMasking = AT.FrequencyMasking(freq_mask_param=20, iid_masks=True)\n",
    "        self.norm_layer = Normalization(mode='framewise')\n",
    "        self.pcen_layer = PCENTransform(eps=1e-6, s=0.025, alpha=0.6, delta=0.1, r=0.2, trainable=True)\n",
    "        self.softmax = nn.Softmax(dim=1)\n",
    "        \n",
    "    def forward(self, x):\n",
    "        # first compute spectrogram\n",
    "        spec = self.spec_layer(x)  # (B, F, T)\n",
    "        # normalize\n",
    "#         spec = spec.transpose(1,2) # (B, T, F)\n",
    "        spec = self.pcen_layer(spec)\n",
    "        spec = self.norm_layer(spec)\n",
    "        \n",
    "#         if self.training:\n",
    "#             spec = self.timeMasking(spec)\n",
    "#             spec = self.freqMasking(spec)\n",
    "\n",
    "        # then size for CNN model\n",
    "        # and create a channel\n",
    "        spec = self.sizer(spec)\n",
    "        x = spec.unsqueeze(1)\n",
    "        # then repeat channels\n",
    "        pred = self.backbone(x)\n",
    "        pred = self.softmax(pred)\n",
    "#        pred = self.out(x)\n",
    "        \n",
    "        output = {\"prediction\": pred,\n",
    "                  \"spectrogram\": spec}\n",
    "        return output"
   ]
  },
  {
   "cell_type": "code",
   "execution_count": null,
   "id": "a46adb9d",
   "metadata": {},
   "outputs": [],
   "source": [
    "# this is how you train\n",
    "model = Model('convnext_base_384_in22ft1k',384)\n",
    "loss_func = LabelSmoothingCrossEntropy(smoothing=0.1)\n",
    "optimizer = timm.optim.create_optimizer_v2(model,opt='lamb',lr=0.001,weight_decay=0.01)\n",
    "num_classes =2 \n",
    "\n",
    "trainer = TrainerWithMetrics(\n",
    "    model=model, loss_func=loss_func, optimizer=optimizer, num_classes=num_classes\n",
    ")\n",
    "\n",
    "\n",
    "trainer.train(\n",
    "    train_dataset=train_dataset,\n",
    "    eval_dataset=val_dataset,\n",
    "    num_epochs=2,\n",
    "    per_device_batch_size=32,\n",
    ")"
   ]
  },
  {
   "cell_type": "code",
   "execution_count": null,
   "id": "23d987a7",
   "metadata": {},
   "outputs": [],
   "source": []
  },
  {
   "cell_type": "code",
   "execution_count": null,
   "id": "d6afb0cd",
   "metadata": {},
   "outputs": [],
   "source": [
    "# optional, save model\n",
    "torch.save(model.state_dict(), '../models/VecNet_2020_06_02')"
   ]
  },
  {
   "cell_type": "code",
   "execution_count": null,
   "id": "4e9c4925",
   "metadata": {},
   "outputs": [],
   "source": [
    "# optional, load model\n",
    "model = Model('convnext_base_384_in22ft1k',384)\n",
    "model.load_state_dict(torch.load('../models/VecNet_2020_06_02'))\n",
    "model.eval()"
   ]
  },
  {
   "cell_type": "code",
   "execution_count": null,
   "id": "c9a75dbd",
   "metadata": {},
   "outputs": [],
   "source": []
  },
  {
   "cell_type": "code",
   "execution_count": null,
   "id": "49c52a8d",
   "metadata": {},
   "outputs": [],
   "source": [
    "model_name = 'VecNet_2022_06_02'"
   ]
  },
  {
   "cell_type": "code",
   "execution_count": null,
   "id": "fb128a1e",
   "metadata": {},
   "outputs": [],
   "source": [
    "feat_type='VecNet_2022_06_02'"
   ]
  },
  {
   "cell_type": "code",
   "execution_count": null,
   "id": "3a07f8f3",
   "metadata": {},
   "outputs": [],
   "source": [
    "# Evaluate over dev A"
   ]
  },
  {
   "cell_type": "code",
   "execution_count": null,
   "id": "2b957fba",
   "metadata": {},
   "outputs": [],
   "source": [
    "# clear old predictions if necessary\n",
    "!rm -rf ../data/predictions/dev/a\n",
    "mkdir ../data/predictions/dev/a"
   ]
  },
  {
   "cell_type": "code",
   "execution_count": null,
   "id": "8a56f296",
   "metadata": {},
   "outputs": [],
   "source": [
    "# Evaluate over dev A\n",
    "evaluate_model_timestamp('.wav','../data/audio/dev/a','../data/predictions/dev/a', 2, model=model,\n",
    "                         win_size=config.win_size, step_size=config.step_size, n_hop=config.n_hop, debug=False)"
   ]
  },
  {
   "cell_type": "code",
   "execution_count": null,
   "id": "e2689977",
   "metadata": {},
   "outputs": [],
   "source": [
    "do_eval('./data/predictions/dev/a', './data/labels/dev/a', filename = os.path.join(config.plot_dir, model_name + \"_dev_a.png\"))"
   ]
  },
  {
   "cell_type": "code",
   "execution_count": null,
   "id": "39548222",
   "metadata": {},
   "outputs": [],
   "source": [
    "y_preds_all, y_test_A = evaluate_model(model, test_loader_A, 1, n_channels=1)  # Predict directly over feature windows (1.92 s)\n",
    "PE, MI, log_prob = get_results(y_preds_all.numpy(), y_test_A, filename = feat_type + '_' + model_name +'_Test_A')"
   ]
  },
  {
   "cell_type": "code",
   "execution_count": null,
   "id": "7b99a030",
   "metadata": {},
   "outputs": [],
   "source": []
  },
  {
   "cell_type": "code",
   "execution_count": null,
   "id": "c84a6f67",
   "metadata": {},
   "outputs": [],
   "source": [
    "# Evaluate over dev B"
   ]
  },
  {
   "cell_type": "code",
   "execution_count": null,
   "id": "06d55f25",
   "metadata": {},
   "outputs": [],
   "source": [
    "# clear old predictions if necessary\n",
    "!rm -rf ../data/predictions/dev/b\n",
    "mkdir ../data/predictions/dev/b"
   ]
  },
  {
   "cell_type": "code",
   "execution_count": null,
   "id": "37f78a0d",
   "metadata": {},
   "outputs": [],
   "source": [
    "evaluate_model_timestamp('.wav','../data/audio/dev/b','../data/predictions/dev/b', 2, model=model,\n",
    "                         win_size=config.win_size, step_size=config.step_size, n_hop=config.n_hop, debug=False)"
   ]
  },
  {
   "cell_type": "code",
   "execution_count": null,
   "id": "1edf3991",
   "metadata": {},
   "outputs": [],
   "source": [
    "do_eval('./data/predictions/dev/b', './data/labels/dev/b', filename = os.path.join(config.plot_dir, model_name + \"_dev_b.png\"))"
   ]
  },
  {
   "cell_type": "code",
   "execution_count": 35,
   "id": "c946c6d0",
   "metadata": {},
   "outputs": [
    {
     "name": "stdout",
     "output_type": "stream",
     "text": [
      "Evaluating on cuda:0\n"
     ]
    },
    {
     "data": {
      "application/vnd.jupyter.widget-view+json": {
       "model_id": "ee2a579b9f5444cd89fa191016f95507",
       "version_major": 2,
       "version_minor": 0
      },
      "text/plain": [
       "  0%|          | 0/37 [00:00<?, ?it/s]"
      ]
     },
     "metadata": {},
     "output_type": "display_data"
    },
    {
     "name": "stdout",
     "output_type": "stream",
     "text": [
      "0.7601694915254237\n"
     ]
    },
    {
     "data": {
      "image/png": "[encoded data removed]",
      "text/plain": [
       "<Figure size 864x360 with 1 Axes>"
      ]
     },
     "metadata": {
      "needs_background": "light"
     },
     "output_type": "display_data"
    },
    {
     "name": "stdout",
     "output_type": "stream",
     "text": [
      "mean ROC AUC: 0.5461510908134368\n"
     ]
    },
    {
     "data": {
      "image/png": "[encoded data removed]",
      "text/plain": [
       "<Figure size 288x288 with 1 Axes>"
      ]
     },
     "metadata": {
      "needs_background": "light"
     },
     "output_type": "display_data"
    },
    {
     "name": "stdout",
     "output_type": "stream",
     "text": [
      "std ROC AUC: 0.0\n",
      "PR-AUC:  0.3265682476181413\n"
     ]
    },
    {
     "data": {
      "image/png": "[encoded data removed]",
      "text/plain": [
       "<Figure size 288x288 with 1 Axes>"
      ]
     },
     "metadata": {
      "needs_background": "light"
     },
     "output_type": "display_data"
    },
    {
     "name": "stdout",
     "output_type": "stream",
     "text": [
      "Confusion matrix, as input by user\n",
      "[[99.7709  0.2291]\n",
      " [91.5309  8.4691]]\n"
     ]
    },
    {
     "data": {
      "image/png": "[encoded data removed]",
      "text/plain": [
       "<Figure size 288x288 with 1 Axes>"
      ]
     },
     "metadata": {
      "needs_background": "light"
     },
     "output_type": "display_data"
    }
   ],
   "source": [
    "y_preds_all, y_test_B = evaluate_model(model, test_loader_B, 1, n_channels=1)  # Predict directly over feature windows (1.92 s)\n",
    "PE, MI, log_prob = get_results(y_preds_all.numpy(), y_test_B, filename = feat_type + '_' + model_name +'_Test_B')"
   ]
  },
  {
   "cell_type": "code",
   "execution_count": null,
   "id": "c0181a34",
   "metadata": {},
   "outputs": [],
   "source": []
  }
 ],
 "metadata": {
  "kernelspec": {
   "display_name": "Python 3 (ipykernel)",
   "language": "python",
   "name": "python3"
  },
  "language_info": {
   "codemirror_mode": {
    "name": "ipython",
    "version": 3
   },
   "file_extension": ".py",
   "mimetype": "text/x-python",
   "name": "python",
   "nbconvert_exporter": "python",
   "pygments_lexer": "ipython3",
   "version": "3.8.12"
  }
 },
 "nbformat": 4,
 "nbformat_minor": 5
}
