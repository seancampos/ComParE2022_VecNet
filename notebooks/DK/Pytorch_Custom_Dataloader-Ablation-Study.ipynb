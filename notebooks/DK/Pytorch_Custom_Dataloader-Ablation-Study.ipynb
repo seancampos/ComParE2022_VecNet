{
 "cells": [
  {
   "cell_type": "code",
   "execution_count": 1,
   "id": "3f9d968e",
   "metadata": {},
   "outputs": [
    {
     "name": "stdout",
     "output_type": "stream",
     "text": [
      "Looking in indexes: https://pypi.org/simple, https://pypi.ngc.nvidia.com\n",
      "Looking in links: https://download.pytorch.org/whl/cu113/torch_stable.html\n",
      "Requirement already satisfied: torch==1.11.0+cu113 in /opt/conda/lib/python3.8/site-packages (1.11.0+cu113)\n",
      "Requirement already satisfied: torchvision==0.12.0+cu113 in /opt/conda/lib/python3.8/site-packages (0.12.0+cu113)\n",
      "Requirement already satisfied: torchaudio==0.11.0+cu113 in /opt/conda/lib/python3.8/site-packages (0.11.0+cu113)\n",
      "Requirement already satisfied: typing-extensions in /opt/conda/lib/python3.8/site-packages (from torch==1.11.0+cu113) (4.0.1)\n",
      "Requirement already satisfied: pillow!=8.3.*,>=5.3.0 in /opt/conda/lib/python3.8/site-packages (from torchvision==0.12.0+cu113) (9.1.1)\n",
      "Requirement already satisfied: requests in /opt/conda/lib/python3.8/site-packages (from torchvision==0.12.0+cu113) (2.26.0)\n",
      "Requirement already satisfied: numpy in /opt/conda/lib/python3.8/site-packages (from torchvision==0.12.0+cu113) (1.21.4)\n",
      "Requirement already satisfied: certifi>=2017.4.17 in /opt/conda/lib/python3.8/site-packages (from requests->torchvision==0.12.0+cu113) (2022.6.15)\n",
      "Requirement already satisfied: idna<4,>=2.5 in /opt/conda/lib/python3.8/site-packages (from requests->torchvision==0.12.0+cu113) (3.1)\n",
      "Requirement already satisfied: charset-normalizer~=2.0.0 in /opt/conda/lib/python3.8/site-packages (from requests->torchvision==0.12.0+cu113) (2.0.8)\n",
      "Requirement already satisfied: urllib3<1.27,>=1.21.1 in /opt/conda/lib/python3.8/site-packages (from requests->torchvision==0.12.0+cu113) (1.26.7)\n",
      "\u001b[33mWARNING: Running pip as the 'root' user can result in broken permissions and conflicting behaviour with the system package manager. It is recommended to use a virtual environment instead: https://pip.pypa.io/warnings/venv\u001b[0m\n"
     ]
    }
   ],
   "source": [
    "# I had to find the right version of pytorch with the widget here https://pytorch.org/\n",
    "# I *think* this will work with AWS\n",
    "!pip3 install torch==1.11.0+cu113 torchvision==0.12.0+cu113 torchaudio==0.11.0+cu113 -f https://download.pytorch.org/whl/cu113/torch_stable.html"
   ]
  },
  {
   "cell_type": "code",
   "execution_count": 2,
   "id": "e4b1a297",
   "metadata": {},
   "outputs": [
    {
     "name": "stdout",
     "output_type": "stream",
     "text": [
      "Looking in indexes: https://pypi.org/simple, https://pypi.ngc.nvidia.com\n",
      "Requirement already satisfied: timm in /opt/conda/lib/python3.8/site-packages (0.5.4)\n",
      "Requirement already satisfied: ipywidgets in /opt/conda/lib/python3.8/site-packages (7.7.0)\n",
      "Requirement already satisfied: torchvision in /opt/conda/lib/python3.8/site-packages (from timm) (0.12.0+cu113)\n",
      "Requirement already satisfied: torch>=1.4 in /opt/conda/lib/python3.8/site-packages (from timm) (1.11.0+cu113)\n",
      "Requirement already satisfied: jupyterlab-widgets>=1.0.0 in /opt/conda/lib/python3.8/site-packages (from ipywidgets) (1.1.0)\n",
      "Requirement already satisfied: ipython>=4.0.0 in /opt/conda/lib/python3.8/site-packages (from ipywidgets) (7.30.0)\n",
      "Requirement already satisfied: ipython-genutils~=0.2.0 in /opt/conda/lib/python3.8/site-packages (from ipywidgets) (0.2.0)\n",
      "Requirement already satisfied: traitlets>=4.3.1 in /opt/conda/lib/python3.8/site-packages (from ipywidgets) (5.3.0)\n",
      "Requirement already satisfied: ipykernel>=4.5.1 in /opt/conda/lib/python3.8/site-packages (from ipywidgets) (6.15.0)\n",
      "Requirement already satisfied: nbformat>=4.2.0 in /opt/conda/lib/python3.8/site-packages (from ipywidgets) (5.4.0)\n",
      "Requirement already satisfied: widgetsnbextension~=3.6.0 in /opt/conda/lib/python3.8/site-packages (from ipywidgets) (3.6.0)\n",
      "Requirement already satisfied: psutil in /opt/conda/lib/python3.8/site-packages (from ipykernel>=4.5.1->ipywidgets) (5.8.0)\n",
      "Requirement already satisfied: nest-asyncio in /opt/conda/lib/python3.8/site-packages (from ipykernel>=4.5.1->ipywidgets) (1.5.5)\n",
      "Requirement already satisfied: packaging in /opt/conda/lib/python3.8/site-packages (from ipykernel>=4.5.1->ipywidgets) (21.3)\n",
      "Requirement already satisfied: debugpy>=1.0 in /opt/conda/lib/python3.8/site-packages (from ipykernel>=4.5.1->ipywidgets) (1.6.0)\n",
      "Requirement already satisfied: tornado>=6.1 in /opt/conda/lib/python3.8/site-packages (from ipykernel>=4.5.1->ipywidgets) (6.1)\n",
      "Requirement already satisfied: pyzmq>=17 in /opt/conda/lib/python3.8/site-packages (from ipykernel>=4.5.1->ipywidgets) (22.3.0)\n",
      "Requirement already satisfied: matplotlib-inline>=0.1 in /opt/conda/lib/python3.8/site-packages (from ipykernel>=4.5.1->ipywidgets) (0.1.3)\n",
      "Requirement already satisfied: jupyter-client>=6.1.12 in /opt/conda/lib/python3.8/site-packages (from ipykernel>=4.5.1->ipywidgets) (7.1.0)\n",
      "Requirement already satisfied: pygments in /opt/conda/lib/python3.8/site-packages (from ipython>=4.0.0->ipywidgets) (2.10.0)\n",
      "Requirement already satisfied: prompt-toolkit!=3.0.0,!=3.0.1,<3.1.0,>=2.0.0 in /opt/conda/lib/python3.8/site-packages (from ipython>=4.0.0->ipywidgets) (3.0.22)\n",
      "Requirement already satisfied: backcall in /opt/conda/lib/python3.8/site-packages (from ipython>=4.0.0->ipywidgets) (0.2.0)\n",
      "Requirement already satisfied: pexpect>4.3 in /opt/conda/lib/python3.8/site-packages (from ipython>=4.0.0->ipywidgets) (4.8.0)\n",
      "Requirement already satisfied: pickleshare in /opt/conda/lib/python3.8/site-packages (from ipython>=4.0.0->ipywidgets) (0.7.5)\n",
      "Requirement already satisfied: jedi>=0.16 in /opt/conda/lib/python3.8/site-packages (from ipython>=4.0.0->ipywidgets) (0.18.1)\n",
      "Requirement already satisfied: decorator in /opt/conda/lib/python3.8/site-packages (from ipython>=4.0.0->ipywidgets) (5.1.0)\n",
      "Requirement already satisfied: setuptools>=18.5 in /opt/conda/lib/python3.8/site-packages (from ipython>=4.0.0->ipywidgets) (59.4.0)\n",
      "Requirement already satisfied: parso<0.9.0,>=0.8.0 in /opt/conda/lib/python3.8/site-packages (from jedi>=0.16->ipython>=4.0.0->ipywidgets) (0.8.3)\n",
      "Requirement already satisfied: python-dateutil>=2.1 in /opt/conda/lib/python3.8/site-packages (from jupyter-client>=6.1.12->ipykernel>=4.5.1->ipywidgets) (2.8.2)\n",
      "Requirement already satisfied: entrypoints in /opt/conda/lib/python3.8/site-packages (from jupyter-client>=6.1.12->ipykernel>=4.5.1->ipywidgets) (0.4)\n",
      "Requirement already satisfied: jupyter-core>=4.6.0 in /opt/conda/lib/python3.8/site-packages (from jupyter-client>=6.1.12->ipykernel>=4.5.1->ipywidgets) (4.10.0)\n",
      "Requirement already satisfied: fastjsonschema in /opt/conda/lib/python3.8/site-packages (from nbformat>=4.2.0->ipywidgets) (2.15.3)\n",
      "Requirement already satisfied: jsonschema>=2.6 in /opt/conda/lib/python3.8/site-packages (from nbformat>=4.2.0->ipywidgets) (4.6.0)\n",
      "Requirement already satisfied: pyrsistent!=0.17.0,!=0.17.1,!=0.17.2,>=0.14.0 in /opt/conda/lib/python3.8/site-packages (from jsonschema>=2.6->nbformat>=4.2.0->ipywidgets) (0.18.1)\n",
      "Requirement already satisfied: attrs>=17.4.0 in /opt/conda/lib/python3.8/site-packages (from jsonschema>=2.6->nbformat>=4.2.0->ipywidgets) (21.4.0)\n",
      "Requirement already satisfied: importlib-resources>=1.4.0 in /opt/conda/lib/python3.8/site-packages (from jsonschema>=2.6->nbformat>=4.2.0->ipywidgets) (5.8.0)\n",
      "Requirement already satisfied: zipp>=3.1.0 in /opt/conda/lib/python3.8/site-packages (from importlib-resources>=1.4.0->jsonschema>=2.6->nbformat>=4.2.0->ipywidgets) (3.8.0)\n",
      "Requirement already satisfied: ptyprocess>=0.5 in /opt/conda/lib/python3.8/site-packages (from pexpect>4.3->ipython>=4.0.0->ipywidgets) (0.7.0)\n",
      "Requirement already satisfied: wcwidth in /opt/conda/lib/python3.8/site-packages (from prompt-toolkit!=3.0.0,!=3.0.1,<3.1.0,>=2.0.0->ipython>=4.0.0->ipywidgets) (0.2.5)\n",
      "Requirement already satisfied: six>=1.5 in /opt/conda/lib/python3.8/site-packages (from python-dateutil>=2.1->jupyter-client>=6.1.12->ipykernel>=4.5.1->ipywidgets) (1.16.0)\n",
      "Requirement already satisfied: typing-extensions in /opt/conda/lib/python3.8/site-packages (from torch>=1.4->timm) (4.0.1)\n",
      "Requirement already satisfied: notebook>=4.4.1 in /opt/conda/lib/python3.8/site-packages (from widgetsnbextension~=3.6.0->ipywidgets) (6.4.12)\n",
      "Requirement already satisfied: nbconvert>=5 in /opt/conda/lib/python3.8/site-packages (from notebook>=4.4.1->widgetsnbextension~=3.6.0->ipywidgets) (6.5.0)\n",
      "Requirement already satisfied: terminado>=0.8.3 in /opt/conda/lib/python3.8/site-packages (from notebook>=4.4.1->widgetsnbextension~=3.6.0->ipywidgets) (0.15.0)\n",
      "Requirement already satisfied: Send2Trash>=1.8.0 in /opt/conda/lib/python3.8/site-packages (from notebook>=4.4.1->widgetsnbextension~=3.6.0->ipywidgets) (1.8.0)\n",
      "Requirement already satisfied: argon2-cffi in /opt/conda/lib/python3.8/site-packages (from notebook>=4.4.1->widgetsnbextension~=3.6.0->ipywidgets) (21.3.0)\n",
      "Requirement already satisfied: jinja2 in /opt/conda/lib/python3.8/site-packages (from notebook>=4.4.1->widgetsnbextension~=3.6.0->ipywidgets) (3.0.3)\n",
      "Requirement already satisfied: prometheus-client in /opt/conda/lib/python3.8/site-packages (from notebook>=4.4.1->widgetsnbextension~=3.6.0->ipywidgets) (0.14.1)\n",
      "Requirement already satisfied: mistune<2,>=0.8.1 in /opt/conda/lib/python3.8/site-packages (from nbconvert>=5->notebook>=4.4.1->widgetsnbextension~=3.6.0->ipywidgets) (0.8.4)\n",
      "Requirement already satisfied: jupyterlab-pygments in /opt/conda/lib/python3.8/site-packages (from nbconvert>=5->notebook>=4.4.1->widgetsnbextension~=3.6.0->ipywidgets) (0.2.2)\n",
      "Requirement already satisfied: pandocfilters>=1.4.1 in /opt/conda/lib/python3.8/site-packages (from nbconvert>=5->notebook>=4.4.1->widgetsnbextension~=3.6.0->ipywidgets) (1.5.0)\n",
      "Requirement already satisfied: defusedxml in /opt/conda/lib/python3.8/site-packages (from nbconvert>=5->notebook>=4.4.1->widgetsnbextension~=3.6.0->ipywidgets) (0.7.1)\n",
      "Requirement already satisfied: tinycss2 in /opt/conda/lib/python3.8/site-packages (from nbconvert>=5->notebook>=4.4.1->widgetsnbextension~=3.6.0->ipywidgets) (1.1.1)\n",
      "Requirement already satisfied: beautifulsoup4 in /opt/conda/lib/python3.8/site-packages (from nbconvert>=5->notebook>=4.4.1->widgetsnbextension~=3.6.0->ipywidgets) (4.10.0)\n",
      "Requirement already satisfied: MarkupSafe>=2.0 in /opt/conda/lib/python3.8/site-packages (from nbconvert>=5->notebook>=4.4.1->widgetsnbextension~=3.6.0->ipywidgets) (2.0.1)\n",
      "Requirement already satisfied: bleach in /opt/conda/lib/python3.8/site-packages (from nbconvert>=5->notebook>=4.4.1->widgetsnbextension~=3.6.0->ipywidgets) (5.0.0)\n",
      "Requirement already satisfied: nbclient>=0.5.0 in /opt/conda/lib/python3.8/site-packages (from nbconvert>=5->notebook>=4.4.1->widgetsnbextension~=3.6.0->ipywidgets) (0.6.4)\n",
      "Requirement already satisfied: argon2-cffi-bindings in /opt/conda/lib/python3.8/site-packages (from argon2-cffi->notebook>=4.4.1->widgetsnbextension~=3.6.0->ipywidgets) (21.2.0)\n",
      "Requirement already satisfied: cffi>=1.0.1 in /opt/conda/lib/python3.8/site-packages (from argon2-cffi-bindings->argon2-cffi->notebook>=4.4.1->widgetsnbextension~=3.6.0->ipywidgets) (1.15.0)\n",
      "Requirement already satisfied: pycparser in /opt/conda/lib/python3.8/site-packages (from cffi>=1.0.1->argon2-cffi-bindings->argon2-cffi->notebook>=4.4.1->widgetsnbextension~=3.6.0->ipywidgets) (2.21)\n",
      "Requirement already satisfied: soupsieve>1.2 in /opt/conda/lib/python3.8/site-packages (from beautifulsoup4->nbconvert>=5->notebook>=4.4.1->widgetsnbextension~=3.6.0->ipywidgets) (2.3)\n",
      "Requirement already satisfied: webencodings in /opt/conda/lib/python3.8/site-packages (from bleach->nbconvert>=5->notebook>=4.4.1->widgetsnbextension~=3.6.0->ipywidgets) (0.5.1)\n",
      "Requirement already satisfied: pyparsing!=3.0.5,>=2.0.2 in /opt/conda/lib/python3.8/site-packages (from packaging->ipykernel>=4.5.1->ipywidgets) (3.0.6)\n",
      "Requirement already satisfied: numpy in /opt/conda/lib/python3.8/site-packages (from torchvision->timm) (1.21.4)\n",
      "Requirement already satisfied: requests in /opt/conda/lib/python3.8/site-packages (from torchvision->timm) (2.26.0)\n",
      "Requirement already satisfied: pillow!=8.3.*,>=5.3.0 in /opt/conda/lib/python3.8/site-packages (from torchvision->timm) (9.1.1)\n",
      "Requirement already satisfied: urllib3<1.27,>=1.21.1 in /opt/conda/lib/python3.8/site-packages (from requests->torchvision->timm) (1.26.7)\n",
      "Requirement already satisfied: charset-normalizer~=2.0.0 in /opt/conda/lib/python3.8/site-packages (from requests->torchvision->timm) (2.0.8)\n",
      "Requirement already satisfied: certifi>=2017.4.17 in /opt/conda/lib/python3.8/site-packages (from requests->torchvision->timm) (2022.6.15)\n",
      "Requirement already satisfied: idna<4,>=2.5 in /opt/conda/lib/python3.8/site-packages (from requests->torchvision->timm) (3.1)\n",
      "\u001b[33mWARNING: Running pip as the 'root' user can result in broken permissions and conflicting behaviour with the system package manager. It is recommended to use a virtual environment instead: https://pip.pypa.io/warnings/venv\u001b[0m\n"
     ]
    }
   ],
   "source": [
    "# other dependencies\n",
    "!pip install timm ipywidgets"
   ]
  },
  {
   "cell_type": "code",
   "execution_count": 3,
   "id": "28d77574",
   "metadata": {},
   "outputs": [
    {
     "name": "stdout",
     "output_type": "stream",
     "text": [
      "Looking in indexes: https://pypi.org/simple, https://pypi.ngc.nvidia.com\n",
      "Collecting git+https://github.com/KinWaiCheuk/nnAudio.git#subdirectory=Installation\n",
      "  Cloning https://github.com/KinWaiCheuk/nnAudio.git to /tmp/pip-req-build-ppl7sk0z\n",
      "  Running command git clone -q https://github.com/KinWaiCheuk/nnAudio.git /tmp/pip-req-build-ppl7sk0z\n",
      "  Resolved https://github.com/KinWaiCheuk/nnAudio.git to commit 744fab12497a5316153978de2e97422c9c7389e0\n",
      "Requirement already satisfied: scipy in /opt/conda/lib/python3.8/site-packages (from nnAudio==0.3.1) (1.6.3)\n",
      "Requirement already satisfied: numpy<1.23.0,>=1.16.5 in /opt/conda/lib/python3.8/site-packages (from scipy->nnAudio==0.3.1) (1.21.4)\n",
      "\u001b[33mWARNING: Running pip as the 'root' user can result in broken permissions and conflicting behaviour with the system package manager. It is recommended to use a virtual environment instead: https://pip.pypa.io/warnings/venv\u001b[0m\n"
     ]
    }
   ],
   "source": [
    "## nnAudio\n",
    "!pip install git+https://github.com/KinWaiCheuk/nnAudio.git#subdirectory=Installation"
   ]
  },
  {
   "cell_type": "markdown",
   "id": "47bb41af",
   "metadata": {},
   "source": [
    "### 1 Import the kitchen sink"
   ]
  },
  {
   "cell_type": "code",
   "execution_count": 4,
   "id": "e7a16840",
   "metadata": {},
   "outputs": [
    {
     "name": "stdout",
     "output_type": "stream",
     "text": [
      "env: CUBLAS_WORKSPACE_CONFIG=:4096:8\n"
     ]
    }
   ],
   "source": [
    "# CUDA magic for reproducability\n",
    "%env CUBLAS_WORKSPACE_CONFIG=:4096:8"
   ]
  },
  {
   "cell_type": "code",
   "execution_count": 5,
   "id": "6b462322",
   "metadata": {},
   "outputs": [],
   "source": [
    "# humbug main imports\n",
    "\n",
    "import os\n",
    "import pandas as pd\n",
    "import sys\n",
    "sys.path.insert(0, os.path.abspath('../lib'))\n",
    "import config\n",
    "from evaluate import get_results\n",
    "import numpy as np\n",
    "\n",
    "# Troubleshooting and visualisation\n",
    "import IPython.display as ipd\n"
   ]
  },
  {
   "cell_type": "code",
   "execution_count": 6,
   "id": "3f3505f7",
   "metadata": {},
   "outputs": [],
   "source": [
    "# humbug lib imports\n",
    "from sklearn.metrics import accuracy_score\n",
    "from PyTorch import config_pytorch\n",
    "from datetime import datetime\n",
    "import math\n",
    "import pickle\n",
    "\n",
    "from torch.utils.data import TensorDataset, DataLoader\n",
    "import torch.nn.functional as F\n",
    "import torch.nn as nn\n",
    "import torch\n",
    "import torch.optim as optim\n",
    "import numpy as np\n",
    "from sklearn.metrics import accuracy_score\n",
    "from datetime import datetime\n",
    "import os\n",
    "\n",
    "import matplotlib\n",
    "import matplotlib.pyplot as plt\n",
    "import sklearn\n",
    "from sklearn.metrics import confusion_matrix, classification_report\n",
    "from sklearn.metrics import precision_recall_curve, plot_precision_recall_curve\n",
    "from sklearn.metrics import average_precision_score\n",
    "import sys\n",
    "\n",
    "from tqdm.notebook import tqdm"
   ]
  },
  {
   "cell_type": "code",
   "execution_count": 7,
   "id": "02a328ff",
   "metadata": {},
   "outputs": [],
   "source": [
    "# additional pytorch tools\n",
    "import random\n",
    "import torchaudio\n",
    "import torchaudio.transforms as T\n",
    "import torchvision.transforms as VT\n",
    "from torch.cuda.amp import autocast, GradScaler\n",
    "from timm.scheduler.cosine_lr import CosineLRScheduler\n",
    "import timm\n",
    "import timm.optim\n",
    "from timm.loss import LabelSmoothingCrossEntropy\n",
    "from timm.utils import NativeScaler\n",
    "from timm.models import model_parameters\n",
    "from glob import glob"
   ]
  },
  {
   "cell_type": "code",
   "execution_count": 8,
   "id": "300e6c8e",
   "metadata": {},
   "outputs": [],
   "source": [
    "## nnAudio\n",
    "from nnAudio import features\n",
    "from torch.utils.data.sampler import SubsetRandomSampler\n",
    "from torch.utils.data import Dataset, DataLoader"
   ]
  },
  {
   "cell_type": "markdown",
   "id": "b547b7b5",
   "metadata": {},
   "source": [
    "### Run all these function definition cells\n",
    "These have been extracted from the lib folder and are here to make them more easily editable.  Most of the action happens in *get_feat_torch*, which does feature extraction and *train_model*"
   ]
  },
  {
   "cell_type": "code",
   "execution_count": 9,
   "id": "6013bee1",
   "metadata": {},
   "outputs": [],
   "source": [
    "def load_model(filepath, model):\n",
    "    # Instantiate model to inspect\n",
    "    device = torch.device('cuda:0' if torch.cuda.is_available() else torch.device(\"cpu\"))\n",
    "    print(f'Training on {device}')\n",
    "        \n",
    "    if torch.cuda.device_count() > 1:\n",
    "        print(\"Using data parallel\")\n",
    "        model = nn.DataParallel(model, device_ids=list(range(torch.cuda.device_count())))\n",
    "    model = model.to(device)\n",
    "    # Load trained parameters from checkpoint (may need to download from S3 first)\n",
    "\n",
    "\n",
    "    if torch.cuda.is_available():\n",
    "        map_location=lambda storage, loc: storage.cuda()\n",
    "    else:\n",
    "        map_location='cpu'\n",
    "        \n",
    "    checkpoint = model.load_state_dict(torch.load(filepath))\n",
    "\n",
    "    return model"
   ]
  },
  {
   "cell_type": "code",
   "execution_count": 10,
   "id": "338242d4",
   "metadata": {},
   "outputs": [],
   "source": [
    "def test_model(model, test_loader, criterion, class_threshold=0.5, device=None):\n",
    "    with torch.no_grad():\n",
    "        if device is None:\n",
    "            torch.device('cuda:0' if torch.cuda.is_available() else 'cpu')\n",
    "        \n",
    "        test_loss = 0.0\n",
    "        model.eval()\n",
    "        \n",
    "        all_y = []\n",
    "        all_y_pred = []\n",
    "        counter = 1\n",
    "        for x, y, idx in tqdm(test_loader, desc='validation', leave=True):\n",
    "            \n",
    "            x, y = x.to(device), y.to(device)\n",
    "            \n",
    "            y_pred = model(x)['prediction']\n",
    "                        \n",
    "            loss = criterion(y_pred, y)\n",
    "\n",
    "            test_loss += loss.item()\n",
    "            \n",
    "            all_y.append(y.cpu().detach())\n",
    "            all_y_pred.append(y_pred.cpu().detach())\n",
    "            \n",
    "            del x\n",
    "            del y\n",
    "            del y_pred\n",
    "            \n",
    "            counter +=1\n",
    "\n",
    "        all_y = torch.cat(all_y)\n",
    "        all_y_pred = torch.cat(all_y_pred)\n",
    "        \n",
    "        test_loss = test_loss/len(test_loader)\n",
    "        test_acc = accuracy_score(all_y.numpy(), torch.argmax(all_y_pred,dim=1).numpy())\n",
    "    \n",
    "    \n",
    "    return test_loss, test_acc"
   ]
  },
  {
   "cell_type": "code",
   "execution_count": 11,
   "id": "b5b6a2de",
   "metadata": {},
   "outputs": [],
   "source": [
    "def train_model(train_loader, val_loader, model = None, n_channels = 1):\n",
    "    # Creates a GradScaler once at the beginning of training.\n",
    "    loss_scaler = NativeScaler()\n",
    "    global_step = 0\n",
    "    torch.manual_seed(0)\n",
    "\n",
    "    device = torch.device('cuda:0' if torch.cuda.is_available() else 'cpu')\n",
    "    print(f'Training on {device}')    \n",
    "    \n",
    "    if torch.cuda.device_count() > 1:\n",
    "        print(\"Using data parallel\")\n",
    "        model = nn.DataParallel(model, device_ids=list(range(torch.cuda.device_count())))\n",
    "\n",
    "    model = model.to(device)\n",
    "\n",
    "    criterion = LabelSmoothingCrossEntropy(smoothing=0.1)\n",
    "    optimiser = timm.optim.create_optimizer_v2(model,opt='lamb',lr=0.001,weight_decay=0.01)\n",
    "    \n",
    "    num_steps = len(train_loader)\n",
    "    num_epochs = config_pytorch.epochs\n",
    "    \n",
    "    # 1 cycle Decaying CosineLR per timm train.py\n",
    "    scheduler = CosineLRScheduler(\n",
    "            optimiser,\n",
    "            t_initial=num_epochs,\n",
    "        cycle_decay=0.5,\n",
    "        lr_min=1e-6,\n",
    "        t_in_epochs=True,\n",
    "        warmup_t=1,\n",
    "        warmup_lr_init=5e-4,\n",
    "        cycle_limit=1)\n",
    "    \n",
    "\n",
    "    all_train_loss = []\n",
    "    all_train_acc = []\n",
    "    all_val_loss = []\n",
    "    all_val_acc = []\n",
    "    best_val_loss = np.inf\n",
    "    best_val_acc = -np.inf\n",
    "\n",
    "    # best_train_loss = np.inf\n",
    "    best_train_acc = -np.inf\n",
    "\n",
    "    best_epoch = -1\n",
    "    checkpoint_name = None\n",
    "    overrun_counter = 0\n",
    "    \n",
    "    lr_log = []\n",
    "    \n",
    "    for e in range(num_epochs):\n",
    "        train_loss = 0.0\n",
    "        model.train()\n",
    "        running_loss = 0.0\n",
    "        all_y = []\n",
    "        all_y_pred = []\n",
    "        tk0 = tqdm(train_loader, total=int(len(train_loader)))\n",
    "        for batch_i, inputs in enumerate(tk0):\n",
    "            scheduler.step_update(num_updates=global_step)\n",
    "\n",
    "            x = inputs[0].to(device)\n",
    "            y = inputs[1].to(device)\n",
    "\n",
    "            global_step += 1\n",
    "            \n",
    "            if len(x) == 1:\n",
    "                x = x[0]\n",
    "\n",
    "            optimiser.zero_grad()\n",
    "            # AMP\n",
    "            with autocast(enabled=False):\n",
    "                y_pred = model(x)['prediction']\n",
    "                loss = criterion(y_pred, y)\n",
    "                \n",
    "            loss_scaler(\n",
    "                loss, optimiser,\n",
    "                parameters=model_parameters(model))\n",
    "    \n",
    "\n",
    "            train_loss += loss.item()\n",
    "            all_y.append(y.cpu().detach())\n",
    "            all_y_pred.append(y_pred.cpu().detach())\n",
    "            \n",
    "            lr_log.append(optimiser.param_groups[0]['lr'])\n",
    "            \n",
    "            tk0.set_postfix(training_loss=(train_loss / (batch_i+1)), lr=optimiser.param_groups[0]['lr'])\n",
    "            \n",
    "            del x\n",
    "            del y\n",
    "        \n",
    "\n",
    "        scheduler.step(e+1)\n",
    "        all_train_loss.append(train_loss/len(train_loader))\n",
    "\n",
    "        all_y = torch.cat(all_y)\n",
    "        all_y_pred = torch.cat(all_y_pred)\n",
    "        train_acc = accuracy_score(all_y.numpy(), torch.argmax(all_y_pred,dim=1).numpy())\n",
    "        all_train_acc.append(train_acc)\n",
    "\n",
    "\n",
    "        # Can add more conditions to support loss instead of accuracy. Use *-1 for loss inequality instead of acc\n",
    "        val_loss, val_acc = test_model(model, val_loader, criterion, 0.5, device=device)\n",
    "        all_val_loss.append(val_loss)\n",
    "        all_val_acc.append(val_acc)\n",
    "\n",
    "        acc_metric = val_acc\n",
    "        best_acc_metric = best_val_acc\n",
    "        \n",
    "        if acc_metric > best_acc_metric:  \n",
    "            # if checkpoint_name is not None:\n",
    "                # os.path.join(os.path.pardir, 'models', 'pytorch', checkpoint_name)\n",
    "\n",
    "            checkpoint_name = f'model_e{e}_{datetime.now().strftime(\"%Y_%m_%d_%H_%M_%S\")}.pth'\n",
    "\n",
    "            torch.save(model.state_dict(), os.path.join(config.model_dir, 'pytorch', checkpoint_name))\n",
    "            print('Saving model to:', os.path.join(config.model_dir, 'pytorch', checkpoint_name)) \n",
    "            best_epoch = e\n",
    "#             best_train_acc = train_acc\n",
    "#             best_train_loss = train_loss\n",
    "#             if x_val is not None:\n",
    "            best_val_acc = val_acc\n",
    "            best_val_loss = val_loss\n",
    "            overrun_counter = -1\n",
    "\n",
    "        overrun_counter += 1\n",
    "        #if x_val is not None:\n",
    "        print('Epoch: %d, Train Loss: %.8f, Train Acc: %.8f, Val Loss: %.8f, Val Acc: %.8f, overrun_counter %i' % (e, train_loss/len(train_loader), train_acc, val_loss/len(val_loader), val_acc,  overrun_counter))\n",
    "#         else:\n",
    "#             print('Epoch: %d, Train Loss: %.8f, Train Acc: %.8f, overrun_counter %i' % (e, train_loss/len(train_loader), train_acc, overrun_counter))\n",
    "        if overrun_counter > config_pytorch.max_overrun:\n",
    "            break\n",
    "            \n",
    "    \n",
    "    return model, lr_log"
   ]
  },
  {
   "cell_type": "code",
   "execution_count": 12,
   "id": "eecbf985",
   "metadata": {},
   "outputs": [],
   "source": [
    "def evaluate_model(model, test_loader, n_samples, n_channels=3):\n",
    "    with torch.no_grad():\n",
    "        device = torch.device('cuda:0' if torch.cuda.is_available() else 'cpu')\n",
    "        print(f'Evaluating on {device}')\n",
    "\n",
    "        softmax = nn.Softmax(dim=1)\n",
    "        \n",
    "        y_preds_all = torch.zeros([n_samples, len(test_loader.dataset), 2])\n",
    "        model.eval() # Important to not leak info from batch norm layers and cause other issues\n",
    "        \n",
    "        for n in range(n_samples):\n",
    "            all_y_pred = []\n",
    "            all_y = []\n",
    "            for x, y, idx in tqdm(test_loader):\n",
    "                x, y = x.to(device), y.to(device)\n",
    "\n",
    "                y_pred = model(x)['prediction']\n",
    "                all_y.append(y.cpu().detach())\n",
    "\n",
    "                all_y_pred.append(y_pred.cpu().detach())\n",
    "\n",
    "                del x\n",
    "                del y\n",
    "                del y_pred\n",
    "\n",
    "            all_y_pred = torch.cat(all_y_pred)\n",
    "            all_y = torch.cat(all_y)\n",
    "\n",
    "            y_preds_all[n,:] = softmax(all_y_pred)\n",
    "#             y_preds_all[n,:,1] = np.array(sigmoid(all_y_pred).squeeze())\n",
    "#             y_preds_all[n,:,0] = 1-np.array(sigmoid(all_y_pred).squeeze()) # Check ordering of classes (yes/no)\n",
    "            test_acc = accuracy_score(all_y.numpy(), torch.argmax(all_y_pred,dim=1).numpy())\n",
    "            print(test_acc)\n",
    "    return y_preds_all, all_y"
   ]
  },
  {
   "cell_type": "code",
   "execution_count": 13,
   "id": "2b1533b7",
   "metadata": {},
   "outputs": [],
   "source": [
    "def get_offsets_df(df, short_audio=False):\n",
    "    audio_offsets = []\n",
    "    min_length = config.win_size*config.NFFT/(((1/config.n_hop)*config.NFFT)*config.rate)\n",
    "    step_frac = config.step_size/config.win_size\n",
    "    for _, row in tqdm(df.iterrows(), total=len(df)):\n",
    "        if row['length'] > min_length:\n",
    "            step_size = step_frac*min_length\n",
    "            audio_offsets.append({'index':row.name,'id':row['id'], 'offset':0,'sound_type': row['sound_type'], 'length': row['length']})\n",
    "            for i in range(1, int((row['length']-min_length)//step_size)):\n",
    "                audio_offsets.append({'index':row.name, 'id': row['id'], 'offset':int(min_length+(i*step_size)*config.rate),'sound_type':row['sound_type'], 'length': row['length']})\n",
    "        elif short_audio:\n",
    "            audio_offsets.append({'index':row.name,'id':row['id'], 'offset':0,'sound_type': row['sound_type'], 'length': row['length']})\n",
    "    return pd.DataFrame(audio_offsets)       "
   ]
  },
  {
   "cell_type": "code",
   "execution_count": null,
   "id": "d73a50da",
   "metadata": {},
   "outputs": [],
   "source": []
  },
  {
   "cell_type": "code",
   "execution_count": 14,
   "id": "c30e916c",
   "metadata": {},
   "outputs": [
    {
     "data": {
      "text/plain": [
       "1.92"
      ]
     },
     "execution_count": 14,
     "metadata": {},
     "output_type": "execute_result"
    }
   ],
   "source": [
    "#check the min length based on config params\n",
    "min_length = (config.win_size * config.n_hop) / config.rate\n",
    "min_length"
   ]
  },
  {
   "cell_type": "markdown",
   "id": "6386ed4e",
   "metadata": {},
   "source": [
    "### 3 The Data"
   ]
  },
  {
   "cell_type": "markdown",
   "id": "7ab7c1e5",
   "metadata": {},
   "source": [
    "### Read CSV and get train/test groups"
   ]
  },
  {
   "cell_type": "code",
   "execution_count": 15,
   "id": "6c300cf1",
   "metadata": {},
   "outputs": [],
   "source": [
    "df = pd.read_csv(config.data_df)\n",
    "\n",
    "# To be kept: please do not edit the test set: these paths select test set A, test set B as described in the paper\n",
    "idx_test_A = np.logical_and(df['country'] == 'Tanzania', df['location_type'] == 'field')\n",
    "idx_test_B = np.logical_and(df['country'] == 'UK', df['location_type'] == 'culture')\n",
    "idx_train = np.logical_not(np.logical_or(idx_test_A, idx_test_B))\n",
    "df_test_A = df[idx_test_A]\n",
    "df_test_B = df[idx_test_B]\n",
    "\n",
    "\n",
    "df_train = df[idx_train]\n",
    "\n",
    "# Modify by addition or sub-sampling of df_train here\n",
    "# df_train ... \n",
    "\n",
    "# Assertion to check that train does NOT appear in test:\n",
    "assert len(np.where(pd.concat([df_train,df_test_A,\n",
    "                               df_test_B]).duplicated())[0]) == 0, 'Train dataframe contains overlap with Test A, Test B'"
   ]
  },
  {
   "cell_type": "code",
   "execution_count": 16,
   "id": "9f77ec77",
   "metadata": {},
   "outputs": [
    {
     "data": {
      "application/vnd.jupyter.widget-view+json": {
       "model_id": "c502526db27a4a6896a22ef23fe4f689",
       "version_major": 2,
       "version_minor": 0
      },
      "text/plain": [
       "0it [00:00, ?it/s]"
      ]
     },
     "metadata": {},
     "output_type": "display_data"
    }
   ],
   "source": [
    "# come on feel the noise\n",
    "\n",
    "# first get the length of all the MUSAN noises https://www.openslr.org/17/ --> data/noise\n",
    "files_noise = glob('../data/noise/**/*.wav')+glob('../data/audioset/*.wav')\n",
    "df_noise = pd.DataFrame([{'path': f, 'length': torchaudio.sox_effects.apply_effects_file(f, effects=[[\"rate\", f'{config.rate}']])[0].shape[1]/config.rate} for f in tqdm(files_noise)])\n",
    "# make the noise in the training data match the format\n",
    "df_noise_train = df_train[(df_train['sound_type']!='mosquito')][['id','length']]\n",
    "df_noise_train = df_noise_train[df_noise_train['length']>min_length].sample(frac=0.19)\n",
    "df_noise_train['path'] = df_noise_train['id'].apply(lambda x: os.path.join(config.data_dir,f'{x}.wav'))\n",
    "df_noise = pd.concat([df_noise,df_noise_train[['path','length']]],ignore_index=True)"
   ]
  },
  {
   "cell_type": "code",
   "execution_count": 17,
   "id": "70f6f9f7",
   "metadata": {},
   "outputs": [],
   "source": [
    "# use audio clips shorter than min length ?\n",
    "USE_SHORT_AUDIO = True"
   ]
  },
  {
   "cell_type": "code",
   "execution_count": 18,
   "id": "8467b5ff",
   "metadata": {},
   "outputs": [
    {
     "data": {
      "application/vnd.jupyter.widget-view+json": {
       "model_id": "ac7c246a6e7a46fdaca07cb911a7c80f",
       "version_major": 2,
       "version_minor": 0
      },
      "text/plain": [
       "  0%|          | 0/7934 [00:00<?, ?it/s]"
      ]
     },
     "metadata": {},
     "output_type": "display_data"
    },
    {
     "data": {
      "application/vnd.jupyter.widget-view+json": {
       "model_id": "cbb234c724c944dda6ec6f10100cd4f1",
       "version_major": 2,
       "version_minor": 0
      },
      "text/plain": [
       "  0%|          | 0/1163 [00:00<?, ?it/s]"
      ]
     },
     "metadata": {},
     "output_type": "display_data"
    },
    {
     "data": {
      "application/vnd.jupyter.widget-view+json": {
       "model_id": "ad920641829a4305bdcb2639466527dd",
       "version_major": 2,
       "version_minor": 0
      },
      "text/plain": [
       "  0%|          | 0/198 [00:00<?, ?it/s]"
      ]
     },
     "metadata": {},
     "output_type": "display_data"
    }
   ],
   "source": [
    "# get the frame offsets for each audio file into dataframes\n",
    "audio_df_train = get_offsets_df(df_train, short_audio=USE_SHORT_AUDIO)\n",
    "audio_df_test_A = get_offsets_df(df_test_A, short_audio=True)\n",
    "audio_df_test_B = get_offsets_df(df_test_B, short_audio=True)"
   ]
  },
  {
   "cell_type": "code",
   "execution_count": 19,
   "id": "e5642e60",
   "metadata": {},
   "outputs": [],
   "source": [
    "class MozTrainDataset(Dataset):\n",
    "\n",
    "    def __init__(self, audio_df, noise_df, data_dir, min_length, cache=None, transform=None):\n",
    "        \"\"\"\n",
    "        Args:\n",
    "            audio_df (DataFrame): from get_offsets_df function \n",
    "            noise_df (DataFrame): the df of noise files and lengths\n",
    "            data_dir (string): Directory with all the wavs.\n",
    "            cache (dict): Empty dictionary used as cache\n",
    "            transform (callable, optional): Optional transform to be applied\n",
    "                on a sample.\n",
    "        \"\"\"\n",
    "        self.audio_df = audio_df\n",
    "        self.noise_df = noise_df\n",
    "        self.data_dir = data_dir\n",
    "        self.min_length = min_length\n",
    "        self.transform = transform\n",
    "        self.cache = cache\n",
    "\n",
    "    def __len__(self):\n",
    "        return len(self.audio_df)\n",
    "    \n",
    "    def _get_sample_(self, path, resample=None):\n",
    "        if self.cache is not None and path in self.cache:\n",
    "            return self.cache[path], resample\n",
    "        else:\n",
    "            effects = [\n",
    "                [\"remix\", \"1\"]\n",
    "            ]\n",
    "            if resample:\n",
    "                effects.extend([\n",
    "                  [\"rate\", f'{resample}'],\n",
    "                  ['gain', '-n'],\n",
    "                [\"highpass\", \"200\"],\n",
    "                ])\n",
    "\n",
    "            waveform, rate = torchaudio.sox_effects.apply_effects_file(path, effects=effects)\n",
    "            if waveform.shape[1] < config.rate*self.min_length:\n",
    "                r = math.ceil((config.rate*self.min_length)/waveform.shape[1])\n",
    "                f = torch.cat([waveform for _ in range(r)],dim=1)[:,:int(config.rate*self.min_length)][0]\n",
    "            else:    \n",
    "                f = waveform[0]\n",
    "            mu = torch.std_mean(f)[1]\n",
    "            st = torch.std_mean(f)[0]\n",
    "            # clip amplitudes\n",
    "            f_out = torch.clamp(f, min=mu-st*3, max=mu+st*3).unsqueeze(0)\n",
    "            f = f_out.unsqueeze(0)\n",
    "            if self.cache is not None:\n",
    "                self.cache[path] = f_out\n",
    "        return f_out, rate\n",
    "\n",
    "    def __getitem__(self, idx):\n",
    "        real_idx = idx % len(self.audio_df)\n",
    "        x, _ = self._get_sample_(os.path.join(self.data_dir,f\"{self.audio_df.loc[real_idx]['id']}.wav\"), resample=config.rate)\n",
    "        \n",
    "        # random noise on even number indexes\n",
    "        #if real_idx % 2 == 0 and self.audio_df.loc[real_idx]['sound_type'] == 'mosquito':\n",
    "        #if self.audio_df.loc[real_idx]['sound_type'] == 'mosquito' and random.randint(0,1)==1:\n",
    "        if random.randint(0,1)==1:\n",
    "            sample_length = x.shape[1]/config.rate#sample_length = self.audio_df.loc[real_idx]['length']\n",
    "            if len(self.noise_df[self.noise_df['length'] >= sample_length]) > 0:\n",
    "                noise_path = self.noise_df[self.noise_df['length'] >= sample_length].sample(1).iloc[0]['path']\n",
    "                noise, _ = self._get_sample_(noise_path, resample=config.rate)\n",
    "                \n",
    "                noise_length_difference = noise.shape[1]-x.shape[1] \n",
    "                \n",
    "                random_noise_offset = 0 if noise_length_difference==0 else random.randrange(0,noise_length_difference)\n",
    "                noise = noise[:, random_noise_offset:random_noise_offset+x.shape[1]]\n",
    "\n",
    "                mos_power = x.norm(p=2)\n",
    "                noise_power = noise.norm(p=2)\n",
    "\n",
    "                snr = math.exp(random.randint(2,5) / 10)\n",
    "                \n",
    "                scale = snr * noise_power / mos_power\n",
    "                x = (scale * x + noise) / 2\n",
    "        \n",
    "        offset = self.audio_df.loc[real_idx]['offset']\n",
    "        return (x[:,offset:int(offset+config.rate*self.min_length)], torch.tensor(1) if self.audio_df.loc[real_idx]['sound_type'] == 'mosquito' else torch.tensor(0), idx)\n"
   ]
  },
  {
   "cell_type": "code",
   "execution_count": 20,
   "id": "0266fae7",
   "metadata": {},
   "outputs": [],
   "source": [
    "class MozTestDataset(Dataset):\n",
    "    \"\"\"Face Landmarks dataset.\"\"\"\n",
    "\n",
    "    def __init__(self, audio_df, data_dir, min_length, cache=None, transform=None):\n",
    "        \"\"\"\n",
    "        Args:\n",
    "            audio_df (DataFrame): from get_offsets_df function \n",
    "            data_dir (string): Directory with all the wavs.\n",
    "            cache (dict): Empty dictionary used as cache\n",
    "            transform (callable, optional): Optional transform to be applied\n",
    "                on a sample.\n",
    "        \"\"\"\n",
    "        self.audio_df = audio_df\n",
    "        self.data_dir = data_dir\n",
    "        self.min_length = min_length\n",
    "        self.transform = transform\n",
    "        self.cache = cache\n",
    "\n",
    "    def __len__(self):\n",
    "        return len(self.audio_df)\n",
    "    \n",
    "    def _get_sample_(self, path, resample=None):\n",
    "        if self.cache is not None and path in self.cache:\n",
    "            return self.cache[path], resample\n",
    "        else:\n",
    "            effects = [\n",
    "                [\"remix\", \"1\"]\n",
    "            ]\n",
    "            if resample:\n",
    "                effects.extend([\n",
    "                  [\"rate\", f'{resample}'],\n",
    "                  ['gain', '-n'],\n",
    "                [\"highpass\", \"200\"],\n",
    "                ])\n",
    "            waveform, rate = torchaudio.sox_effects.apply_effects_file(path, effects=effects)\n",
    "            if waveform.shape[1] < config.rate*self.min_length:\n",
    "                left_pad_amt = int((config.rate*min_length-waveform.shape[1])//2)\n",
    "                left_pad = torch.zeros(1,left_pad_amt) #+ (0.1**0.5)*torch.randn(1, left_pad_amt)\n",
    "                right_pad_amt = int(config.rate*min_length-waveform.shape[1]-left_pad_amt)\n",
    "                right_pad = torch.zeros(1,right_pad_amt)# + (0.1**0.5)*torch.randn(1, right_pad_amt)\n",
    "                f = torch.cat([left_pad,waveform,right_pad],dim=1)[0]\n",
    "                f = ((0.0001**0.5)*torch.randn(1, int(config.rate*min_length))+f)[0]\n",
    "#                 r = math.ceil((config.rate*self.min_length)/waveform.shape[1])\n",
    "#                 f = torch.cat([waveform for _ in range(r)],dim=1)[:,:int(config.rate*self.min_length)][0]\n",
    "            else:    \n",
    "                f = waveform[0]\n",
    "            mu = torch.std_mean(f)[1]\n",
    "            st = torch.std_mean(f)[0]\n",
    "            #return waveform, rate, waveform\n",
    "            f_out = torch.clamp(f, min=mu-st*3, max=mu+st*3).unsqueeze(0)\n",
    "            f_out = f.unsqueeze(0)\n",
    "            if self.cache is not None:\n",
    "                self.cache[path] = f_out\n",
    "        return f_out, rate\n",
    "\n",
    "    def __getitem__(self, idx):\n",
    "        real_idx = idx % len(self.audio_df)\n",
    "        x, _ = self._get_sample_(os.path.join(self.data_dir,f\"{self.audio_df.loc[real_idx]['id']}.wav\"), resample=config.rate)\n",
    "        \n",
    "        \n",
    "        \n",
    "        offset = self.audio_df.loc[real_idx]['offset']\n",
    "        return x[:,offset:int(offset+config.rate*self.min_length)], torch.tensor(1) if self.audio_df.loc[real_idx]['sound_type'] == 'mosquito' else torch.tensor(0), idx\n",
    "    \n",
    "    "
   ]
  },
  {
   "cell_type": "code",
   "execution_count": 21,
   "id": "59ab2585",
   "metadata": {},
   "outputs": [],
   "source": [
    "# initialize empty cache\n",
    "# it would be great if this was something cooler than a dictionary\n",
    "audio_cache={}"
   ]
  },
  {
   "cell_type": "code",
   "execution_count": 22,
   "id": "a2226f77",
   "metadata": {},
   "outputs": [],
   "source": [
    "config_pytorch.batch_size = 128\n",
    "config_pytorch.epochs = 30"
   ]
  },
  {
   "cell_type": "code",
   "execution_count": 23,
   "id": "2475dfa5",
   "metadata": {},
   "outputs": [],
   "source": [
    "valid_size = 0.2\n",
    "shuffle = True\n",
    "random_seed = 42\n",
    "min_length = (config.win_size * config.n_hop) / config.rate\n",
    "# needed for cache\n",
    "\n",
    "num_workers=0\n",
    "pin_memory=True\n",
    "\n",
    "num_train = len(audio_df_train)\n",
    "indices = list(range(num_train))\n",
    "split = int(np.floor(valid_size * num_train))\n",
    "\n",
    "if shuffle:\n",
    "    np.random.seed(random_seed)\n",
    "    np.random.shuffle(indices)\n",
    "\n",
    "train_idx, valid_idx = indices[split:], indices[:split]\n",
    "train_sampler = SubsetRandomSampler(train_idx)\n",
    "valid_sampler = SubsetRandomSampler(valid_idx)\n",
    "\n",
    "train_dataset = MozTrainDataset(audio_df_train, df_noise, config.data_dir, min_length, audio_cache)\n",
    "\n",
    "val_dataset = MozTrainDataset(audio_df_train, df_noise, config.data_dir, min_length, audio_cache)\n",
    "\n",
    "train_loader = torch.utils.data.DataLoader(\n",
    "        train_dataset, batch_size=config_pytorch.batch_size, sampler=train_sampler,\n",
    "        num_workers=num_workers, pin_memory=pin_memory,\n",
    "    )\n",
    "\n",
    "val_loader = torch.utils.data.DataLoader(\n",
    "        val_dataset, batch_size=config_pytorch.batch_size, sampler=valid_sampler,\n",
    "        num_workers=num_workers, pin_memory=pin_memory,\n",
    "    )"
   ]
  },
  {
   "cell_type": "code",
   "execution_count": 24,
   "id": "9c20d08c",
   "metadata": {},
   "outputs": [],
   "source": [
    "class Normalization():\n",
    "    \"\"\"This class is for normalizing the spectrograms batch by batch. The normalization used is min-max, two modes 'framewise' and 'imagewise' can be selected. In this paper, we found that 'imagewise' normalization works better than 'framewise'\"\"\"\n",
    "    def __init__(self, mode='framewise'):\n",
    "        if mode == 'framewise':\n",
    "            def normalize(x):\n",
    "                size = x.shape\n",
    "                x_max = x.max(1, keepdim=True)[0] # Finding max values for each frame\n",
    "                x_min = x.min(1, keepdim=True)[0]  \n",
    "                output = (x-x_min)/(x_max-x_min) # If there is a column with all zero, nan will occur\n",
    "                output[torch.isnan(output)]=0 # Making nan to 0\n",
    "                return output\n",
    "        elif mode == 'imagewise':\n",
    "            def normalize(x):\n",
    "                size = x.shape\n",
    "                x_max = x.reshape(size[0], size[1]*size[2]).max(1, keepdim=True)[0]\n",
    "                x_min = x.reshape(size[0], size[1]*size[2]).min(1, keepdim=True)[0]\n",
    "                x_max = x_max.unsqueeze(1) # Make it broadcastable\n",
    "                x_min = x_min.unsqueeze(1) # Make it broadcastable \n",
    "                return (x-x_min)/(x_max-x_min)\n",
    "        else:\n",
    "            print(f'please choose the correct mode')\n",
    "        self.normalize = normalize\n",
    "\n",
    "    def __call__(self, x):\n",
    "        return self.normalize(x)"
   ]
  },
  {
   "cell_type": "code",
   "execution_count": 25,
   "id": "2d943581",
   "metadata": {},
   "outputs": [],
   "source": [
    "def pcen(x, eps=1e-6, s=0.025, alpha=0.98, delta=2, r=0.5, training=False):\n",
    "    frames = x.split(1, -2)\n",
    "    m_frames = []\n",
    "    last_state = None\n",
    "    for frame in frames:\n",
    "        if last_state is None:\n",
    "            last_state = s * frame\n",
    "            m_frames.append(last_state)\n",
    "            continue\n",
    "        if training:\n",
    "            m_frame = ((1 - s) * last_state).add_(s * frame)\n",
    "        else:\n",
    "            m_frame = (1 - s) * last_state + s * frame\n",
    "        last_state = m_frame\n",
    "        m_frames.append(m_frame)\n",
    "    M = torch.cat(m_frames, 1)\n",
    "    if training:\n",
    "        pcen_ = (x / (M + eps).pow(alpha) + delta).pow(r) - delta ** r\n",
    "    else:\n",
    "        pcen_ = x.div_(M.add_(eps).pow_(alpha)).add_(delta).pow_(r).sub_(delta ** r)\n",
    "    return pcen_\n",
    "\n",
    "\n",
    "class PCENTransform(nn.Module):\n",
    "\n",
    "    def __init__(self, eps=1e-6, s=0.025, alpha=0.98, delta=2, r=0.5, trainable=True):\n",
    "        super().__init__()\n",
    "        if trainable:\n",
    "            self.log_s = nn.Parameter(torch.log(torch.Tensor([s])))\n",
    "            self.log_alpha = nn.Parameter(torch.log(torch.Tensor([alpha])))\n",
    "            self.log_delta = nn.Parameter(torch.log(torch.Tensor([delta])))\n",
    "            self.log_r = nn.Parameter(torch.log(torch.Tensor([r])))\n",
    "        else:\n",
    "            self.s = s\n",
    "            self.alpha = alpha\n",
    "            self.delta = delta\n",
    "            self.r = r\n",
    "        self.eps = eps\n",
    "        self.trainable = trainable\n",
    "\n",
    "    def forward(self, x):\n",
    "#         x = x.permute((0,2,1)).squeeze(dim=1)\n",
    "        if self.trainable:\n",
    "            x = pcen(x, self.eps, torch.exp(self.log_s), torch.exp(self.log_alpha), torch.exp(self.log_delta), torch.exp(self.log_r), self.training and self.trainable)\n",
    "        else:\n",
    "            x = pcen(x, self.eps, self.s, self.alpha, self.delta, self.r, self.training and self.trainable)\n",
    "#         x = x.unsqueeze(dim=1).permute((0,1,3,2))\n",
    "        return x"
   ]
  },
  {
   "cell_type": "code",
   "execution_count": 26,
   "id": "f115b1cd",
   "metadata": {},
   "outputs": [],
   "source": [
    "# Subclass the pretrained model and make it a binary classification\n",
    "\n",
    "class Model(nn.Module):\n",
    "    def __init__(self, model_name, image_size):\n",
    "        super().__init__()\n",
    "        # num_classes=0 removes the pretrained head\n",
    "        self.backbone = timm.create_model(model_name,\n",
    "                        pretrained=True, num_classes=2, in_chans=1, \n",
    "                        drop_path_rate=0.1, global_pool='avgmax',\n",
    "                        drop_rate=0.1)\n",
    "        #####  This section is model specific\n",
    "        #### It freezes some fo the layers by name\n",
    "        #### you'll have to inspect the model to see the names\n",
    "        for name, param in self.backbone.named_parameters():\n",
    "            if param.requires_grad and 'head' not in name \\\n",
    "                and not name.startswith('norm') \\\n",
    "                and 'stages.3' not in name and 'layers.3' not in name \\\n",
    "                and 'blocks.26' not in name and 'blocks.26' not in name \\\n",
    "                and 'blocks.24' not in name and 'blocks.25' not in name \\\n",
    "                and 'blocks.22' not in name and 'blocks.23' not in name \\\n",
    "                and 'blocks.20' not in name and 'blocks.21' not in name \\\n",
    "                and 'blocks.22' not in name and 'blocks.23' not in name \\\n",
    "                and 'blocks.19' not in name and 'blocks.18' not in name \\\n",
    "                and 'blocks.17' not in name and 'blocks.5.' not in name:\n",
    "                param.requires_grad = False\n",
    "        #### end layer freezing\n",
    "        self.spec_layer = features.STFT(n_fft=config.NFFT, freq_bins=None, hop_length=config.n_hop,\n",
    "                              window='hann', freq_scale='log2', center=True, pad_mode='reflect',\n",
    "                          fmin=300, fmax=3000, sr=config.rate, output_format=\"Magnitude\", trainable=True)\n",
    "#         self.spec_layer = features.MelSpectrogram(n_fft=config.NFFT, n_mels=128, hop_length=config.n_hop,\n",
    "#                                 window='hann',  center=True, pad_mode='reflect',\n",
    "#                           sr=config.rate,  trainable_mel=True, trainable_STFT=True)\n",
    "#         self.out = nn.Linear(self.backbone.num_features, 1)\n",
    "        self.sizer = VT.Resize((image_size,image_size))\n",
    "        self.timeMasking = T.TimeMasking(time_mask_param=30, iid_masks=True)\n",
    "        self.freqMasking = T.FrequencyMasking(freq_mask_param=20, iid_masks=True)\n",
    "        self.norm_layer = Normalization(mode='framewise')\n",
    "        self.pcen_layer = PCENTransform(eps=1e-6, s=0.025, alpha=0.6, delta=0.1, r=0.2, trainable=True)\n",
    "        \n",
    "    def forward(self, x):\n",
    "        # first compute spectrogram\n",
    "        spec = self.spec_layer(x)  # (B, F, T)\n",
    "        # normalize\n",
    "#         spec = spec.transpose(1,2) # (B, T, F)\n",
    "        spec = self.pcen_layer(spec)\n",
    "        spec = self.norm_layer(spec)\n",
    "        \n",
    "#         if self.training:\n",
    "#             spec = self.timeMasking(spec)\n",
    "#             spec = self.freqMasking(spec)\n",
    "\n",
    "        # then size for CNN model\n",
    "        # and create a channel\n",
    "        spec = self.sizer(spec)\n",
    "        x = spec.unsqueeze(1)\n",
    "        # then repeat channels\n",
    "        pred = self.backbone(x)\n",
    "        \n",
    "#        pred = self.out(x)\n",
    "        \n",
    "        output = {\"prediction\": pred,\n",
    "                  \"spectrogram\": spec}\n",
    "        return output"
   ]
  },
  {
   "cell_type": "code",
   "execution_count": 27,
   "id": "4d586fe0",
   "metadata": {},
   "outputs": [
    {
     "name": "stdout",
     "output_type": "stream",
     "text": [
      "sampling rate = 8000. Please make sure the sampling rate is correct in order toget a valid freq range\n",
      "STFT kernels created, time used = 0.0812 seconds\n"
     ]
    }
   ],
   "source": [
    "model = Model('convnext_small',224)"
   ]
  },
  {
   "cell_type": "code",
   "execution_count": 28,
   "id": "bc0a0309",
   "metadata": {},
   "outputs": [
    {
     "name": "stdout",
     "output_type": "stream",
     "text": [
      "Training on cuda:0\n"
     ]
    },
    {
     "data": {
      "application/vnd.jupyter.widget-view+json": {
       "model_id": "911bacc8694e42aebbcc7eb941586c55",
       "version_major": 2,
       "version_minor": 0
      },
      "text/plain": [
       "  0%|          | 0/1842 [00:00<?, ?it/s]"
      ]
     },
     "metadata": {},
     "output_type": "display_data"
    },
    {
     "data": {
      "application/vnd.jupyter.widget-view+json": {
       "model_id": "84782f9754f3404e81df656254089046",
       "version_major": 2,
       "version_minor": 0
      },
      "text/plain": [
       "validation:   0%|          | 0/461 [00:00<?, ?it/s]"
      ]
     },
     "metadata": {},
     "output_type": "display_data"
    },
    {
     "name": "stdout",
     "output_type": "stream",
     "text": [
      "Saving model to: ../outputs/models/pytorch/model_e0_2022_08_20_06_08_07.pth\n",
      "Epoch: 0, Train Loss: 0.26790103, Train Acc: 0.96239036, Val Loss: 0.00053724, Val Acc: 0.97444859, overrun_counter 0\n"
     ]
    },
    {
     "data": {
      "application/vnd.jupyter.widget-view+json": {
       "model_id": "d7fccf81e3874f5a98640e07e03e7276",
       "version_major": 2,
       "version_minor": 0
      },
      "text/plain": [
       "  0%|          | 0/1842 [00:00<?, ?it/s]"
      ]
     },
     "metadata": {},
     "output_type": "display_data"
    },
    {
     "data": {
      "application/vnd.jupyter.widget-view+json": {
       "model_id": "ef91dff2dd134a7fbc6f2d524d1243e3",
       "version_major": 2,
       "version_minor": 0
      },
      "text/plain": [
       "validation:   0%|          | 0/461 [00:00<?, ?it/s]"
      ]
     },
     "metadata": {},
     "output_type": "display_data"
    },
    {
     "name": "stdout",
     "output_type": "stream",
     "text": [
      "Saving model to: ../outputs/models/pytorch/model_e1_2022_08_20_06_44_01.pth\n",
      "Epoch: 1, Train Loss: 0.24985804, Train Acc: 0.97318081, Val Loss: 0.00052448, Val Acc: 0.97753648, overrun_counter 0\n"
     ]
    },
    {
     "data": {
      "application/vnd.jupyter.widget-view+json": {
       "model_id": "3d4b19e6cbe64f89862afedbe6b1aebc",
       "version_major": 2,
       "version_minor": 0
      },
      "text/plain": [
       "  0%|          | 0/1842 [00:00<?, ?it/s]"
      ]
     },
     "metadata": {},
     "output_type": "display_data"
    },
    {
     "data": {
      "application/vnd.jupyter.widget-view+json": {
       "model_id": "67a577a5a65e4629a0cac7b428fed92e",
       "version_major": 2,
       "version_minor": 0
      },
      "text/plain": [
       "validation:   0%|          | 0/461 [00:00<?, ?it/s]"
      ]
     },
     "metadata": {},
     "output_type": "display_data"
    },
    {
     "name": "stdout",
     "output_type": "stream",
     "text": [
      "Saving model to: ../outputs/models/pytorch/model_e2_2022_08_20_07_19_55.pth\n",
      "Epoch: 2, Train Loss: 0.24014844, Train Acc: 0.97829185, Val Loss: 0.00051124, Val Acc: 0.98048863, overrun_counter 0\n"
     ]
    },
    {
     "data": {
      "application/vnd.jupyter.widget-view+json": {
       "model_id": "25cd4fd3b14a425a9d140bc3a8cb8e0b",
       "version_major": 2,
       "version_minor": 0
      },
      "text/plain": [
       "  0%|          | 0/1842 [00:00<?, ?it/s]"
      ]
     },
     "metadata": {},
     "output_type": "display_data"
    },
    {
     "data": {
      "application/vnd.jupyter.widget-view+json": {
       "model_id": "9bb075512f554fa182d5979810308e2b",
       "version_major": 2,
       "version_minor": 0
      },
      "text/plain": [
       "validation:   0%|          | 0/461 [00:00<?, ?it/s]"
      ]
     },
     "metadata": {},
     "output_type": "display_data"
    },
    {
     "name": "stdout",
     "output_type": "stream",
     "text": [
      "Saving model to: ../outputs/models/pytorch/model_e3_2022_08_20_07_55_48.pth\n",
      "Epoch: 3, Train Loss: 0.23485028, Train Acc: 0.98089191, Val Loss: 0.00050321, Val Acc: 0.98293180, overrun_counter 0\n"
     ]
    },
    {
     "data": {
      "application/vnd.jupyter.widget-view+json": {
       "model_id": "44a1b66b71244cd3bf9fb93bcddf5baf",
       "version_major": 2,
       "version_minor": 0
      },
      "text/plain": [
       "  0%|          | 0/1842 [00:00<?, ?it/s]"
      ]
     },
     "metadata": {},
     "output_type": "display_data"
    },
    {
     "data": {
      "application/vnd.jupyter.widget-view+json": {
       "model_id": "4656c22bf24b4ebfa8eab77613d98a8c",
       "version_major": 2,
       "version_minor": 0
      },
      "text/plain": [
       "validation:   0%|          | 0/461 [00:00<?, ?it/s]"
      ]
     },
     "metadata": {},
     "output_type": "display_data"
    },
    {
     "name": "stdout",
     "output_type": "stream",
     "text": [
      "Saving model to: ../outputs/models/pytorch/model_e4_2022_08_20_08_31_42.pth\n",
      "Epoch: 4, Train Loss: 0.22991189, Train Acc: 0.98356831, Val Loss: 0.00049511, Val Acc: 0.98432304, overrun_counter 0\n"
     ]
    },
    {
     "data": {
      "application/vnd.jupyter.widget-view+json": {
       "model_id": "57361fcf374944959b9a954c36154a32",
       "version_major": 2,
       "version_minor": 0
      },
      "text/plain": [
       "  0%|          | 0/1842 [00:00<?, ?it/s]"
      ]
     },
     "metadata": {},
     "output_type": "display_data"
    },
    {
     "data": {
      "application/vnd.jupyter.widget-view+json": {
       "model_id": "8ebbbc05c26d44c8aec6b37d6f2dedac",
       "version_major": 2,
       "version_minor": 0
      },
      "text/plain": [
       "validation:   0%|          | 0/461 [00:00<?, ?it/s]"
      ]
     },
     "metadata": {},
     "output_type": "display_data"
    },
    {
     "name": "stdout",
     "output_type": "stream",
     "text": [
      "Saving model to: ../outputs/models/pytorch/model_e5_2022_08_20_09_07_37.pth\n",
      "Epoch: 5, Train Loss: 0.22610931, Train Acc: 0.98554063, Val Loss: 0.00049309, Val Acc: 0.98505260, overrun_counter 0\n"
     ]
    },
    {
     "data": {
      "application/vnd.jupyter.widget-view+json": {
       "model_id": "7cd42a43dce6416c95b502db21cbdcfd",
       "version_major": 2,
       "version_minor": 0
      },
      "text/plain": [
       "  0%|          | 0/1842 [00:00<?, ?it/s]"
      ]
     },
     "metadata": {},
     "output_type": "display_data"
    },
    {
     "data": {
      "application/vnd.jupyter.widget-view+json": {
       "model_id": "5c629b2c6dc742b78bc97cfe62babb0c",
       "version_major": 2,
       "version_minor": 0
      },
      "text/plain": [
       "validation:   0%|          | 0/461 [00:00<?, ?it/s]"
      ]
     },
     "metadata": {},
     "output_type": "display_data"
    },
    {
     "name": "stdout",
     "output_type": "stream",
     "text": [
      "Epoch: 6, Train Loss: 0.22408200, Train Acc: 0.98662222, Val Loss: 0.00049893, Val Acc: 0.98379708, overrun_counter 1\n"
     ]
    },
    {
     "data": {
      "application/vnd.jupyter.widget-view+json": {
       "model_id": "03bf39a9d8dd44019a3f701aa82a5210",
       "version_major": 2,
       "version_minor": 0
      },
      "text/plain": [
       "  0%|          | 0/1842 [00:00<?, ?it/s]"
      ]
     },
     "metadata": {},
     "output_type": "display_data"
    },
    {
     "data": {
      "application/vnd.jupyter.widget-view+json": {
       "model_id": "79772e8352cb412c9e1cd62a47c6ca3d",
       "version_major": 2,
       "version_minor": 0
      },
      "text/plain": [
       "validation:   0%|          | 0/461 [00:00<?, ?it/s]"
      ]
     },
     "metadata": {},
     "output_type": "display_data"
    },
    {
     "name": "stdout",
     "output_type": "stream",
     "text": [
      "Saving model to: ../outputs/models/pytorch/model_e7_2022_08_20_10_19_22.pth\n",
      "Epoch: 7, Train Loss: 0.22159005, Train Acc: 0.98781409, Val Loss: 0.00049020, Val Acc: 0.98613845, overrun_counter 0\n"
     ]
    },
    {
     "data": {
      "application/vnd.jupyter.widget-view+json": {
       "model_id": "494d71aadda6411fb7e5d36ddd10a840",
       "version_major": 2,
       "version_minor": 0
      },
      "text/plain": [
       "  0%|          | 0/1842 [00:00<?, ?it/s]"
      ]
     },
     "metadata": {},
     "output_type": "display_data"
    },
    {
     "data": {
      "application/vnd.jupyter.widget-view+json": {
       "model_id": "0c218cef2b0b40d08c358a0a1b85f494",
       "version_major": 2,
       "version_minor": 0
      },
      "text/plain": [
       "validation:   0%|          | 0/461 [00:00<?, ?it/s]"
      ]
     },
     "metadata": {},
     "output_type": "display_data"
    },
    {
     "name": "stdout",
     "output_type": "stream",
     "text": [
      "Epoch: 8, Train Loss: 0.21961545, Train Acc: 0.98899323, Val Loss: 0.00048788, Val Acc: 0.98612148, overrun_counter 1\n"
     ]
    },
    {
     "data": {
      "application/vnd.jupyter.widget-view+json": {
       "model_id": "46ebb78cde6d4b5198c673bcfb25a306",
       "version_major": 2,
       "version_minor": 0
      },
      "text/plain": [
       "  0%|          | 0/1842 [00:00<?, ?it/s]"
      ]
     },
     "metadata": {},
     "output_type": "display_data"
    },
    {
     "data": {
      "application/vnd.jupyter.widget-view+json": {
       "model_id": "d7ad6bbc3d05416297681c0ba67f01ae",
       "version_major": 2,
       "version_minor": 0
      },
      "text/plain": [
       "validation:   0%|          | 0/461 [00:00<?, ?it/s]"
      ]
     },
     "metadata": {},
     "output_type": "display_data"
    },
    {
     "name": "stdout",
     "output_type": "stream",
     "text": [
      "Saving model to: ../outputs/models/pytorch/model_e9_2022_08_20_11_31_14.pth\n",
      "Epoch: 9, Train Loss: 0.21833598, Train Acc: 0.98965067, Val Loss: 0.00047921, Val Acc: 0.98814048, overrun_counter 0\n"
     ]
    },
    {
     "data": {
      "application/vnd.jupyter.widget-view+json": {
       "model_id": "9254c5f086e84f4c8d62afbf9e5f7ae8",
       "version_major": 2,
       "version_minor": 0
      },
      "text/plain": [
       "  0%|          | 0/1842 [00:00<?, ?it/s]"
      ]
     },
     "metadata": {},
     "output_type": "display_data"
    },
    {
     "data": {
      "application/vnd.jupyter.widget-view+json": {
       "model_id": "cb6d50bad6a04b20af2496a04b1e539a",
       "version_major": 2,
       "version_minor": 0
      },
      "text/plain": [
       "validation:   0%|          | 0/461 [00:00<?, ?it/s]"
      ]
     },
     "metadata": {},
     "output_type": "display_data"
    },
    {
     "name": "stdout",
     "output_type": "stream",
     "text": [
      "Saving model to: ../outputs/models/pytorch/model_e10_2022_08_20_12_07_10.pth\n",
      "Epoch: 10, Train Loss: 0.21755335, Train Acc: 0.99000696, Val Loss: 0.00047479, Val Acc: 0.98919240, overrun_counter 0\n"
     ]
    },
    {
     "data": {
      "application/vnd.jupyter.widget-view+json": {
       "model_id": "ebda8b31b6fa442784b45215911bcb6e",
       "version_major": 2,
       "version_minor": 0
      },
      "text/plain": [
       "  0%|          | 0/1842 [00:00<?, ?it/s]"
      ]
     },
     "metadata": {},
     "output_type": "display_data"
    },
    {
     "data": {
      "application/vnd.jupyter.widget-view+json": {
       "model_id": "7e73a2fd1dd0483f9588ccfbaa9f1673",
       "version_major": 2,
       "version_minor": 0
      },
      "text/plain": [
       "validation:   0%|          | 0/461 [00:00<?, ?it/s]"
      ]
     },
     "metadata": {},
     "output_type": "display_data"
    },
    {
     "name": "stdout",
     "output_type": "stream",
     "text": [
      "Saving model to: ../outputs/models/pytorch/model_e11_2022_08_20_12_43_04.pth\n",
      "Epoch: 11, Train Loss: 0.21552598, Train Acc: 0.99109279, Val Loss: 0.00047444, Val Acc: 0.98942993, overrun_counter 0\n"
     ]
    },
    {
     "data": {
      "application/vnd.jupyter.widget-view+json": {
       "model_id": "5b7889bedcaf451aad0e4ae85d717e18",
       "version_major": 2,
       "version_minor": 0
      },
      "text/plain": [
       "  0%|          | 0/1842 [00:00<?, ?it/s]"
      ]
     },
     "metadata": {},
     "output_type": "display_data"
    },
    {
     "data": {
      "application/vnd.jupyter.widget-view+json": {
       "model_id": "f04c4aa1b19d41bea1da4f275da4086f",
       "version_major": 2,
       "version_minor": 0
      },
      "text/plain": [
       "validation:   0%|          | 0/461 [00:00<?, ?it/s]"
      ]
     },
     "metadata": {},
     "output_type": "display_data"
    },
    {
     "name": "stdout",
     "output_type": "stream",
     "text": [
      "Saving model to: ../outputs/models/pytorch/model_e12_2022_08_20_13_18_59.pth\n",
      "Epoch: 12, Train Loss: 0.21443454, Train Acc: 0.99157208, Val Loss: 0.00047037, Val Acc: 0.99022735, overrun_counter 0\n"
     ]
    },
    {
     "data": {
      "application/vnd.jupyter.widget-view+json": {
       "model_id": "9644f8bd73cb4b42b72b9df377e833aa",
       "version_major": 2,
       "version_minor": 0
      },
      "text/plain": [
       "  0%|          | 0/1842 [00:00<?, ?it/s]"
      ]
     },
     "metadata": {},
     "output_type": "display_data"
    },
    {
     "data": {
      "application/vnd.jupyter.widget-view+json": {
       "model_id": "116d403190684fb4af59c53bf644eb7d",
       "version_major": 2,
       "version_minor": 0
      },
      "text/plain": [
       "validation:   0%|          | 0/461 [00:00<?, ?it/s]"
      ]
     },
     "metadata": {},
     "output_type": "display_data"
    },
    {
     "name": "stdout",
     "output_type": "stream",
     "text": [
      "Saving model to: ../outputs/models/pytorch/model_e13_2022_08_20_13_54_53.pth\n",
      "Epoch: 13, Train Loss: 0.21364110, Train Acc: 0.99186050, Val Loss: 0.00046779, Val Acc: 0.99083814, overrun_counter 0\n"
     ]
    },
    {
     "data": {
      "application/vnd.jupyter.widget-view+json": {
       "model_id": "c50401c6d7344fbc912646ebd5cc165f",
       "version_major": 2,
       "version_minor": 0
      },
      "text/plain": [
       "  0%|          | 0/1842 [00:00<?, ?it/s]"
      ]
     },
     "metadata": {},
     "output_type": "display_data"
    },
    {
     "data": {
      "application/vnd.jupyter.widget-view+json": {
       "model_id": "af4bf20d9628427b84688b4ded068433",
       "version_major": 2,
       "version_minor": 0
      },
      "text/plain": [
       "validation:   0%|          | 0/461 [00:00<?, ?it/s]"
      ]
     },
     "metadata": {},
     "output_type": "display_data"
    },
    {
     "name": "stdout",
     "output_type": "stream",
     "text": [
      "Saving model to: ../outputs/models/pytorch/model_e14_2022_08_20_14_30_49.pth\n",
      "Epoch: 14, Train Loss: 0.21262617, Train Acc: 0.99253491, Val Loss: 0.00046690, Val Acc: 0.99143196, overrun_counter 0\n"
     ]
    },
    {
     "data": {
      "application/vnd.jupyter.widget-view+json": {
       "model_id": "6822b7a4606a43fb81e8ba1775e53c30",
       "version_major": 2,
       "version_minor": 0
      },
      "text/plain": [
       "  0%|          | 0/1842 [00:00<?, ?it/s]"
      ]
     },
     "metadata": {},
     "output_type": "display_data"
    },
    {
     "data": {
      "application/vnd.jupyter.widget-view+json": {
       "model_id": "3d90a7f40aff4a95b5ec70e6309e8d95",
       "version_major": 2,
       "version_minor": 0
      },
      "text/plain": [
       "validation:   0%|          | 0/461 [00:00<?, ?it/s]"
      ]
     },
     "metadata": {},
     "output_type": "display_data"
    },
    {
     "name": "stdout",
     "output_type": "stream",
     "text": [
      "Saving model to: ../outputs/models/pytorch/model_e15_2022_08_20_15_06_45.pth\n",
      "Epoch: 15, Train Loss: 0.21196376, Train Acc: 0.99286575, Val Loss: 0.00046357, Val Acc: 0.99244995, overrun_counter 0\n"
     ]
    },
    {
     "data": {
      "application/vnd.jupyter.widget-view+json": {
       "model_id": "ba82b799e4b4489db8317f543b24f2aa",
       "version_major": 2,
       "version_minor": 0
      },
      "text/plain": [
       "  0%|          | 0/1842 [00:00<?, ?it/s]"
      ]
     },
     "metadata": {},
     "output_type": "display_data"
    },
    {
     "data": {
      "application/vnd.jupyter.widget-view+json": {
       "model_id": "1be2cfda80ad4c2d881f3e956aa1ef52",
       "version_major": 2,
       "version_minor": 0
      },
      "text/plain": [
       "validation:   0%|          | 0/461 [00:00<?, ?it/s]"
      ]
     },
     "metadata": {},
     "output_type": "display_data"
    },
    {
     "name": "stdout",
     "output_type": "stream",
     "text": [
      "Epoch: 16, Train Loss: 0.21119246, Train Acc: 0.99332383, Val Loss: 0.00046564, Val Acc: 0.99138107, overrun_counter 1\n"
     ]
    },
    {
     "data": {
      "application/vnd.jupyter.widget-view+json": {
       "model_id": "3d3920f436ca4c3585f161d1760a44c5",
       "version_major": 2,
       "version_minor": 0
      },
      "text/plain": [
       "  0%|          | 0/1842 [00:00<?, ?it/s]"
      ]
     },
     "metadata": {},
     "output_type": "display_data"
    },
    {
     "data": {
      "application/vnd.jupyter.widget-view+json": {
       "model_id": "9ad3c3e72fc54f81b2fb7fdf6e52db88",
       "version_major": 2,
       "version_minor": 0
      },
      "text/plain": [
       "validation:   0%|          | 0/461 [00:00<?, ?it/s]"
      ]
     },
     "metadata": {},
     "output_type": "display_data"
    },
    {
     "name": "stdout",
     "output_type": "stream",
     "text": [
      "Epoch: 17, Train Loss: 0.21030465, Train Acc: 0.99375647, Val Loss: 0.00046396, Val Acc: 0.99197489, overrun_counter 2\n"
     ]
    },
    {
     "data": {
      "application/vnd.jupyter.widget-view+json": {
       "model_id": "b0a47567d94740aa8e57006aa58de398",
       "version_major": 2,
       "version_minor": 0
      },
      "text/plain": [
       "  0%|          | 0/1842 [00:00<?, ?it/s]"
      ]
     },
     "metadata": {},
     "output_type": "display_data"
    },
    {
     "data": {
      "application/vnd.jupyter.widget-view+json": {
       "model_id": "ccf04f4cec43460e9710c7b2eca480b9",
       "version_major": 2,
       "version_minor": 0
      },
      "text/plain": [
       "validation:   0%|          | 0/461 [00:00<?, ?it/s]"
      ]
     },
     "metadata": {},
     "output_type": "display_data"
    },
    {
     "name": "stdout",
     "output_type": "stream",
     "text": [
      "Saving model to: ../outputs/models/pytorch/model_e18_2022_08_20_16_54_26.pth\n",
      "Epoch: 18, Train Loss: 0.20936972, Train Acc: 0.99436301, Val Loss: 0.00046088, Val Acc: 0.99307771, overrun_counter 0\n"
     ]
    },
    {
     "data": {
      "application/vnd.jupyter.widget-view+json": {
       "model_id": "70026a04439a4b9b84fdf59ee3fba93a",
       "version_major": 2,
       "version_minor": 0
      },
      "text/plain": [
       "  0%|          | 0/1842 [00:00<?, ?it/s]"
      ]
     },
     "metadata": {},
     "output_type": "display_data"
    },
    {
     "data": {
      "application/vnd.jupyter.widget-view+json": {
       "model_id": "950751cb93e34705b2ec28d55a850b9a",
       "version_major": 2,
       "version_minor": 0
      },
      "text/plain": [
       "validation:   0%|          | 0/461 [00:00<?, ?it/s]"
      ]
     },
     "metadata": {},
     "output_type": "display_data"
    },
    {
     "name": "stdout",
     "output_type": "stream",
     "text": [
      "Saving model to: ../outputs/models/pytorch/model_e19_2022_08_20_17_30_22.pth\n",
      "Epoch: 19, Train Loss: 0.20918615, Train Acc: 0.99441815, Val Loss: 0.00045877, Val Acc: 0.99323040, overrun_counter 0\n"
     ]
    },
    {
     "data": {
      "application/vnd.jupyter.widget-view+json": {
       "model_id": "734988de531c4ac3a466f69c4aeb03be",
       "version_major": 2,
       "version_minor": 0
      },
      "text/plain": [
       "  0%|          | 0/1842 [00:00<?, ?it/s]"
      ]
     },
     "metadata": {},
     "output_type": "display_data"
    },
    {
     "data": {
      "application/vnd.jupyter.widget-view+json": {
       "model_id": "7b93ba5a8c0b45dba25ffff0cdb1c02b",
       "version_major": 2,
       "version_minor": 0
      },
      "text/plain": [
       "validation:   0%|          | 0/461 [00:00<?, ?it/s]"
      ]
     },
     "metadata": {},
     "output_type": "display_data"
    },
    {
     "name": "stdout",
     "output_type": "stream",
     "text": [
      "Epoch: 20, Train Loss: 0.20835654, Train Acc: 0.99486775, Val Loss: 0.00046135, Val Acc: 0.99317950, overrun_counter 1\n"
     ]
    },
    {
     "data": {
      "application/vnd.jupyter.widget-view+json": {
       "model_id": "6571f3853e4648e9abd843f8ff77cb5a",
       "version_major": 2,
       "version_minor": 0
      },
      "text/plain": [
       "  0%|          | 0/1842 [00:00<?, ?it/s]"
      ]
     },
     "metadata": {},
     "output_type": "display_data"
    },
    {
     "data": {
      "application/vnd.jupyter.widget-view+json": {
       "model_id": "8c00188db4c646eab2708b5ae6cb8b14",
       "version_major": 2,
       "version_minor": 0
      },
      "text/plain": [
       "validation:   0%|          | 0/461 [00:00<?, ?it/s]"
      ]
     },
     "metadata": {},
     "output_type": "display_data"
    },
    {
     "name": "stdout",
     "output_type": "stream",
     "text": [
      "Saving model to: ../outputs/models/pytorch/model_e21_2022_08_20_18_42_14.pth\n",
      "Epoch: 21, Train Loss: 0.20765870, Train Acc: 0.99515617, Val Loss: 0.00045801, Val Acc: 0.99343400, overrun_counter 0\n"
     ]
    },
    {
     "data": {
      "application/vnd.jupyter.widget-view+json": {
       "model_id": "3f2eb96ad09f497db2ebbac42b7021a6",
       "version_major": 2,
       "version_minor": 0
      },
      "text/plain": [
       "  0%|          | 0/1842 [00:00<?, ?it/s]"
      ]
     },
     "metadata": {},
     "output_type": "display_data"
    },
    {
     "data": {
      "application/vnd.jupyter.widget-view+json": {
       "model_id": "126734bc3a334ea688b1fe277a79e9c1",
       "version_major": 2,
       "version_minor": 0
      },
      "text/plain": [
       "validation:   0%|          | 0/461 [00:00<?, ?it/s]"
      ]
     },
     "metadata": {},
     "output_type": "display_data"
    },
    {
     "name": "stdout",
     "output_type": "stream",
     "text": [
      "Saving model to: ../outputs/models/pytorch/model_e22_2022_08_20_19_18_09.pth\n",
      "Epoch: 22, Train Loss: 0.20721616, Train Acc: 0.99529614, Val Loss: 0.00045845, Val Acc: 0.99345097, overrun_counter 0\n"
     ]
    },
    {
     "data": {
      "application/vnd.jupyter.widget-view+json": {
       "model_id": "a1edb6bcde68468f8dfb1087f36058c5",
       "version_major": 2,
       "version_minor": 0
      },
      "text/plain": [
       "  0%|          | 0/1842 [00:00<?, ?it/s]"
      ]
     },
     "metadata": {},
     "output_type": "display_data"
    },
    {
     "data": {
      "application/vnd.jupyter.widget-view+json": {
       "model_id": "f2bba940918341b98af16b9f2698e155",
       "version_major": 2,
       "version_minor": 0
      },
      "text/plain": [
       "validation:   0%|          | 0/461 [00:00<?, ?it/s]"
      ]
     },
     "metadata": {},
     "output_type": "display_data"
    },
    {
     "name": "stdout",
     "output_type": "stream",
     "text": [
      "Saving model to: ../outputs/models/pytorch/model_e23_2022_08_20_19_54_06.pth\n",
      "Epoch: 23, Train Loss: 0.20687980, Train Acc: 0.99561426, Val Loss: 0.00045605, Val Acc: 0.99404479, overrun_counter 0\n"
     ]
    },
    {
     "data": {
      "application/vnd.jupyter.widget-view+json": {
       "model_id": "7a560fde249a42e380b29d5a09daa3a7",
       "version_major": 2,
       "version_minor": 0
      },
      "text/plain": [
       "  0%|          | 0/1842 [00:00<?, ?it/s]"
      ]
     },
     "metadata": {},
     "output_type": "display_data"
    },
    {
     "data": {
      "application/vnd.jupyter.widget-view+json": {
       "model_id": "c6045bcaadb741f4800b0c5e60d7e9b9",
       "version_major": 2,
       "version_minor": 0
      },
      "text/plain": [
       "validation:   0%|          | 0/461 [00:00<?, ?it/s]"
      ]
     },
     "metadata": {},
     "output_type": "display_data"
    },
    {
     "name": "stdout",
     "output_type": "stream",
     "text": [
      "Epoch: 24, Train Loss: 0.20679209, Train Acc: 0.99558457, Val Loss: 0.00045691, Val Acc: 0.99379030, overrun_counter 1\n"
     ]
    },
    {
     "data": {
      "application/vnd.jupyter.widget-view+json": {
       "model_id": "1e51fe7da0ab4b8fb878601b68fed603",
       "version_major": 2,
       "version_minor": 0
      },
      "text/plain": [
       "  0%|          | 0/1842 [00:00<?, ?it/s]"
      ]
     },
     "metadata": {},
     "output_type": "display_data"
    },
    {
     "data": {
      "application/vnd.jupyter.widget-view+json": {
       "model_id": "8d712c45fc7e45d7a669f117661b2d53",
       "version_major": 2,
       "version_minor": 0
      },
      "text/plain": [
       "validation:   0%|          | 0/461 [00:00<?, ?it/s]"
      ]
     },
     "metadata": {},
     "output_type": "display_data"
    },
    {
     "name": "stdout",
     "output_type": "stream",
     "text": [
      "Epoch: 25, Train Loss: 0.20625827, Train Acc: 0.99596631, Val Loss: 0.00045843, Val Acc: 0.99338310, overrun_counter 2\n"
     ]
    },
    {
     "data": {
      "application/vnd.jupyter.widget-view+json": {
       "model_id": "fad23426922d4c068bd1aadc63830a6c",
       "version_major": 2,
       "version_minor": 0
      },
      "text/plain": [
       "  0%|          | 0/1842 [00:00<?, ?it/s]"
      ]
     },
     "metadata": {},
     "output_type": "display_data"
    },
    {
     "data": {
      "application/vnd.jupyter.widget-view+json": {
       "model_id": "78c71b1990f7406c814257f7958d34c5",
       "version_major": 2,
       "version_minor": 0
      },
      "text/plain": [
       "validation:   0%|          | 0/461 [00:00<?, ?it/s]"
      ]
     },
     "metadata": {},
     "output_type": "display_data"
    },
    {
     "name": "stdout",
     "output_type": "stream",
     "text": [
      "Epoch: 26, Train Loss: 0.20636384, Train Acc: 0.99586027, Val Loss: 0.00045504, Val Acc: 0.99395996, overrun_counter 3\n"
     ]
    },
    {
     "data": {
      "application/vnd.jupyter.widget-view+json": {
       "model_id": "cdf8a01544af45f3a619fb2e5cdc8122",
       "version_major": 2,
       "version_minor": 0
      },
      "text/plain": [
       "  0%|          | 0/1842 [00:00<?, ?it/s]"
      ]
     },
     "metadata": {},
     "output_type": "display_data"
    },
    {
     "data": {
      "application/vnd.jupyter.widget-view+json": {
       "model_id": "7693175926154610a18fc88da75dc410",
       "version_major": 2,
       "version_minor": 0
      },
      "text/plain": [
       "validation:   0%|          | 0/461 [00:00<?, ?it/s]"
      ]
     },
     "metadata": {},
     "output_type": "display_data"
    },
    {
     "name": "stdout",
     "output_type": "stream",
     "text": [
      "Epoch: 27, Train Loss: 0.20594611, Train Acc: 0.99605114, Val Loss: 0.00045613, Val Acc: 0.99387513, overrun_counter 4\n"
     ]
    },
    {
     "data": {
      "application/vnd.jupyter.widget-view+json": {
       "model_id": "f2d698c70a034513b169c5da14d662bb",
       "version_major": 2,
       "version_minor": 0
      },
      "text/plain": [
       "  0%|          | 0/1842 [00:00<?, ?it/s]"
      ]
     },
     "metadata": {},
     "output_type": "display_data"
    },
    {
     "data": {
      "application/vnd.jupyter.widget-view+json": {
       "model_id": "f71109a6ce5b41768c9eb4ea2730a111",
       "version_major": 2,
       "version_minor": 0
      },
      "text/plain": [
       "validation:   0%|          | 0/461 [00:00<?, ?it/s]"
      ]
     },
     "metadata": {},
     "output_type": "display_data"
    },
    {
     "name": "stdout",
     "output_type": "stream",
     "text": [
      "Epoch: 28, Train Loss: 0.20621198, Train Acc: 0.99579240, Val Loss: 0.00045560, Val Acc: 0.99385816, overrun_counter 5\n"
     ]
    },
    {
     "data": {
      "application/vnd.jupyter.widget-view+json": {
       "model_id": "24cfae0c0ca14f599ac62945c8f5cc16",
       "version_major": 2,
       "version_minor": 0
      },
      "text/plain": [
       "  0%|          | 0/1842 [00:00<?, ?it/s]"
      ]
     },
     "metadata": {},
     "output_type": "display_data"
    },
    {
     "data": {
      "application/vnd.jupyter.widget-view+json": {
       "model_id": "e650537c39c943da83a4d5e1942449ac",
       "version_major": 2,
       "version_minor": 0
      },
      "text/plain": [
       "validation:   0%|          | 0/461 [00:00<?, ?it/s]"
      ]
     },
     "metadata": {},
     "output_type": "display_data"
    },
    {
     "name": "stdout",
     "output_type": "stream",
     "text": [
      "Saving model to: ../outputs/models/pytorch/model_e29_2022_08_20_23_29_33.pth\n",
      "Epoch: 29, Train Loss: 0.20584812, Train Acc: 0.99609779, Val Loss: 0.00045505, Val Acc: 0.99411266, overrun_counter 0\n"
     ]
    }
   ],
   "source": [
    "model, lr_log = train_model(train_loader, val_loader, model = model, n_channels = 1)"
   ]
  },
  {
   "cell_type": "code",
   "execution_count": 29,
   "id": "310d528e",
   "metadata": {},
   "outputs": [
    {
     "data": {
      "image/png": "[encoded data removed]",
      "text/plain": [
       "<Figure size 432x288 with 1 Axes>"
      ]
     },
     "metadata": {
      "needs_background": "light"
     },
     "output_type": "display_data"
    }
   ],
   "source": [
    "# learning rate schedule\n",
    "plt.plot([i for i in range(len(lr_log))], lr_log);"
   ]
  },
  {
   "cell_type": "code",
   "execution_count": 30,
   "id": "7634b3b6",
   "metadata": {},
   "outputs": [],
   "source": [
    "dataset_test_A = MozTestDataset(audio_df_test_A, config.data_dir, min_length, audio_cache)\n",
    "\n",
    "test_loader_A = torch.utils.data.DataLoader(\n",
    "        dataset_test_A, batch_size=config_pytorch.batch_size,\n",
    "        num_workers=num_workers, pin_memory=pin_memory,\n",
    "    )\n",
    "\n",
    "\n",
    "dataset_test_B = MozTestDataset(audio_df_test_B, config.data_dir, min_length, audio_cache)\n",
    "\n",
    "test_loader_B = torch.utils.data.DataLoader(\n",
    "        dataset_test_B, batch_size=config_pytorch.batch_size,\n",
    "        num_workers=num_workers, pin_memory=pin_memory,\n",
    "    )\n"
   ]
  },
  {
   "cell_type": "code",
   "execution_count": 31,
   "id": "829f68da",
   "metadata": {},
   "outputs": [
    {
     "name": "stdout",
     "output_type": "stream",
     "text": [
      "Training on cuda:0\n"
     ]
    },
    {
     "ename": "FileNotFoundError",
     "evalue": "[Errno 2] No such file or directory: '../outputs/models/pytorch/model_e19_2022_04_05_19_22_56.pth'",
     "output_type": "error",
     "traceback": [
      "\u001b[0;31m---------------------------------------------------------------------------\u001b[0m",
      "\u001b[0;31mFileNotFoundError\u001b[0m                         Traceback (most recent call last)",
      "\u001b[0;32m/tmp/ipykernel_87/3743934355.py\u001b[0m in \u001b[0;36m<module>\u001b[0;34m\u001b[0m\n\u001b[1;32m     28\u001b[0m \u001b[0;34m\u001b[0m\u001b[0m\n\u001b[1;32m     29\u001b[0m \u001b[0;34m\u001b[0m\u001b[0m\n\u001b[0;32m---> 30\u001b[0;31m \u001b[0mmodel\u001b[0m \u001b[0;34m=\u001b[0m \u001b[0mload_model\u001b[0m\u001b[0;34m(\u001b[0m\u001b[0mpath\u001b[0m \u001b[0;34m+\u001b[0m \u001b[0mmodel_name\u001b[0m\u001b[0;34m,\u001b[0m \u001b[0mmodel\u001b[0m\u001b[0;34m)\u001b[0m\u001b[0;34m\u001b[0m\u001b[0;34m\u001b[0m\u001b[0m\n\u001b[0m",
      "\u001b[0;32m/tmp/ipykernel_87/396599586.py\u001b[0m in \u001b[0;36mload_model\u001b[0;34m(filepath, model)\u001b[0m\n\u001b[1;32m     16\u001b[0m         \u001b[0mmap_location\u001b[0m\u001b[0;34m=\u001b[0m\u001b[0;34m'cpu'\u001b[0m\u001b[0;34m\u001b[0m\u001b[0;34m\u001b[0m\u001b[0m\n\u001b[1;32m     17\u001b[0m \u001b[0;34m\u001b[0m\u001b[0m\n\u001b[0;32m---> 18\u001b[0;31m     \u001b[0mcheckpoint\u001b[0m \u001b[0;34m=\u001b[0m \u001b[0mmodel\u001b[0m\u001b[0;34m.\u001b[0m\u001b[0mload_state_dict\u001b[0m\u001b[0;34m(\u001b[0m\u001b[0mtorch\u001b[0m\u001b[0;34m.\u001b[0m\u001b[0mload\u001b[0m\u001b[0;34m(\u001b[0m\u001b[0mfilepath\u001b[0m\u001b[0;34m)\u001b[0m\u001b[0;34m)\u001b[0m\u001b[0;34m\u001b[0m\u001b[0;34m\u001b[0m\u001b[0m\n\u001b[0m\u001b[1;32m     19\u001b[0m \u001b[0;34m\u001b[0m\u001b[0m\n\u001b[1;32m     20\u001b[0m     \u001b[0;32mreturn\u001b[0m \u001b[0mmodel\u001b[0m\u001b[0;34m\u001b[0m\u001b[0;34m\u001b[0m\u001b[0m\n",
      "\u001b[0;32m/opt/conda/lib/python3.8/site-packages/torch/serialization.py\u001b[0m in \u001b[0;36mload\u001b[0;34m(f, map_location, pickle_module, **pickle_load_args)\u001b[0m\n\u001b[1;32m    697\u001b[0m         \u001b[0mpickle_load_args\u001b[0m\u001b[0;34m[\u001b[0m\u001b[0;34m'encoding'\u001b[0m\u001b[0;34m]\u001b[0m \u001b[0;34m=\u001b[0m \u001b[0;34m'utf-8'\u001b[0m\u001b[0;34m\u001b[0m\u001b[0;34m\u001b[0m\u001b[0m\n\u001b[1;32m    698\u001b[0m \u001b[0;34m\u001b[0m\u001b[0m\n\u001b[0;32m--> 699\u001b[0;31m     \u001b[0;32mwith\u001b[0m \u001b[0m_open_file_like\u001b[0m\u001b[0;34m(\u001b[0m\u001b[0mf\u001b[0m\u001b[0;34m,\u001b[0m \u001b[0;34m'rb'\u001b[0m\u001b[0;34m)\u001b[0m \u001b[0;32mas\u001b[0m \u001b[0mopened_file\u001b[0m\u001b[0;34m:\u001b[0m\u001b[0;34m\u001b[0m\u001b[0;34m\u001b[0m\u001b[0m\n\u001b[0m\u001b[1;32m    700\u001b[0m         \u001b[0;32mif\u001b[0m \u001b[0m_is_zipfile\u001b[0m\u001b[0;34m(\u001b[0m\u001b[0mopened_file\u001b[0m\u001b[0;34m)\u001b[0m\u001b[0;34m:\u001b[0m\u001b[0;34m\u001b[0m\u001b[0;34m\u001b[0m\u001b[0m\n\u001b[1;32m    701\u001b[0m             \u001b[0;31m# The zipfile reader is going to advance the current file position.\u001b[0m\u001b[0;34m\u001b[0m\u001b[0;34m\u001b[0m\u001b[0;34m\u001b[0m\u001b[0m\n",
      "\u001b[0;32m/opt/conda/lib/python3.8/site-packages/torch/serialization.py\u001b[0m in \u001b[0;36m_open_file_like\u001b[0;34m(name_or_buffer, mode)\u001b[0m\n\u001b[1;32m    229\u001b[0m \u001b[0;32mdef\u001b[0m \u001b[0m_open_file_like\u001b[0m\u001b[0;34m(\u001b[0m\u001b[0mname_or_buffer\u001b[0m\u001b[0;34m,\u001b[0m \u001b[0mmode\u001b[0m\u001b[0;34m)\u001b[0m\u001b[0;34m:\u001b[0m\u001b[0;34m\u001b[0m\u001b[0;34m\u001b[0m\u001b[0m\n\u001b[1;32m    230\u001b[0m     \u001b[0;32mif\u001b[0m \u001b[0m_is_path\u001b[0m\u001b[0;34m(\u001b[0m\u001b[0mname_or_buffer\u001b[0m\u001b[0;34m)\u001b[0m\u001b[0;34m:\u001b[0m\u001b[0;34m\u001b[0m\u001b[0;34m\u001b[0m\u001b[0m\n\u001b[0;32m--> 231\u001b[0;31m         \u001b[0;32mreturn\u001b[0m \u001b[0m_open_file\u001b[0m\u001b[0;34m(\u001b[0m\u001b[0mname_or_buffer\u001b[0m\u001b[0;34m,\u001b[0m \u001b[0mmode\u001b[0m\u001b[0;34m)\u001b[0m\u001b[0;34m\u001b[0m\u001b[0;34m\u001b[0m\u001b[0m\n\u001b[0m\u001b[1;32m    232\u001b[0m     \u001b[0;32melse\u001b[0m\u001b[0;34m:\u001b[0m\u001b[0;34m\u001b[0m\u001b[0;34m\u001b[0m\u001b[0m\n\u001b[1;32m    233\u001b[0m         \u001b[0;32mif\u001b[0m \u001b[0;34m'w'\u001b[0m \u001b[0;32min\u001b[0m \u001b[0mmode\u001b[0m\u001b[0;34m:\u001b[0m\u001b[0;34m\u001b[0m\u001b[0;34m\u001b[0m\u001b[0m\n",
      "\u001b[0;32m/opt/conda/lib/python3.8/site-packages/torch/serialization.py\u001b[0m in \u001b[0;36m__init__\u001b[0;34m(self, name, mode)\u001b[0m\n\u001b[1;32m    210\u001b[0m \u001b[0;32mclass\u001b[0m \u001b[0m_open_file\u001b[0m\u001b[0;34m(\u001b[0m\u001b[0m_opener\u001b[0m\u001b[0;34m)\u001b[0m\u001b[0;34m:\u001b[0m\u001b[0;34m\u001b[0m\u001b[0;34m\u001b[0m\u001b[0m\n\u001b[1;32m    211\u001b[0m     \u001b[0;32mdef\u001b[0m \u001b[0m__init__\u001b[0m\u001b[0;34m(\u001b[0m\u001b[0mself\u001b[0m\u001b[0;34m,\u001b[0m \u001b[0mname\u001b[0m\u001b[0;34m,\u001b[0m \u001b[0mmode\u001b[0m\u001b[0;34m)\u001b[0m\u001b[0;34m:\u001b[0m\u001b[0;34m\u001b[0m\u001b[0;34m\u001b[0m\u001b[0m\n\u001b[0;32m--> 212\u001b[0;31m         \u001b[0msuper\u001b[0m\u001b[0;34m(\u001b[0m\u001b[0m_open_file\u001b[0m\u001b[0;34m,\u001b[0m \u001b[0mself\u001b[0m\u001b[0;34m)\u001b[0m\u001b[0;34m.\u001b[0m\u001b[0m__init__\u001b[0m\u001b[0;34m(\u001b[0m\u001b[0mopen\u001b[0m\u001b[0;34m(\u001b[0m\u001b[0mname\u001b[0m\u001b[0;34m,\u001b[0m \u001b[0mmode\u001b[0m\u001b[0;34m)\u001b[0m\u001b[0;34m)\u001b[0m\u001b[0;34m\u001b[0m\u001b[0;34m\u001b[0m\u001b[0m\n\u001b[0m\u001b[1;32m    213\u001b[0m \u001b[0;34m\u001b[0m\u001b[0m\n\u001b[1;32m    214\u001b[0m     \u001b[0;32mdef\u001b[0m \u001b[0m__exit__\u001b[0m\u001b[0;34m(\u001b[0m\u001b[0mself\u001b[0m\u001b[0;34m,\u001b[0m \u001b[0;34m*\u001b[0m\u001b[0margs\u001b[0m\u001b[0;34m)\u001b[0m\u001b[0;34m:\u001b[0m\u001b[0;34m\u001b[0m\u001b[0;34m\u001b[0m\u001b[0m\n",
      "\u001b[0;31mFileNotFoundError\u001b[0m: [Errno 2] No such file or directory: '../outputs/models/pytorch/model_e19_2022_04_05_19_22_56.pth'"
     ]
    }
   ],
   "source": [
    "# path and model name are used to save the PDF output\n",
    "# but loading the model isn't needed unless the notebook\n",
    "# has been restarted.  \n",
    "path = '../outputs/models/pytorch/'\n",
    "# model_name = 'model_e0_2022_03_19_17_06_24.pth'\n",
    "#CDL_convnext_small_stfs_512_more_noise_rand_small_snd_framewise_model_e0_2022_03_20_07_39_47.pth_Test_B_cm\n",
    "# model_name = 'model_e4_2022_03_27_12_41_05.pth'\n",
    "model_name = 'model_e2_2022_03_27_22_13_59.pth'\n",
    "model_name = 'model_e2_2022_03_28_12_12_01.pth'\n",
    "model_name = 'model_e3_2022_03_28_12_48_54.pth'\n",
    "model_name = 'model_e2_2022_03_28_23_01_29.pth'\n",
    "model_name = 'model_e1_2022_03_29_09_57_52.pth'\n",
    "model_name = 'model_e3_2022_03_30_17_07_11.pth'\n",
    "model_name = 'model_e4_2022_03_30_19_42_55.pth' # 78\n",
    "model_name = 'model_e0_2022_04_01_11_56_17.pth'\n",
    "model_name = 'model_e4_2022_04_02_07_52_51.pth' ## 55 1.92\n",
    "model_name = 'model_e4_2022_04_02_19_15_01.pth' #70 6\n",
    "model_name = 'model_e9_2022_04_03_01_27_20.pth' #69 9\n",
    "model_name = 'model_e7_2022_04_03_10_55_48.pth' #70\n",
    "model_name = 'model_e8_2022_04_04_07_57_56.pth'\n",
    "model_name = 'model_e13_2022_04_04_14_10_44.pth' #74 convnext_base_in22ft1k\n",
    "\n",
    "model_name = 'model_e29_2022_04_04_16_54_46.pth' #convnext_base scratch\n",
    "\n",
    "model_name = 'model_e24_2022_04_05_14_21_05.pth' # tf_efficientnetv2_b3\n",
    "\n",
    "model_name = 'model_e19_2022_04_05_19_22_56.pth'\n",
    " \n",
    "\n",
    "model = load_model(path + model_name, model)\n"
   ]
  },
  {
   "cell_type": "code",
   "execution_count": null,
   "id": "f58c3e8e",
   "metadata": {},
   "outputs": [],
   "source": [
    "## feat_type is a unique name for the combination of paramters and pre-processing\n",
    "feat_type = 'CDL_tf_efficientnetv2_b3_scratch_1024_128_no_more_noise_rand_small_snd_framewise_tf_mask_2_class_avgmax_3_chan'"
   ]
  },
  {
   "cell_type": "code",
   "execution_count": null,
   "id": "e2deef2d",
   "metadata": {},
   "outputs": [],
   "source": [
    "# error analysis to CSV in ../data/errors/{model_name}\n",
    "y_preds_all, y_test_B = evaluate_model(model, test_loader_B, 1, n_channels=1)  # Predict directly over feature windows (1.92 s)\n",
    "audio_df_test_B['correct'] = np.equal(y_test_B.squeeze().numpy(), torch.argmax(y_preds_all.squeeze(),dim=1).numpy())\n",
    "audio_test_B_correct = audio_df_test_B[['id','correct']].groupby('id').agg({'correct':['sum','count']})\n",
    "audio_test_B_correct[('correct','incorrect')] = audio_test_B_correct[('correct','count')]-audio_test_B_correct[('correct','sum')]\n",
    "audio_test_B_correct.to_csv(f'../outputs/errors/{model_name}_errors_windows.csv')"
   ]
  },
  {
   "cell_type": "code",
   "execution_count": null,
   "id": "0caf0aca",
   "metadata": {},
   "outputs": [],
   "source": [
    "audio_test_B_correct"
   ]
  },
  {
   "cell_type": "markdown",
   "id": "e98c28ea",
   "metadata": {},
   "source": [
    "### Test B"
   ]
  },
  {
   "cell_type": "code",
   "execution_count": null,
   "id": "3061650f",
   "metadata": {},
   "outputs": [],
   "source": [
    "# convnext 2 class\n",
    "y_preds_all, y_test_B = evaluate_model(model, test_loader_B, 1, n_channels=1)  # Predict directly over feature windows (1.92 s)\n",
    "\n",
    "PE, MI, log_prob = get_results(y_preds_all.numpy(), y_test_B, filename = feat_type + '_' + model_name +'_Test_B')"
   ]
  },
  {
   "cell_type": "code",
   "execution_count": null,
   "id": "6a83ab8c",
   "metadata": {},
   "outputs": [],
   "source": [
    "# convnext 2 class\n",
    "y_preds_all, y_test_B = evaluate_model(model, test_loader_B, 1, n_channels=1)  # Predict directly over feature windows (1.92 s)\n",
    "\n",
    "PE, MI, log_prob = get_results(y_preds_all.numpy(), y_test_B, filename = feat_type + '_' + model_name +'_Test_B')"
   ]
  },
  {
   "cell_type": "code",
   "execution_count": null,
   "id": "d58fb500",
   "metadata": {},
   "outputs": [],
   "source": [
    "# convnext 2 class\n",
    "y_preds_all, y_test_B = evaluate_model(model, test_loader_B, 1, n_channels=1)  # Predict directly over feature windows (1.92 s)\n",
    "\n",
    "PE, MI, log_prob = get_results(y_preds_all.numpy(), y_test_B, filename = feat_type + '_' + model_name +'_Test_B')"
   ]
  },
  {
   "cell_type": "code",
   "execution_count": null,
   "id": "49eb6b92",
   "metadata": {},
   "outputs": [],
   "source": [
    "# convnext 2 class\n",
    "y_preds_all, y_test_B = evaluate_model(model, test_loader_B, 1, n_channels=1)  # Predict directly over feature windows (1.92 s)\n",
    "\n",
    "PE, MI, log_prob = get_results(y_preds_all.numpy(), y_test_B, filename = feat_type + '_' + model_name +'_Test_B')"
   ]
  },
  {
   "cell_type": "code",
   "execution_count": null,
   "id": "0b57b88c",
   "metadata": {},
   "outputs": [],
   "source": [
    "# convnext 2 class\n",
    "y_preds_all, y_test_B = evaluate_model(model, test_loader_B, 1, n_channels=1)  # Predict directly over feature windows (1.92 s)\n",
    "\n",
    "PE, MI, log_prob = get_results(y_preds_all.numpy(), y_test_B, filename = feat_type + '_' + model_name +'_Test_B')"
   ]
  },
  {
   "cell_type": "markdown",
   "id": "ecda2715",
   "metadata": {},
   "source": [
    "### Test A"
   ]
  },
  {
   "cell_type": "code",
   "execution_count": null,
   "id": "464147b7",
   "metadata": {},
   "outputs": [],
   "source": [
    "y_preds_all, y_test_A = evaluate_model(model, test_loader_A, 1, n_channels=1)  # Predict directly over feature windows (1.92 s)\n",
    "PE, MI, log_prob = get_results(y_preds_all.numpy(), y_test_A, filename = feat_type + '_' + model_name +'_Test_A')"
   ]
  },
  {
   "cell_type": "code",
   "execution_count": null,
   "id": "7a785137",
   "metadata": {},
   "outputs": [],
   "source": [
    "# don't run this stuff.  Saved for reference"
   ]
  },
  {
   "cell_type": "code",
   "execution_count": null,
   "id": "82566853",
   "metadata": {},
   "outputs": [],
   "source": [
    "from IPython.display import Audio, display"
   ]
  },
  {
   "cell_type": "code",
   "execution_count": null,
   "id": "9d44abb9",
   "metadata": {},
   "outputs": [],
   "source": [
    "plot_spectrogram(spec.cpu().detach().numpy()[0],title='512')"
   ]
  },
  {
   "cell_type": "code",
   "execution_count": null,
   "id": "400ca399",
   "metadata": {},
   "outputs": [],
   "source": [
    "sound, _ = _get_sample('../data/audio/199900.wav')"
   ]
  },
  {
   "cell_type": "code",
   "execution_count": null,
   "id": "3581cc5d",
   "metadata": {},
   "outputs": [],
   "source": [
    "display(Audio(sound.numpy()[0], rate=8000))"
   ]
  },
  {
   "cell_type": "code",
   "execution_count": null,
   "id": "29ae0117",
   "metadata": {},
   "outputs": [],
   "source": []
  },
  {
   "cell_type": "code",
   "execution_count": null,
   "id": "6f8ee259",
   "metadata": {},
   "outputs": [],
   "source": []
  },
  {
   "cell_type": "code",
   "execution_count": null,
   "id": "021b8578",
   "metadata": {},
   "outputs": [],
   "source": [
    "spec = spec_layer(sound)  # (B, F, T)\n",
    "spec = pcen_layer(spec)\n",
    "spec = norm_layer(spec)"
   ]
  },
  {
   "cell_type": "code",
   "execution_count": null,
   "id": "b4e679fc",
   "metadata": {},
   "outputs": [],
   "source": [
    "pcen_layer = PCENTransform(eps=1e-6, s=0.025, alpha=0.6, delta=0.1, r=0.2, trainable=True)\n",
    "norm_layer = Normalization(mode='framewise')"
   ]
  },
  {
   "cell_type": "code",
   "execution_count": null,
   "id": "774934e7",
   "metadata": {},
   "outputs": [],
   "source": [
    "def _get_sample(path, resample=None):\n",
    "    effects = [\n",
    "        [\"remix\", \"1\"]\n",
    "    ]\n",
    "    if resample:\n",
    "        effects.extend([\n",
    "          #[\"lowpass\", f\"{resample // 2}\"],\n",
    "#             [\"bandpass\", f\"600\",\"1000\"],\n",
    "          [\"rate\", f'{resample}'],\n",
    "          ['gain', '-n'],\n",
    "         [\"highpass\", \"600\"],\n",
    "        ])\n",
    "    #returns waveform [1,XXXXX], sample_rate\n",
    "    \n",
    "    return torchaudio.sox_effects.apply_effects_file(path, effects=effects)"
   ]
  },
  {
   "cell_type": "code",
   "execution_count": null,
   "id": "8ac4f1da",
   "metadata": {},
   "outputs": [],
   "source": [
    "def _get_noisy_sample(path, noise_df):\n",
    "    x, _ = _get_sample(path, resample=8000)\n",
    "    sample_length = x.shape[1]/8000\n",
    "    if len(noise_df[noise_df['length'] >= sample_length]) > 0:\n",
    "        noise_path = noise_df[noise_df['length'] >= sample_length].sample(1).iloc[0]['path']\n",
    "        noise, _ = _get_sample(noise_path, resample=8000)\n",
    "        \n",
    "        noise = noise[:, :x.shape[1]]\n",
    "\n",
    "        mos_power = x.norm(p=2)\n",
    "        noise_power = noise.norm(p=2)\n",
    "\n",
    "        snr = math.exp(1 / 10)\n",
    "        scale = snr * noise_power / mos_power\n",
    "        x = (scale * x + noise) / 2\n",
    "    return x"
   ]
  },
  {
   "cell_type": "code",
   "execution_count": null,
   "id": "7a693a4c",
   "metadata": {},
   "outputs": [],
   "source": [
    "x, _ = _get_sample('../data/audio/220371.wav', resample=8000)\n",
    "sample_length = x.shape[1]/8000\n",
    "noise_path = df_noise[df_noise['length'] >= sample_length].sample(1).iloc[0]['path']\n",
    "noise, _ = _get_sample(noise_path, resample=8000)\n",
    "\n",
    "noise = noise[:, :x.shape[1]]"
   ]
  },
  {
   "cell_type": "code",
   "execution_count": null,
   "id": "f56f0356",
   "metadata": {},
   "outputs": [],
   "source": [
    "mos_power = x.norm(p=2)\n",
    "noise_power = noise.norm(p=2)\n",
    "mos_power, noise_power"
   ]
  },
  {
   "cell_type": "code",
   "execution_count": null,
   "id": "f758ed96",
   "metadata": {},
   "outputs": [],
   "source": [
    "snr = math.exp(3 / 10)"
   ]
  },
  {
   "cell_type": "code",
   "execution_count": null,
   "id": "b3b26239",
   "metadata": {},
   "outputs": [],
   "source": [
    "scale = snr * noise_power / mos_power"
   ]
  },
  {
   "cell_type": "code",
   "execution_count": null,
   "id": "07f3db09",
   "metadata": {},
   "outputs": [],
   "source": [
    "scale"
   ]
  },
  {
   "cell_type": "code",
   "execution_count": null,
   "id": "e06ce4ce",
   "metadata": {},
   "outputs": [],
   "source": [
    "x_n = (scale * x / 10 + noise) / 2"
   ]
  },
  {
   "cell_type": "code",
   "execution_count": null,
   "id": "7eb813e4",
   "metadata": {},
   "outputs": [],
   "source": [
    "x_n"
   ]
  },
  {
   "cell_type": "code",
   "execution_count": null,
   "id": "143f1972",
   "metadata": {},
   "outputs": [],
   "source": [
    "display(Audio(x_n, rate=8000))"
   ]
  },
  {
   "cell_type": "code",
   "execution_count": null,
   "id": "bcc2a815",
   "metadata": {},
   "outputs": [],
   "source": [
    "display(Audio(_get_sample(noise_path, resample=8000)[0].numpy()[0], rate=8000))"
   ]
  },
  {
   "cell_type": "code",
   "execution_count": null,
   "id": "b64f029b",
   "metadata": {},
   "outputs": [],
   "source": [
    "display(Audio(_get_noisy_sample('../data/audio/220371.wav', noise_df=df_noise).numpy()[0], rate=8000))"
   ]
  },
  {
   "cell_type": "code",
   "execution_count": null,
   "id": "7394bf94",
   "metadata": {},
   "outputs": [],
   "source": [
    "def plot_spectrogram(spec, title=None, ylabel='freq_bin', aspect='auto', xmax=None):\n",
    "    fig, axs = plt.subplots(1, 1)\n",
    "    axs.set_title(title or 'Spectrogram (db)')\n",
    "    axs.set_ylabel(ylabel)\n",
    "    axs.set_xlabel('frame')\n",
    "#     im = axs.imshow(librosa.power_to_db(spec), origin='lower', aspect=aspect)\n",
    "    im = axs.imshow(spec, origin='lower', aspect=aspect)\n",
    "    if xmax:\n",
    "        axs.set_xlim((0, xmax))\n",
    "    fig.colorbar(im, ax=axs)\n",
    "    plt.show(block=False)"
   ]
  },
  {
   "cell_type": "code",
   "execution_count": null,
   "id": "6f3fcfeb",
   "metadata": {},
   "outputs": [],
   "source": [
    "plot_spectrogram(F.normalize(spec_layer(x.to('cuda:0')),dim=1).cpu().detach().numpy()[2])"
   ]
  },
  {
   "cell_type": "code",
   "execution_count": null,
   "id": "f1c6f67d",
   "metadata": {},
   "outputs": [],
   "source": [
    "plot_spectrogram(spec_layer(x.to('cuda:0')).cpu().detach().numpy()[2])"
   ]
  },
  {
   "cell_type": "code",
   "execution_count": null,
   "id": "5ae0015c",
   "metadata": {},
   "outputs": [],
   "source": [
    "plot_spectrogram(tm(s[aug > 1]).cpu().detach().numpy()[0])"
   ]
  },
  {
   "cell_type": "code",
   "execution_count": null,
   "id": "67b60d5e",
   "metadata": {},
   "outputs": [],
   "source": [
    "## run this cell to list pretrained models\n",
    "avail_pretrained_models = timm.list_models(pretrained=True)\n",
    "avail_pretrained_models"
   ]
  },
  {
   "cell_type": "code",
   "execution_count": null,
   "id": "ead7c091",
   "metadata": {},
   "outputs": [],
   "source": [
    "## put a model name in here to downlad a pretrained model and convert it\n",
    "## to binary classification\n",
    "pt_model = Model('beit_base_patch16_384',384)"
   ]
  },
  {
   "cell_type": "code",
   "execution_count": null,
   "id": "5e6385b3",
   "metadata": {},
   "outputs": [],
   "source": [
    "# look at layer names to figure out what to freeze\n",
    "# You'll have to go edit the Model class and reload it based \n",
    "# on the model names you're freezing here\n",
    "[name for name, _ in model.named_parameters()]"
   ]
  },
  {
   "cell_type": "code",
   "execution_count": null,
   "id": "68df139b",
   "metadata": {},
   "outputs": [],
   "source": []
  },
  {
   "cell_type": "code",
   "execution_count": null,
   "id": "98a9f95e",
   "metadata": {},
   "outputs": [],
   "source": [
    "timm.__version__"
   ]
  },
  {
   "cell_type": "code",
   "execution_count": null,
   "id": "1400e915",
   "metadata": {},
   "outputs": [],
   "source": []
  }
 ],
 "metadata": {
  "kernelspec": {
   "display_name": "Python 3 (ipykernel)",
   "language": "python",
   "name": "python3"
  },
  "language_info": {
   "codemirror_mode": {
    "name": "ipython",
    "version": 3
   },
   "file_extension": ".py",
   "mimetype": "text/x-python",
   "name": "python",
   "nbconvert_exporter": "python",
   "pygments_lexer": "ipython3",
   "version": "3.8.12"
  }
 },
 "nbformat": 4,
 "nbformat_minor": 5
}
